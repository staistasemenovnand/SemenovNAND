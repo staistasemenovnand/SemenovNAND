{
 "cells": [
  {
   "cell_type": "markdown",
   "metadata": {},
   "source": [
    "## <center> ML-7. Прогнозирование биологического ответа (HW-3)"
   ]
  },
  {
   "cell_type": "markdown",
   "metadata": {},
   "source": [
    "Необходимо предсказать биологический ответ молекул (столбец 'Activity') по их химическому составу (столбцы D1-D1776).\n",
    "Данные представлены в формате CSV.  Каждая строка представляет молекулу. \n",
    "\n",
    "Первый столбец Activity содержит экспериментальные данные, описывающие фактический биологический ответ [0, 1]; \n",
    "Остальные столбцы D1-D1776 представляют собой молекулярные дескрипторы — это вычисляемые свойства, которые могут фиксировать некоторые характеристики молекулы, например размер, форму или состав элементов.\n",
    "\n",
    "Предварительная обработка не требуется, данные уже закодированы и нормализованы.\n",
    "\n",
    "В качестве метрики будем использовать F1-score.\n",
    "\n",
    "Необходимо обучить две модели: логистическую регрессию и случайный лес. Далее нужно сделать подбор гиперпараметров с помощью базовых и продвинутых методов оптимизации. Важно использовать все четыре метода (GridSeachCV, RandomizedSearchCV, Hyperopt, Optuna) хотя бы по разу, максимальное количество итераций не должно превышать 50."
   ]
  },
  {
   "cell_type": "markdown",
   "metadata": {},
   "source": [
    "### <center> Импорт необходимых библиотек и модулей."
   ]
  },
  {
   "cell_type": "code",
   "execution_count": 1,
   "metadata": {},
   "outputs": [
    {
     "name": "stderr",
     "output_type": "stream",
     "text": [
      "C:\\Users\\user\\AppData\\Local\\Temp\\ipykernel_10960\\1965953909.py:22: MatplotlibDeprecationWarning: The seaborn styles shipped by Matplotlib are deprecated since 3.6, as they no longer correspond to the styles shipped by seaborn. However, they will remain available as 'seaborn-v0_8-<style>'. Alternatively, directly use the seaborn API instead.\n",
      "  plt.style.use('seaborn')\n"
     ]
    }
   ],
   "source": [
    "import numpy as np #для матричных вычислений\n",
    "import pandas as pd #для анализа и предобработки данных\n",
    "import matplotlib.pyplot as plt #для визуализации\n",
    "import seaborn as sns #для визуализации\n",
    "\n",
    "from sklearn import linear_model #линейные моделиё\n",
    "from sklearn import tree #деревья решений\n",
    "from sklearn import ensemble #ансамбли\n",
    "from sklearn import metrics #метрики\n",
    "from sklearn import preprocessing #предобработка\n",
    "from sklearn.model_selection import train_test_split #сплитование выборки\n",
    "\n",
    "# библиотеки для оптимизации гирепараметров\n",
    "from sklearn.model_selection import GridSearchCV\n",
    "from sklearn.model_selection import RandomizedSearchCV\n",
    "from sklearn.model_selection import cross_val_score\n",
    "import hyperopt\n",
    "from hyperopt import hp, fmin, tpe, Trials\n",
    "import optuna\n",
    "\n",
    "%matplotlib inline\n",
    "plt.style.use('seaborn')"
   ]
  },
  {
   "cell_type": "markdown",
   "metadata": {},
   "source": [
    "### <center> Загрузка данных"
   ]
  },
  {
   "cell_type": "code",
   "execution_count": 2,
   "metadata": {},
   "outputs": [
    {
     "data": {
      "text/html": [
       "<div>\n",
       "<style scoped>\n",
       "    .dataframe tbody tr th:only-of-type {\n",
       "        vertical-align: middle;\n",
       "    }\n",
       "\n",
       "    .dataframe tbody tr th {\n",
       "        vertical-align: top;\n",
       "    }\n",
       "\n",
       "    .dataframe thead th {\n",
       "        text-align: right;\n",
       "    }\n",
       "</style>\n",
       "<table border=\"1\" class=\"dataframe\">\n",
       "  <thead>\n",
       "    <tr style=\"text-align: right;\">\n",
       "      <th></th>\n",
       "      <th>Activity</th>\n",
       "      <th>D1</th>\n",
       "      <th>D2</th>\n",
       "      <th>D3</th>\n",
       "      <th>D4</th>\n",
       "      <th>D5</th>\n",
       "      <th>D6</th>\n",
       "      <th>D7</th>\n",
       "      <th>D8</th>\n",
       "      <th>D9</th>\n",
       "      <th>...</th>\n",
       "      <th>D1767</th>\n",
       "      <th>D1768</th>\n",
       "      <th>D1769</th>\n",
       "      <th>D1770</th>\n",
       "      <th>D1771</th>\n",
       "      <th>D1772</th>\n",
       "      <th>D1773</th>\n",
       "      <th>D1774</th>\n",
       "      <th>D1775</th>\n",
       "      <th>D1776</th>\n",
       "    </tr>\n",
       "  </thead>\n",
       "  <tbody>\n",
       "    <tr>\n",
       "      <th>0</th>\n",
       "      <td>1</td>\n",
       "      <td>0.000000</td>\n",
       "      <td>0.497009</td>\n",
       "      <td>0.10</td>\n",
       "      <td>0.0</td>\n",
       "      <td>0.132956</td>\n",
       "      <td>0.678031</td>\n",
       "      <td>0.273166</td>\n",
       "      <td>0.585445</td>\n",
       "      <td>0.743663</td>\n",
       "      <td>...</td>\n",
       "      <td>0</td>\n",
       "      <td>0</td>\n",
       "      <td>0</td>\n",
       "      <td>0</td>\n",
       "      <td>0</td>\n",
       "      <td>0</td>\n",
       "      <td>0</td>\n",
       "      <td>0</td>\n",
       "      <td>0</td>\n",
       "      <td>0</td>\n",
       "    </tr>\n",
       "    <tr>\n",
       "      <th>1</th>\n",
       "      <td>1</td>\n",
       "      <td>0.366667</td>\n",
       "      <td>0.606291</td>\n",
       "      <td>0.05</td>\n",
       "      <td>0.0</td>\n",
       "      <td>0.111209</td>\n",
       "      <td>0.803455</td>\n",
       "      <td>0.106105</td>\n",
       "      <td>0.411754</td>\n",
       "      <td>0.836582</td>\n",
       "      <td>...</td>\n",
       "      <td>1</td>\n",
       "      <td>1</td>\n",
       "      <td>1</td>\n",
       "      <td>1</td>\n",
       "      <td>0</td>\n",
       "      <td>1</td>\n",
       "      <td>0</td>\n",
       "      <td>0</td>\n",
       "      <td>1</td>\n",
       "      <td>0</td>\n",
       "    </tr>\n",
       "    <tr>\n",
       "      <th>2</th>\n",
       "      <td>1</td>\n",
       "      <td>0.033300</td>\n",
       "      <td>0.480124</td>\n",
       "      <td>0.00</td>\n",
       "      <td>0.0</td>\n",
       "      <td>0.209791</td>\n",
       "      <td>0.610350</td>\n",
       "      <td>0.356453</td>\n",
       "      <td>0.517720</td>\n",
       "      <td>0.679051</td>\n",
       "      <td>...</td>\n",
       "      <td>0</td>\n",
       "      <td>0</td>\n",
       "      <td>0</td>\n",
       "      <td>0</td>\n",
       "      <td>0</td>\n",
       "      <td>0</td>\n",
       "      <td>0</td>\n",
       "      <td>0</td>\n",
       "      <td>0</td>\n",
       "      <td>0</td>\n",
       "    </tr>\n",
       "    <tr>\n",
       "      <th>3</th>\n",
       "      <td>1</td>\n",
       "      <td>0.000000</td>\n",
       "      <td>0.538825</td>\n",
       "      <td>0.00</td>\n",
       "      <td>0.5</td>\n",
       "      <td>0.196344</td>\n",
       "      <td>0.724230</td>\n",
       "      <td>0.235606</td>\n",
       "      <td>0.288764</td>\n",
       "      <td>0.805110</td>\n",
       "      <td>...</td>\n",
       "      <td>0</td>\n",
       "      <td>0</td>\n",
       "      <td>0</td>\n",
       "      <td>0</td>\n",
       "      <td>0</td>\n",
       "      <td>0</td>\n",
       "      <td>0</td>\n",
       "      <td>0</td>\n",
       "      <td>0</td>\n",
       "      <td>0</td>\n",
       "    </tr>\n",
       "    <tr>\n",
       "      <th>4</th>\n",
       "      <td>0</td>\n",
       "      <td>0.100000</td>\n",
       "      <td>0.517794</td>\n",
       "      <td>0.00</td>\n",
       "      <td>0.0</td>\n",
       "      <td>0.494734</td>\n",
       "      <td>0.781422</td>\n",
       "      <td>0.154361</td>\n",
       "      <td>0.303809</td>\n",
       "      <td>0.812646</td>\n",
       "      <td>...</td>\n",
       "      <td>0</td>\n",
       "      <td>0</td>\n",
       "      <td>0</td>\n",
       "      <td>0</td>\n",
       "      <td>0</td>\n",
       "      <td>0</td>\n",
       "      <td>0</td>\n",
       "      <td>0</td>\n",
       "      <td>0</td>\n",
       "      <td>0</td>\n",
       "    </tr>\n",
       "    <tr>\n",
       "      <th>...</th>\n",
       "      <td>...</td>\n",
       "      <td>...</td>\n",
       "      <td>...</td>\n",
       "      <td>...</td>\n",
       "      <td>...</td>\n",
       "      <td>...</td>\n",
       "      <td>...</td>\n",
       "      <td>...</td>\n",
       "      <td>...</td>\n",
       "      <td>...</td>\n",
       "      <td>...</td>\n",
       "      <td>...</td>\n",
       "      <td>...</td>\n",
       "      <td>...</td>\n",
       "      <td>...</td>\n",
       "      <td>...</td>\n",
       "      <td>...</td>\n",
       "      <td>...</td>\n",
       "      <td>...</td>\n",
       "      <td>...</td>\n",
       "      <td>...</td>\n",
       "    </tr>\n",
       "    <tr>\n",
       "      <th>3746</th>\n",
       "      <td>1</td>\n",
       "      <td>0.033300</td>\n",
       "      <td>0.506409</td>\n",
       "      <td>0.10</td>\n",
       "      <td>0.0</td>\n",
       "      <td>0.209887</td>\n",
       "      <td>0.633426</td>\n",
       "      <td>0.297659</td>\n",
       "      <td>0.376124</td>\n",
       "      <td>0.727093</td>\n",
       "      <td>...</td>\n",
       "      <td>0</td>\n",
       "      <td>0</td>\n",
       "      <td>0</td>\n",
       "      <td>0</td>\n",
       "      <td>0</td>\n",
       "      <td>0</td>\n",
       "      <td>0</td>\n",
       "      <td>0</td>\n",
       "      <td>0</td>\n",
       "      <td>0</td>\n",
       "    </tr>\n",
       "    <tr>\n",
       "      <th>3747</th>\n",
       "      <td>1</td>\n",
       "      <td>0.133333</td>\n",
       "      <td>0.651023</td>\n",
       "      <td>0.15</td>\n",
       "      <td>0.0</td>\n",
       "      <td>0.151154</td>\n",
       "      <td>0.766505</td>\n",
       "      <td>0.170876</td>\n",
       "      <td>0.404546</td>\n",
       "      <td>0.787935</td>\n",
       "      <td>...</td>\n",
       "      <td>0</td>\n",
       "      <td>0</td>\n",
       "      <td>1</td>\n",
       "      <td>0</td>\n",
       "      <td>1</td>\n",
       "      <td>0</td>\n",
       "      <td>1</td>\n",
       "      <td>0</td>\n",
       "      <td>0</td>\n",
       "      <td>0</td>\n",
       "    </tr>\n",
       "    <tr>\n",
       "      <th>3748</th>\n",
       "      <td>0</td>\n",
       "      <td>0.200000</td>\n",
       "      <td>0.520564</td>\n",
       "      <td>0.00</td>\n",
       "      <td>0.0</td>\n",
       "      <td>0.179949</td>\n",
       "      <td>0.768785</td>\n",
       "      <td>0.177341</td>\n",
       "      <td>0.471179</td>\n",
       "      <td>0.872241</td>\n",
       "      <td>...</td>\n",
       "      <td>0</td>\n",
       "      <td>0</td>\n",
       "      <td>0</td>\n",
       "      <td>0</td>\n",
       "      <td>0</td>\n",
       "      <td>0</td>\n",
       "      <td>0</td>\n",
       "      <td>0</td>\n",
       "      <td>0</td>\n",
       "      <td>0</td>\n",
       "    </tr>\n",
       "    <tr>\n",
       "      <th>3749</th>\n",
       "      <td>1</td>\n",
       "      <td>0.100000</td>\n",
       "      <td>0.765646</td>\n",
       "      <td>0.00</td>\n",
       "      <td>0.0</td>\n",
       "      <td>0.536954</td>\n",
       "      <td>0.634936</td>\n",
       "      <td>0.342713</td>\n",
       "      <td>0.447162</td>\n",
       "      <td>0.672689</td>\n",
       "      <td>...</td>\n",
       "      <td>0</td>\n",
       "      <td>0</td>\n",
       "      <td>0</td>\n",
       "      <td>0</td>\n",
       "      <td>0</td>\n",
       "      <td>0</td>\n",
       "      <td>0</td>\n",
       "      <td>0</td>\n",
       "      <td>0</td>\n",
       "      <td>0</td>\n",
       "    </tr>\n",
       "    <tr>\n",
       "      <th>3750</th>\n",
       "      <td>0</td>\n",
       "      <td>0.133333</td>\n",
       "      <td>0.533952</td>\n",
       "      <td>0.00</td>\n",
       "      <td>0.0</td>\n",
       "      <td>0.347966</td>\n",
       "      <td>0.757971</td>\n",
       "      <td>0.230667</td>\n",
       "      <td>0.272652</td>\n",
       "      <td>0.854116</td>\n",
       "      <td>...</td>\n",
       "      <td>0</td>\n",
       "      <td>0</td>\n",
       "      <td>0</td>\n",
       "      <td>0</td>\n",
       "      <td>0</td>\n",
       "      <td>0</td>\n",
       "      <td>0</td>\n",
       "      <td>0</td>\n",
       "      <td>0</td>\n",
       "      <td>0</td>\n",
       "    </tr>\n",
       "  </tbody>\n",
       "</table>\n",
       "<p>3751 rows × 1777 columns</p>\n",
       "</div>"
      ],
      "text/plain": [
       "      Activity        D1        D2    D3   D4        D5        D6        D7   \n",
       "0            1  0.000000  0.497009  0.10  0.0  0.132956  0.678031  0.273166  \\\n",
       "1            1  0.366667  0.606291  0.05  0.0  0.111209  0.803455  0.106105   \n",
       "2            1  0.033300  0.480124  0.00  0.0  0.209791  0.610350  0.356453   \n",
       "3            1  0.000000  0.538825  0.00  0.5  0.196344  0.724230  0.235606   \n",
       "4            0  0.100000  0.517794  0.00  0.0  0.494734  0.781422  0.154361   \n",
       "...        ...       ...       ...   ...  ...       ...       ...       ...   \n",
       "3746         1  0.033300  0.506409  0.10  0.0  0.209887  0.633426  0.297659   \n",
       "3747         1  0.133333  0.651023  0.15  0.0  0.151154  0.766505  0.170876   \n",
       "3748         0  0.200000  0.520564  0.00  0.0  0.179949  0.768785  0.177341   \n",
       "3749         1  0.100000  0.765646  0.00  0.0  0.536954  0.634936  0.342713   \n",
       "3750         0  0.133333  0.533952  0.00  0.0  0.347966  0.757971  0.230667   \n",
       "\n",
       "            D8        D9  ...  D1767  D1768  D1769  D1770  D1771  D1772   \n",
       "0     0.585445  0.743663  ...      0      0      0      0      0      0  \\\n",
       "1     0.411754  0.836582  ...      1      1      1      1      0      1   \n",
       "2     0.517720  0.679051  ...      0      0      0      0      0      0   \n",
       "3     0.288764  0.805110  ...      0      0      0      0      0      0   \n",
       "4     0.303809  0.812646  ...      0      0      0      0      0      0   \n",
       "...        ...       ...  ...    ...    ...    ...    ...    ...    ...   \n",
       "3746  0.376124  0.727093  ...      0      0      0      0      0      0   \n",
       "3747  0.404546  0.787935  ...      0      0      1      0      1      0   \n",
       "3748  0.471179  0.872241  ...      0      0      0      0      0      0   \n",
       "3749  0.447162  0.672689  ...      0      0      0      0      0      0   \n",
       "3750  0.272652  0.854116  ...      0      0      0      0      0      0   \n",
       "\n",
       "      D1773  D1774  D1775  D1776  \n",
       "0         0      0      0      0  \n",
       "1         0      0      1      0  \n",
       "2         0      0      0      0  \n",
       "3         0      0      0      0  \n",
       "4         0      0      0      0  \n",
       "...     ...    ...    ...    ...  \n",
       "3746      0      0      0      0  \n",
       "3747      1      0      0      0  \n",
       "3748      0      0      0      0  \n",
       "3749      0      0      0      0  \n",
       "3750      0      0      0      0  \n",
       "\n",
       "[3751 rows x 1777 columns]"
      ]
     },
     "execution_count": 2,
     "metadata": {},
     "output_type": "execute_result"
    }
   ],
   "source": [
    "data = pd.read_csv('data/_train_sem09 (1).csv')\n",
    "data"
   ]
  },
  {
   "cell_type": "markdown",
   "metadata": {},
   "source": [
    "Разобьем набор на факторы и результат, а далее на обучающую и тестовую выборки."
   ]
  },
  {
   "cell_type": "code",
   "execution_count": 3,
   "metadata": {},
   "outputs": [],
   "source": [
    "X = data.drop(['Activity'], axis=1)\n",
    "y = data['Activity']"
   ]
  },
  {
   "cell_type": "code",
   "execution_count": 4,
   "metadata": {},
   "outputs": [],
   "source": [
    "X_train, X_test, y_train, y_test = train_test_split(X, y, stratify=y, random_state = 1, test_size = 0.2)"
   ]
  },
  {
   "cell_type": "markdown",
   "metadata": {},
   "source": [
    "###  <center> **Подбор гиперпараметов для модели логистической регрессии.**"
   ]
  },
  {
   "cell_type": "code",
   "execution_count": 5,
   "metadata": {},
   "outputs": [
    {
     "name": "stdout",
     "output_type": "stream",
     "text": [
      "f1_score на тестовом наборе: 0.78\n"
     ]
    }
   ],
   "source": [
    "#Создаем объект класса логистическая регрессия\n",
    "log_reg = linear_model.LogisticRegression(max_iter = 1000)\n",
    "#Обучаем модель, минимизируя logloss\n",
    "log_reg.fit(X_train, y_train)\n",
    "y_test_pred = log_reg.predict(X_test)\n",
    "print('f1_score на тестовом наборе: {:.2f}'.format(metrics.f1_score(y_test, y_test_pred)))"
   ]
  },
  {
   "cell_type": "markdown",
   "metadata": {},
   "source": [
    "### <center> GridSearchCV"
   ]
  },
  {
   "cell_type": "code",
   "execution_count": 6,
   "metadata": {},
   "outputs": [
    {
     "name": "stdout",
     "output_type": "stream",
     "text": [
      "CPU times: total: 5.7 s\n",
      "Wall time: 3min\n",
      "f1_score на тестовом наборе: 0.78\n",
      "Наилучшие значения гиперпараметров: {'C': 0.1, 'penalty': 'l2', 'solver': 'lbfgs'}\n"
     ]
    },
    {
     "name": "stderr",
     "output_type": "stream",
     "text": [
      "c:\\Users\\user\\AppData\\Local\\Programs\\Python\\Python311\\Lib\\site-packages\\sklearn\\linear_model\\_logistic.py:460: ConvergenceWarning: lbfgs failed to converge (status=1):\n",
      "STOP: TOTAL NO. of ITERATIONS REACHED LIMIT.\n",
      "\n",
      "Increase the number of iterations (max_iter) or scale the data as shown in:\n",
      "    https://scikit-learn.org/stable/modules/preprocessing.html\n",
      "Please also refer to the documentation for alternative solver options:\n",
      "    https://scikit-learn.org/stable/modules/linear_model.html#logistic-regression\n",
      "  n_iter_i = _check_optimize_result(\n"
     ]
    }
   ],
   "source": [
    "param_grid = [\n",
    "              {'penalty': ['l2', 'none'] , # тип регуляризации\n",
    "              'solver': ['lbfgs', 'sag'], # алгоритм оптимизации\n",
    "               'C': [0.01, 0.1, 0.3, 0.5, 0.7, 0.9, 1]}, # уровень силы регурялизации\n",
    "              \n",
    "              {'penalty': ['l1', 'l2'] ,\n",
    "              'solver': ['liblinear', 'saga'],\n",
    "               'C': [0.01, 0.1, 0.3, 0.5, 0.7, 0.9, 1]}\n",
    "]\n",
    "grid_search = GridSearchCV(\n",
    "    estimator=linear_model.LogisticRegression(random_state=42, max_iter=50), \n",
    "    param_grid=param_grid, \n",
    "    cv=5, \n",
    "    n_jobs = -1\n",
    ")  \n",
    "%time grid_search.fit(X_train, y_train) \n",
    "print('f1_score на тестовом наборе: {:.2f}'.format(metrics.f1_score(y_test, y_test_pred)))\n",
    "print(\"Наилучшие значения гиперпараметров: {}\".format(grid_search.best_params_))"
   ]
  },
  {
   "cell_type": "markdown",
   "metadata": {},
   "source": [
    "### <center> RandomizedSearchCV"
   ]
  },
  {
   "cell_type": "code",
   "execution_count": 17,
   "metadata": {},
   "outputs": [
    {
     "name": "stdout",
     "output_type": "stream",
     "text": [
      "CPU times: total: 2.91 s\n",
      "Wall time: 2min 37s\n",
      "f1_score на тестовом наборе: 0.78\n",
      "Наилучшие значения гиперпараметров: {'C': 0.1, 'penalty': 'l2', 'solver': 'lbfgs'}\n"
     ]
    },
    {
     "name": "stderr",
     "output_type": "stream",
     "text": [
      "c:\\Users\\user\\AppData\\Local\\Programs\\Python\\Python311\\Lib\\site-packages\\sklearn\\linear_model\\_logistic.py:460: ConvergenceWarning: lbfgs failed to converge (status=1):\n",
      "STOP: TOTAL NO. of ITERATIONS REACHED LIMIT.\n",
      "\n",
      "Increase the number of iterations (max_iter) or scale the data as shown in:\n",
      "    https://scikit-learn.org/stable/modules/preprocessing.html\n",
      "Please also refer to the documentation for alternative solver options:\n",
      "    https://scikit-learn.org/stable/modules/linear_model.html#logistic-regression\n",
      "  n_iter_i = _check_optimize_result(\n"
     ]
    }
   ],
   "source": [
    "param_distribution = [\n",
    "              {'penalty': ['l2', 'none'] , # тип регуляризации\n",
    "              'solver': ['lbfgs', 'sag'], # алгоритм оптимизации\n",
    "               'C': [0.01, 0.1, 0.3, 0.5, 0.7, 0.9, 1]}, # уровень силы регурялизации\n",
    "              \n",
    "              {'penalty': ['l1', 'l2'] ,\n",
    "              'solver': ['liblinear', 'saga'],\n",
    "               'C': [0.01, 0.1, 0.3, 0.5, 0.7, 0.9, 1]}\n",
    "]\n",
    "\n",
    "random_search = RandomizedSearchCV(\n",
    "    estimator=linear_model.LogisticRegression(random_state=42, max_iter=1000), \n",
    "    param_distributions=param_distributions, \n",
    "    cv=5, \n",
    "    n_iter = 50, \n",
    "    n_jobs = -1\n",
    ")  \n",
    "%time random_search.fit(X_train, y_train) \n",
    "y_test_pred = random_search.predict(X_test)\n",
    "print('f1_score на тестовом наборе: {:.2f}'.format(metrics.f1_score(y_test, y_test_pred)))\n",
    "print(\"Наилучшие значения гиперпараметров: {}\".format(random_search.best_params_))"
   ]
  },
  {
   "cell_type": "markdown",
   "metadata": {},
   "source": [
    "###  <center> **Подбор гиперпараметов для модели случайного леса.**"
   ]
  },
  {
   "cell_type": "code",
   "execution_count": 8,
   "metadata": {},
   "outputs": [
    {
     "name": "stdout",
     "output_type": "stream",
     "text": [
      "Train: 1.00\n",
      "Test: 0.81\n"
     ]
    }
   ],
   "source": [
    "#Создаем объект класса случайный лес\n",
    "rf = ensemble.RandomForestClassifier(random_state=42)\n",
    "#Обучаем модель\n",
    "rf.fit(X_train, y_train)\n",
    "#Выводим значения метрики \n",
    "y_train_pred = rf.predict(X_train)\n",
    "print('Train: {:.2f}'.format(metrics.f1_score(y_train, y_train_pred)))\n",
    "y_test_pred = rf.predict(X_test)\n",
    "print('Test: {:.2f}'.format(metrics.f1_score(y_test, y_test_pred)))"
   ]
  },
  {
   "cell_type": "markdown",
   "metadata": {},
   "source": [
    "### <center> Hyperopt"
   ]
  },
  {
   "cell_type": "code",
   "execution_count": 13,
   "metadata": {},
   "outputs": [],
   "source": [
    "# зададим пространство поиска гиперпараметров\n",
    "space={'n_estimators': hp.quniform('n_estimators', 100, 200, 1),\n",
    "       'max_depth' : hp.quniform('max_depth', 10, 20, 1),\n",
    "       'min_samples_leaf': hp.quniform('min_samples_leaf', 2, 10, 1)\n",
    "      }"
   ]
  },
  {
   "cell_type": "code",
   "execution_count": 14,
   "metadata": {},
   "outputs": [],
   "source": [
    "# зафксируем random_state\n",
    "random_state = 42\n",
    "def hyperopt_rf(params, cv=5, X=X_train, y=y_train, random_state=random_state):\n",
    "    # функция получает комбинацию гиперпараметров в \"params\"\n",
    "    params = {'n_estimators': int(params['n_estimators']), \n",
    "              'max_depth': int(params['max_depth']), \n",
    "             'min_samples_leaf': int(params['min_samples_leaf'])\n",
    "              }\n",
    "  \n",
    "    # используем эту комбинацию для построения модели\n",
    "    model = ensemble.RandomForestClassifier(**params, random_state=random_state)\n",
    "\n",
    "    # обучаем модель\n",
    "    model.fit(X, y)\n",
    "    # применим  cross validation с тем же количеством фолдов\n",
    "    score = cross_val_score(model, X, y, cv=cv, scoring=\"f1\", n_jobs=-1).mean()\n",
    "\n",
    "    # метрику необходимо минимизировать, поэтому ставим знак минус\n",
    "    return -score"
   ]
  },
  {
   "cell_type": "code",
   "execution_count": 15,
   "metadata": {},
   "outputs": [
    {
     "name": "stdout",
     "output_type": "stream",
     "text": [
      "  0%|          | 0/50 [00:00<?, ?trial/s, best loss=?]"
     ]
    },
    {
     "name": "stdout",
     "output_type": "stream",
     "text": [
      "100%|██████████| 50/50 [11:07<00:00, 13.36s/trial, best loss: -0.8106630294355369]\n",
      "Наилучшие значения гиперпараметров {'max_depth': 14.0, 'min_samples_leaf': 3.0, 'n_estimators': 132.0}\n",
      "CPU times: total: 4min 14s\n",
      "Wall time: 11min 7s\n"
     ]
    }
   ],
   "source": [
    "%%time\n",
    "# начинаем подбор гиперпараметров\n",
    "\n",
    "trials = Trials() # используется для логирования результатов\n",
    "\n",
    "best=fmin(hyperopt_rf, # наша функция \n",
    "          space=space, # пространство гиперпараметров\n",
    "          algo=tpe.suggest, # алгоритм оптимизации, установлен по умолчанию, задавать необязательно\n",
    "          max_evals=50, # максимальное количество итераций\n",
    "          trials=trials, # логирование результатов\n",
    "          rstate=np.random.default_rng(random_state)\n",
    "         )\n",
    "print(\"Наилучшие значения гиперпараметров {}\".format(best))"
   ]
  },
  {
   "cell_type": "code",
   "execution_count": 18,
   "metadata": {},
   "outputs": [
    {
     "name": "stdout",
     "output_type": "stream",
     "text": [
      "f1_score на обучающем наборе: 0.96\n",
      "f1_score на тестовом наборе: 0.82\n"
     ]
    }
   ],
   "source": [
    "# рассчитаем точность для тестовой выборки\n",
    "model = ensemble.RandomForestClassifier(\n",
    "    random_state=random_state, \n",
    "    n_estimators=int(best['n_estimators']),\n",
    "    max_depth=int(best['max_depth']),\n",
    "    min_samples_leaf=int(best['min_samples_leaf'])\n",
    ")\n",
    "model.fit(X_train, y_train)\n",
    "y_train_pred = model.predict(X_train)\n",
    "print('f1_score на обучающем наборе: {:.2f}'.format(metrics.f1_score(y_train, y_train_pred)))\n",
    "y_test_pred = model.predict(X_test)\n",
    "print('f1_score на тестовом наборе: {:.2f}'.format(metrics.f1_score(y_test, y_test_pred)))"
   ]
  },
  {
   "cell_type": "markdown",
   "metadata": {},
   "source": [
    "## <center> Optuna"
   ]
  },
  {
   "cell_type": "code",
   "execution_count": 21,
   "metadata": {},
   "outputs": [],
   "source": [
    "def optuna_rf(trial):\n",
    "  # задаем пространства поиска гиперпараметров\n",
    "  n_estimators = trial.suggest_int('n_estimators', 100, 200, 1)\n",
    "  max_depth = trial.suggest_int('max_depth', 10, 20, 1)\n",
    "  min_samples_leaf = trial.suggest_int('min_samples_leaf', 2, 10, 1)\n",
    "\n",
    "  # создаем модель\n",
    "  model = ensemble.RandomForestClassifier(n_estimators=n_estimators,\n",
    "                                          max_depth=max_depth,\n",
    "                                          min_samples_leaf=min_samples_leaf,\n",
    "                                          random_state=random_state)\n",
    "  # обучаем модель\n",
    "  model.fit(X_train, y_train)\n",
    "  # применим  cross validation с тем же количеством фолдов\n",
    "  score = cross_val_score(model, X_train, y_train, cv=5, scoring=\"f1\", n_jobs=-1).mean()\n",
    "\n",
    "  return score"
   ]
  },
  {
   "cell_type": "code",
   "execution_count": 22,
   "metadata": {},
   "outputs": [
    {
     "name": "stderr",
     "output_type": "stream",
     "text": [
      "[I 2023-08-30 21:31:29,449] A new study created in memory with name: RandomForestClassifier\n"
     ]
    },
    {
     "name": "stderr",
     "output_type": "stream",
     "text": [
      "[I 2023-08-30 21:31:43,121] Trial 0 finished with value: 0.805029649181285 and parameters: {'n_estimators': 145, 'max_depth': 14, 'min_samples_leaf': 4}. Best is trial 0 with value: 0.805029649181285.\n",
      "[I 2023-08-30 21:31:52,344] Trial 1 finished with value: 0.7899786586595484 and parameters: {'n_estimators': 129, 'max_depth': 19, 'min_samples_leaf': 10}. Best is trial 0 with value: 0.805029649181285.\n",
      "[I 2023-08-30 21:32:06,315] Trial 2 finished with value: 0.7956244309105889 and parameters: {'n_estimators': 197, 'max_depth': 11, 'min_samples_leaf': 5}. Best is trial 0 with value: 0.805029649181285.\n",
      "[I 2023-08-30 21:32:21,361] Trial 3 finished with value: 0.7976842321635103 and parameters: {'n_estimators': 195, 'max_depth': 10, 'min_samples_leaf': 4}. Best is trial 0 with value: 0.805029649181285.\n",
      "[I 2023-08-30 21:32:32,134] Trial 4 finished with value: 0.7963559376948919 and parameters: {'n_estimators': 116, 'max_depth': 12, 'min_samples_leaf': 8}. Best is trial 0 with value: 0.805029649181285.\n",
      "[I 2023-08-30 21:32:45,842] Trial 5 finished with value: 0.796196174968276 and parameters: {'n_estimators': 143, 'max_depth': 10, 'min_samples_leaf': 3}. Best is trial 0 with value: 0.805029649181285.\n",
      "[I 2023-08-30 21:32:57,587] Trial 6 finished with value: 0.805788000792434 and parameters: {'n_estimators': 131, 'max_depth': 12, 'min_samples_leaf': 4}. Best is trial 6 with value: 0.805788000792434.\n",
      "[I 2023-08-30 21:33:07,587] Trial 7 finished with value: 0.8010111586291085 and parameters: {'n_estimators': 122, 'max_depth': 19, 'min_samples_leaf': 6}. Best is trial 6 with value: 0.805788000792434.\n",
      "[I 2023-08-30 21:33:22,505] Trial 8 finished with value: 0.7990247197656 and parameters: {'n_estimators': 190, 'max_depth': 14, 'min_samples_leaf': 7}. Best is trial 6 with value: 0.805788000792434.\n",
      "[I 2023-08-30 21:33:37,140] Trial 9 finished with value: 0.7972811279614147 and parameters: {'n_estimators': 190, 'max_depth': 15, 'min_samples_leaf': 6}. Best is trial 6 with value: 0.805788000792434.\n",
      "[I 2023-08-30 21:33:55,967] Trial 10 finished with value: 0.8061797045167542 and parameters: {'n_estimators': 165, 'max_depth': 13, 'min_samples_leaf': 2}. Best is trial 10 with value: 0.8061797045167542.\n",
      "[I 2023-08-30 21:34:13,619] Trial 11 finished with value: 0.8064284179646419 and parameters: {'n_estimators': 169, 'max_depth': 13, 'min_samples_leaf': 2}. Best is trial 11 with value: 0.8064284179646419.\n",
      "[I 2023-08-30 21:34:30,819] Trial 12 finished with value: 0.8100442339786807 and parameters: {'n_estimators': 168, 'max_depth': 17, 'min_samples_leaf': 2}. Best is trial 12 with value: 0.8100442339786807.\n",
      "[I 2023-08-30 21:34:49,024] Trial 13 finished with value: 0.8100442339786807 and parameters: {'n_estimators': 168, 'max_depth': 17, 'min_samples_leaf': 2}. Best is trial 12 with value: 0.8100442339786807.\n",
      "[I 2023-08-30 21:35:07,846] Trial 14 finished with value: 0.8100442339786807 and parameters: {'n_estimators': 168, 'max_depth': 17, 'min_samples_leaf': 2}. Best is trial 12 with value: 0.8100442339786807.\n",
      "[I 2023-08-30 21:35:19,855] Trial 15 finished with value: 0.8039601271830998 and parameters: {'n_estimators': 104, 'max_depth': 17, 'min_samples_leaf': 3}. Best is trial 12 with value: 0.8100442339786807.\n",
      "[I 2023-08-30 21:35:32,476] Trial 16 finished with value: 0.7972722113255215 and parameters: {'n_estimators': 158, 'max_depth': 17, 'min_samples_leaf': 9}. Best is trial 12 with value: 0.8100442339786807.\n",
      "[I 2023-08-30 21:35:51,068] Trial 17 finished with value: 0.8089568557929369 and parameters: {'n_estimators': 180, 'max_depth': 18, 'min_samples_leaf': 3}. Best is trial 12 with value: 0.8100442339786807.\n",
      "[I 2023-08-30 21:36:07,535] Trial 18 finished with value: 0.7988868090056254 and parameters: {'n_estimators': 178, 'max_depth': 20, 'min_samples_leaf': 5}. Best is trial 12 with value: 0.8100442339786807.\n",
      "[I 2023-08-30 21:36:26,168] Trial 19 finished with value: 0.8107755796294818 and parameters: {'n_estimators': 153, 'max_depth': 16, 'min_samples_leaf': 2}. Best is trial 19 with value: 0.8107755796294818.\n",
      "[I 2023-08-30 21:36:39,939] Trial 20 finished with value: 0.7971042634457353 and parameters: {'n_estimators': 148, 'max_depth': 16, 'min_samples_leaf': 5}. Best is trial 19 with value: 0.8107755796294818.\n",
      "[I 2023-08-30 21:36:57,775] Trial 21 finished with value: 0.808167489299564 and parameters: {'n_estimators': 157, 'max_depth': 16, 'min_samples_leaf': 2}. Best is trial 19 with value: 0.8107755796294818.\n",
      "[I 2023-08-30 21:37:17,543] Trial 22 finished with value: 0.8050974974319924 and parameters: {'n_estimators': 177, 'max_depth': 16, 'min_samples_leaf': 3}. Best is trial 19 with value: 0.8107755796294818.\n",
      "[I 2023-08-30 21:37:36,692] Trial 23 finished with value: 0.8097332277122234 and parameters: {'n_estimators': 156, 'max_depth': 18, 'min_samples_leaf': 2}. Best is trial 19 with value: 0.8107755796294818.\n",
      "[I 2023-08-30 21:37:50,446] Trial 24 finished with value: 0.7994424932135883 and parameters: {'n_estimators': 139, 'max_depth': 15, 'min_samples_leaf': 3}. Best is trial 19 with value: 0.8107755796294818.\n",
      "[I 2023-08-30 21:38:05,556] Trial 25 finished with value: 0.8066762516840036 and parameters: {'n_estimators': 162, 'max_depth': 18, 'min_samples_leaf': 4}. Best is trial 19 with value: 0.8107755796294818.\n",
      "[I 2023-08-30 21:38:23,220] Trial 26 finished with value: 0.8084081471012359 and parameters: {'n_estimators': 173, 'max_depth': 16, 'min_samples_leaf': 2}. Best is trial 19 with value: 0.8107755796294818.\n",
      "[I 2023-08-30 21:38:39,938] Trial 27 finished with value: 0.8048657894456145 and parameters: {'n_estimators': 152, 'max_depth': 15, 'min_samples_leaf': 3}. Best is trial 19 with value: 0.8107755796294818.\n",
      "[I 2023-08-30 21:38:56,122] Trial 28 finished with value: 0.7998174012555351 and parameters: {'n_estimators': 184, 'max_depth': 19, 'min_samples_leaf': 7}. Best is trial 19 with value: 0.8107755796294818.\n",
      "[I 2023-08-30 21:39:10,000] Trial 29 finished with value: 0.8073516089562659 and parameters: {'n_estimators': 140, 'max_depth': 14, 'min_samples_leaf': 4}. Best is trial 19 with value: 0.8107755796294818.\n",
      "[I 2023-08-30 21:39:23,274] Trial 30 finished with value: 0.8068324794379841 and parameters: {'n_estimators': 148, 'max_depth': 17, 'min_samples_leaf': 4}. Best is trial 19 with value: 0.8107755796294818.\n",
      "[I 2023-08-30 21:39:40,610] Trial 31 finished with value: 0.8102883559064231 and parameters: {'n_estimators': 167, 'max_depth': 17, 'min_samples_leaf': 2}. Best is trial 19 with value: 0.8107755796294818.\n",
      "[I 2023-08-30 21:39:58,084] Trial 32 finished with value: 0.811438246073316 and parameters: {'n_estimators': 162, 'max_depth': 18, 'min_samples_leaf': 2}. Best is trial 32 with value: 0.811438246073316.\n",
      "[I 2023-08-30 21:40:16,158] Trial 33 finished with value: 0.806071525783182 and parameters: {'n_estimators': 162, 'max_depth': 20, 'min_samples_leaf': 3}. Best is trial 32 with value: 0.811438246073316.\n",
      "[I 2023-08-30 21:40:28,929] Trial 34 finished with value: 0.7872765113164613 and parameters: {'n_estimators': 153, 'max_depth': 18, 'min_samples_leaf': 10}. Best is trial 32 with value: 0.811438246073316.\n",
      "[I 2023-08-30 21:40:48,778] Trial 35 finished with value: 0.8106759422137767 and parameters: {'n_estimators': 172, 'max_depth': 19, 'min_samples_leaf': 2}. Best is trial 32 with value: 0.811438246073316.\n",
      "[I 2023-08-30 21:41:11,674] Trial 36 finished with value: 0.8088451162896984 and parameters: {'n_estimators': 174, 'max_depth': 19, 'min_samples_leaf': 3}. Best is trial 32 with value: 0.811438246073316.\n",
      "[I 2023-08-30 21:41:32,956] Trial 37 finished with value: 0.8111599621485178 and parameters: {'n_estimators': 134, 'max_depth': 20, 'min_samples_leaf': 2}. Best is trial 32 with value: 0.811438246073316.\n",
      "[I 2023-08-30 21:41:46,838] Trial 38 finished with value: 0.8005291841953458 and parameters: {'n_estimators': 133, 'max_depth': 20, 'min_samples_leaf': 5}. Best is trial 32 with value: 0.811438246073316.\n",
      "[I 2023-08-30 21:41:59,431] Trial 39 finished with value: 0.804507981998345 and parameters: {'n_estimators': 121, 'max_depth': 19, 'min_samples_leaf': 4}. Best is trial 32 with value: 0.811438246073316.\n",
      "[I 2023-08-30 21:42:17,499] Trial 40 finished with value: 0.80768947771327 and parameters: {'n_estimators': 135, 'max_depth': 20, 'min_samples_leaf': 3}. Best is trial 32 with value: 0.811438246073316.\n",
      "[I 2023-08-30 21:42:35,256] Trial 41 finished with value: 0.810812389247219 and parameters: {'n_estimators': 144, 'max_depth': 19, 'min_samples_leaf': 2}. Best is trial 32 with value: 0.811438246073316.\n",
      "[I 2023-08-30 21:42:53,001] Trial 42 finished with value: 0.810812389247219 and parameters: {'n_estimators': 144, 'max_depth': 19, 'min_samples_leaf': 2}. Best is trial 32 with value: 0.811438246073316.\n",
      "[I 2023-08-30 21:43:07,812] Trial 43 finished with value: 0.8119251534800724 and parameters: {'n_estimators': 143, 'max_depth': 20, 'min_samples_leaf': 2}. Best is trial 43 with value: 0.8119251534800724.\n",
      "[I 2023-08-30 21:43:19,100] Trial 44 finished with value: 0.8071539617536114 and parameters: {'n_estimators': 126, 'max_depth': 20, 'min_samples_leaf': 3}. Best is trial 43 with value: 0.8119251534800724.\n",
      "[I 2023-08-30 21:43:35,342] Trial 45 finished with value: 0.809829584997245 and parameters: {'n_estimators': 146, 'max_depth': 19, 'min_samples_leaf': 2}. Best is trial 43 with value: 0.8119251534800724.\n",
      "[I 2023-08-30 21:43:47,407] Trial 46 finished with value: 0.8035156138075463 and parameters: {'n_estimators': 141, 'max_depth': 20, 'min_samples_leaf': 4}. Best is trial 43 with value: 0.8119251534800724.\n",
      "[I 2023-08-30 21:43:59,912] Trial 47 finished with value: 0.8101704422826999 and parameters: {'n_estimators': 129, 'max_depth': 19, 'min_samples_leaf': 2}. Best is trial 43 with value: 0.8119251534800724.\n",
      "[I 2023-08-30 21:44:12,346] Trial 48 finished with value: 0.8039442066371505 and parameters: {'n_estimators': 136, 'max_depth': 18, 'min_samples_leaf': 3}. Best is trial 43 with value: 0.8119251534800724.\n",
      "[I 2023-08-30 21:44:21,062] Trial 49 finished with value: 0.8005386531309686 and parameters: {'n_estimators': 116, 'max_depth': 20, 'min_samples_leaf': 7}. Best is trial 43 with value: 0.8119251534800724.\n"
     ]
    },
    {
     "name": "stdout",
     "output_type": "stream",
     "text": [
      "CPU times: total: 5min 10s\n",
      "Wall time: 12min 51s\n"
     ]
    }
   ],
   "source": [
    "%%time\n",
    "# cоздаем объект исследования\n",
    "# можем напрямую указать, что нам необходимо максимизировать метрику direction=\"maximize\"\n",
    "study = optuna.create_study(study_name=\"RandomForestClassifier\", direction=\"maximize\")\n",
    "# ищем лучшую комбинацию гиперпараметров n_trials раз\n",
    "study.optimize(optuna_rf, n_trials=50)"
   ]
  },
  {
   "cell_type": "code",
   "execution_count": 23,
   "metadata": {},
   "outputs": [
    {
     "name": "stdout",
     "output_type": "stream",
     "text": [
      "Наилучшие значения гиперпараметров {'n_estimators': 143, 'max_depth': 20, 'min_samples_leaf': 2}\n",
      "f1_score на обучающем наборе: 0.81\n"
     ]
    }
   ],
   "source": [
    "# выводим результаты на обучающей выборке\n",
    "print(\"Наилучшие значения гиперпараметров {}\".format(study.best_params))\n",
    "print(\"f1_score на обучающем наборе: {:.2f}\".format(study.best_value))"
   ]
  },
  {
   "cell_type": "code",
   "execution_count": 24,
   "metadata": {},
   "outputs": [
    {
     "name": "stdout",
     "output_type": "stream",
     "text": [
      "f1_score на тестовом наборе: 0.83\n"
     ]
    }
   ],
   "source": [
    "# рассчитаем точность для тестовой выборки\n",
    "model = ensemble.RandomForestClassifier(**study.best_params,random_state=random_state, )\n",
    "model.fit(X_train, y_train)\n",
    "y_test_pred = model.predict(X_test)\n",
    "print('f1_score на тестовом наборе: {:.2f}'.format(metrics.f1_score(y_test, y_test_pred)))"
   ]
  },
  {
   "cell_type": "markdown",
   "metadata": {},
   "source": [
    "###  <center> **Выводы**"
   ]
  },
  {
   "cell_type": "markdown",
   "metadata": {},
   "source": [
    "Итак, провели подбор параметров модели в 4 вариантах и получили следующие оценки f1-score для тестовой выборки:\n",
    "1. Модель логистической регрессии с подбором параметров методом GridSearchCV - f1-score = 0.78.\n",
    "2. Модель логистической регрессии с подбором параметров методом RandomizedSearchCV - f1-score = 0.78.\n",
    "3. Модель случайного леса с подбором параметров с фреймворком Hyperopt - f1-score = 0.82.\n",
    "4. Модель случайного леса с подбором параметров с фреймворком Optuna - f1-score = 0.83.\n",
    "\n",
    "Таким образом, из проведенных экспериментов наилучший результат достигнут при оптимизации гиперпараметров модели случайного леса\n",
    "с фреймворком Optuna."
   ]
  }
 ],
 "metadata": {
  "kernelspec": {
   "display_name": "Python 3",
   "language": "python",
   "name": "python3"
  },
  "language_info": {
   "codemirror_mode": {
    "name": "ipython",
    "version": 3
   },
   "file_extension": ".py",
   "mimetype": "text/x-python",
   "name": "python",
   "nbconvert_exporter": "python",
   "pygments_lexer": "ipython3",
   "version": "3.11.1"
  },
  "orig_nbformat": 4
 },
 "nbformat": 4,
 "nbformat_minor": 2
}
