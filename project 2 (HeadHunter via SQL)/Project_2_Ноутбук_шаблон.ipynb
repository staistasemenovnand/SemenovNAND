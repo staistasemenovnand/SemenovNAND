{
 "cells": [
  {
   "cell_type": "markdown",
   "id": "42289889-bd57-434e-9637-d3e354756316",
   "metadata": {
    "id": "42289889-bd57-434e-9637-d3e354756316"
   },
   "source": [
    "<center> <img src = https://raw.githubusercontent.com/AndreyRysistov/DatasetsForPandas/main/hh%20label.jpg alt=\"drawing\" style=\"width:400px;\">"
   ]
  },
  {
   "cell_type": "markdown",
   "id": "829cb75b-f14e-4ba8-9195-7ba929a7d656",
   "metadata": {
    "id": "829cb75b-f14e-4ba8-9195-7ba929a7d656",
    "tags": []
   },
   "source": [
    "# <center> Проект: Анализ вакансий из HeadHunter\n",
    "   "
   ]
  },
  {
   "cell_type": "markdown",
   "id": "4e354fee",
   "metadata": {},
   "source": [
    "## Импорт библиотек и модулей, подключение к БД"
   ]
  },
  {
   "cell_type": "code",
   "execution_count": 1,
   "id": "dccfde33-2452-43fb-a8a5-5c6ebc02a71d",
   "metadata": {
    "id": "dccfde33-2452-43fb-a8a5-5c6ebc02a71d"
   },
   "outputs": [
    {
     "name": "stdout",
     "output_type": "stream",
     "text": [
      "Requirement already satisfied: psycopg2 in c:\\users\\user\\appdata\\local\\programs\\python\\python311\\lib\\site-packages (2.9.6)\n"
     ]
    }
   ],
   "source": [
    "!pip install psycopg2\n",
    "import pandas as pd\n",
    "import psycopg2"
   ]
  },
  {
   "cell_type": "code",
   "execution_count": 2,
   "id": "60bb281b",
   "metadata": {},
   "outputs": [],
   "source": [
    "import numpy as np\n",
    "import matplotlib.pyplot as plt\n",
    "import seaborn as sns\n",
    "import plotly.express as px"
   ]
  },
  {
   "cell_type": "code",
   "execution_count": 4,
   "id": "oVKH4ehvf8Ay",
   "metadata": {
    "id": "oVKH4ehvf8Ay"
   },
   "outputs": [],
   "source": [
    "# Здесь вставить параметры для подключения\n"
   ]
  },
  {
   "cell_type": "code",
   "execution_count": 5,
   "id": "G4X_q8KBf7SF",
   "metadata": {
    "id": "G4X_q8KBf7SF"
   },
   "outputs": [],
   "source": [
    "# Подключение к БД\n",
    "connection = psycopg2.connect(\n",
    "    dbname=DBNAME,\n",
    "    user=USER,\n",
    "    host=HOST,\n",
    "    password=PASSWORD,\n",
    "    port=PORT\n",
    ")"
   ]
  },
  {
   "cell_type": "markdown",
   "id": "1efab7ed",
   "metadata": {},
   "source": [
    "# Некоторые пояснения по оформлению кода:\n",
    "*1. Текст запроса будем записывать через f-строку в переменную query_n_m, где n и m номер юнита и задачи в нем соответственно.\n",
    "2. Результат выполнения запроса сохраняем в datadrame с именем result_n_m, где n и m номер юнита и задачи в нем соответственно.*"
   ]
  },
  {
   "cell_type": "markdown",
   "id": "0dc6476b-7a00-44f1-ac93-6e3baed33a29",
   "metadata": {
    "id": "0dc6476b-7a00-44f1-ac93-6e3baed33a29"
   },
   "source": [
    "# Юнит 3. Предварительный анализ данных"
   ]
  },
  {
   "cell_type": "markdown",
   "id": "889782b6-8d1c-410e-8920-e57f27917c64",
   "metadata": {
    "id": "889782b6-8d1c-410e-8920-e57f27917c64"
   },
   "source": [
    "1. Напишите запрос, который посчитает количество вакансий в нашей базе (вакансии находятся в таблице vacancies). "
   ]
  },
  {
   "cell_type": "code",
   "execution_count": 6,
   "id": "bc39e68e-ed02-4ee2-9235-7258a2f867a8",
   "metadata": {
    "id": "bc39e68e-ed02-4ee2-9235-7258a2f867a8"
   },
   "outputs": [
    {
     "name": "stderr",
     "output_type": "stream",
     "text": [
      "C:\\Users\\user\\AppData\\Local\\Temp\\ipykernel_7340\\3576417028.py:8: UserWarning: pandas only supports SQLAlchemy connectable (engine/connection) or database string URI or sqlite3 DBAPI2 connection. Other DBAPI2 objects are not tested. Please consider using SQLAlchemy.\n",
      "  result_3_1 = pd.read_sql_query(query_3_1, connection)\n"
     ]
    }
   ],
   "source": [
    "# текст запроса\n",
    "query_3_1 = f'''\n",
    "select\n",
    "    count(*)\n",
    "from\n",
    "    public.vacancies\n",
    "'''\n",
    "result_3_1 = pd.read_sql_query(query_3_1, connection)"
   ]
  },
  {
   "cell_type": "code",
   "execution_count": 7,
   "id": "7mAwtsk4hEHY",
   "metadata": {
    "id": "7mAwtsk4hEHY"
   },
   "outputs": [
    {
     "data": {
      "text/html": [
       "<div>\n",
       "<style scoped>\n",
       "    .dataframe tbody tr th:only-of-type {\n",
       "        vertical-align: middle;\n",
       "    }\n",
       "\n",
       "    .dataframe tbody tr th {\n",
       "        vertical-align: top;\n",
       "    }\n",
       "\n",
       "    .dataframe thead th {\n",
       "        text-align: right;\n",
       "    }\n",
       "</style>\n",
       "<table border=\"1\" class=\"dataframe\">\n",
       "  <thead>\n",
       "    <tr style=\"text-align: right;\">\n",
       "      <th></th>\n",
       "      <th>count</th>\n",
       "    </tr>\n",
       "  </thead>\n",
       "  <tbody>\n",
       "    <tr>\n",
       "      <th>0</th>\n",
       "      <td>49197</td>\n",
       "    </tr>\n",
       "  </tbody>\n",
       "</table>\n",
       "</div>"
      ],
      "text/plain": [
       "   count\n",
       "0  49197"
      ]
     },
     "execution_count": 7,
     "metadata": {},
     "output_type": "execute_result"
    }
   ],
   "source": [
    "# результат запроса\n",
    "result_3_1"
   ]
  },
  {
   "cell_type": "markdown",
   "id": "b583485d-1f9e-494e-ada4-80ffff7c53d6",
   "metadata": {
    "id": "b583485d-1f9e-494e-ada4-80ffff7c53d6"
   },
   "source": [
    "2. Напишите запрос, который посчитает количество работодателей (таблица employers). "
   ]
  },
  {
   "cell_type": "code",
   "execution_count": 8,
   "id": "5408c52c-3407-4a63-b25b-1aafa2322d28",
   "metadata": {
    "id": "5408c52c-3407-4a63-b25b-1aafa2322d28"
   },
   "outputs": [
    {
     "name": "stderr",
     "output_type": "stream",
     "text": [
      "C:\\Users\\user\\AppData\\Local\\Temp\\ipykernel_7340\\1090122750.py:9: UserWarning: pandas only supports SQLAlchemy connectable (engine/connection) or database string URI or sqlite3 DBAPI2 connection. Other DBAPI2 objects are not tested. Please consider using SQLAlchemy.\n",
      "  result_3_2 = pd.read_sql_query(query_3_2, connection)\n"
     ]
    }
   ],
   "source": [
    "# текст запроса\n",
    "query_3_2 = f'''\n",
    "-- просто считаем количество записей в таблице\n",
    "select \n",
    "    count(*)\n",
    "from \n",
    "    public.employers\n",
    "'''\n",
    "result_3_2 = pd.read_sql_query(query_3_2, connection)"
   ]
  },
  {
   "cell_type": "code",
   "execution_count": 9,
   "id": "jVL4eshKhdqc",
   "metadata": {
    "id": "jVL4eshKhdqc"
   },
   "outputs": [
    {
     "data": {
      "text/html": [
       "<div>\n",
       "<style scoped>\n",
       "    .dataframe tbody tr th:only-of-type {\n",
       "        vertical-align: middle;\n",
       "    }\n",
       "\n",
       "    .dataframe tbody tr th {\n",
       "        vertical-align: top;\n",
       "    }\n",
       "\n",
       "    .dataframe thead th {\n",
       "        text-align: right;\n",
       "    }\n",
       "</style>\n",
       "<table border=\"1\" class=\"dataframe\">\n",
       "  <thead>\n",
       "    <tr style=\"text-align: right;\">\n",
       "      <th></th>\n",
       "      <th>count</th>\n",
       "    </tr>\n",
       "  </thead>\n",
       "  <tbody>\n",
       "    <tr>\n",
       "      <th>0</th>\n",
       "      <td>23501</td>\n",
       "    </tr>\n",
       "  </tbody>\n",
       "</table>\n",
       "</div>"
      ],
      "text/plain": [
       "   count\n",
       "0  23501"
      ]
     },
     "execution_count": 9,
     "metadata": {},
     "output_type": "execute_result"
    }
   ],
   "source": [
    "# результат запроса\n",
    "result_3_2"
   ]
  },
  {
   "cell_type": "markdown",
   "id": "a2bfff1f-c975-4bf6-84be-2185d79dcb76",
   "metadata": {
    "id": "a2bfff1f-c975-4bf6-84be-2185d79dcb76"
   },
   "source": [
    "3. Посчитате с помощью запроса количество регионов (таблица areas)."
   ]
  },
  {
   "cell_type": "code",
   "execution_count": 10,
   "id": "1m8QJwBYhey6",
   "metadata": {
    "id": "1m8QJwBYhey6"
   },
   "outputs": [
    {
     "name": "stderr",
     "output_type": "stream",
     "text": [
      "C:\\Users\\user\\AppData\\Local\\Temp\\ipykernel_7340\\251882499.py:9: UserWarning: pandas only supports SQLAlchemy connectable (engine/connection) or database string URI or sqlite3 DBAPI2 connection. Other DBAPI2 objects are not tested. Please consider using SQLAlchemy.\n",
      "  result_3_3 = pd.read_sql_query(query_3_3, connection)\n"
     ]
    }
   ],
   "source": [
    "# текст запроса\n",
    "query_3_3 = f'''\n",
    "-- просто считаем количество записей в таблице\n",
    "select \n",
    "    count(*)\n",
    "from \n",
    "    public.areas\n",
    "'''\n",
    "result_3_3 = pd.read_sql_query(query_3_3, connection)"
   ]
  },
  {
   "cell_type": "code",
   "execution_count": 11,
   "id": "EZsn9tlfhe7f",
   "metadata": {
    "id": "EZsn9tlfhe7f"
   },
   "outputs": [
    {
     "data": {
      "text/html": [
       "<div>\n",
       "<style scoped>\n",
       "    .dataframe tbody tr th:only-of-type {\n",
       "        vertical-align: middle;\n",
       "    }\n",
       "\n",
       "    .dataframe tbody tr th {\n",
       "        vertical-align: top;\n",
       "    }\n",
       "\n",
       "    .dataframe thead th {\n",
       "        text-align: right;\n",
       "    }\n",
       "</style>\n",
       "<table border=\"1\" class=\"dataframe\">\n",
       "  <thead>\n",
       "    <tr style=\"text-align: right;\">\n",
       "      <th></th>\n",
       "      <th>count</th>\n",
       "    </tr>\n",
       "  </thead>\n",
       "  <tbody>\n",
       "    <tr>\n",
       "      <th>0</th>\n",
       "      <td>1362</td>\n",
       "    </tr>\n",
       "  </tbody>\n",
       "</table>\n",
       "</div>"
      ],
      "text/plain": [
       "   count\n",
       "0   1362"
      ]
     },
     "execution_count": 11,
     "metadata": {},
     "output_type": "execute_result"
    }
   ],
   "source": [
    "# результат запроса\n",
    "result_3_3"
   ]
  },
  {
   "cell_type": "markdown",
   "id": "41bb59f3-53cc-4a67-a5bc-bedf573955e4",
   "metadata": {
    "id": "41bb59f3-53cc-4a67-a5bc-bedf573955e4"
   },
   "source": [
    "4. Посчитате с помощью запроса количество сфер деятельности в базе (таблица industries)."
   ]
  },
  {
   "cell_type": "code",
   "execution_count": 12,
   "id": "d286cf4c-707b-4cd2-9190-7ab3587d04a1",
   "metadata": {
    "id": "d286cf4c-707b-4cd2-9190-7ab3587d04a1"
   },
   "outputs": [
    {
     "name": "stderr",
     "output_type": "stream",
     "text": [
      "C:\\Users\\user\\AppData\\Local\\Temp\\ipykernel_7340\\882140143.py:9: UserWarning: pandas only supports SQLAlchemy connectable (engine/connection) or database string URI or sqlite3 DBAPI2 connection. Other DBAPI2 objects are not tested. Please consider using SQLAlchemy.\n",
      "  result_3_4 = pd.read_sql_query(query_3_4, connection)\n"
     ]
    }
   ],
   "source": [
    "# текст запроса\n",
    "query_3_4 = f'''\n",
    "-- просто считаем количество записей в таблице\n",
    "select \n",
    "    count(*)\n",
    "from \n",
    "    public.industries\n",
    "'''\n",
    "result_3_4 = pd.read_sql_query(query_3_4, connection)"
   ]
  },
  {
   "cell_type": "code",
   "execution_count": 13,
   "id": "JYAaoZ4qhfzW",
   "metadata": {
    "id": "JYAaoZ4qhfzW"
   },
   "outputs": [
    {
     "data": {
      "text/html": [
       "<div>\n",
       "<style scoped>\n",
       "    .dataframe tbody tr th:only-of-type {\n",
       "        vertical-align: middle;\n",
       "    }\n",
       "\n",
       "    .dataframe tbody tr th {\n",
       "        vertical-align: top;\n",
       "    }\n",
       "\n",
       "    .dataframe thead th {\n",
       "        text-align: right;\n",
       "    }\n",
       "</style>\n",
       "<table border=\"1\" class=\"dataframe\">\n",
       "  <thead>\n",
       "    <tr style=\"text-align: right;\">\n",
       "      <th></th>\n",
       "      <th>count</th>\n",
       "    </tr>\n",
       "  </thead>\n",
       "  <tbody>\n",
       "    <tr>\n",
       "      <th>0</th>\n",
       "      <td>294</td>\n",
       "    </tr>\n",
       "  </tbody>\n",
       "</table>\n",
       "</div>"
      ],
      "text/plain": [
       "   count\n",
       "0    294"
      ]
     },
     "execution_count": 13,
     "metadata": {},
     "output_type": "execute_result"
    }
   ],
   "source": [
    "# результат запроса\n",
    "result_3_4"
   ]
  },
  {
   "cell_type": "markdown",
   "id": "9a8a2181-6914-448b-85f1-38f5f18b8a93",
   "metadata": {
    "id": "9a8a2181-6914-448b-85f1-38f5f18b8a93"
   },
   "source": [
    "***"
   ]
  },
  {
   "cell_type": "markdown",
   "id": "60559efa",
   "metadata": {
    "id": "be4e9bd3-a4db-4a20-82fb-6b02fc2957e0"
   },
   "source": [
    "# Выводы по предварительному анализу данных\n"
   ]
  },
  {
   "cell_type": "markdown",
   "id": "e4d09b2f",
   "metadata": {},
   "source": [
    "*Первичный анализ данных показывает, что в среднем на одного работодателя приходится чуть более 2 опубликованных вакансий. Конечно, это грубое приближение и далее будут представлены более детальные результаты. На этапе знакомства с данными представим визуально некоторые обобщающие показатели:\n",
    "-среднее число вакансии на 1 работодателя;\n",
    "-среднее число вакансий на 1 регион;\n",
    "-среднее число вакансий на 1 отрасль.\n",
    "Данные внесем во временный датафрейм-источник визуализации.*"
   ]
  },
  {
   "cell_type": "code",
   "execution_count": 14,
   "id": "367dad10",
   "metadata": {},
   "outputs": [
    {
     "data": {
      "application/vnd.plotly.v1+json": {
       "config": {
        "plotlyServerURL": "https://plot.ly"
       },
       "data": [
        {
         "alignmentgroup": "True",
         "hovertemplate": "Показатель=%{x}<br>Значение, ед.=%{y}<extra></extra>",
         "legendgroup": "",
         "marker": {
          "color": "#636efa",
          "pattern": {
           "shape": ""
          }
         },
         "name": "",
         "offsetgroup": "",
         "orientation": "v",
         "showlegend": false,
         "textposition": "auto",
         "type": "bar",
         "x": [
          "Среднее число вакансий на 1 работодателя",
          "Среднее число вакансий на 1 регион",
          "Среднее число вакансий на 1 отрасль"
         ],
         "xaxis": "x",
         "y": [
          2,
          36,
          167
         ],
         "yaxis": "y"
        }
       ],
       "layout": {
        "barmode": "relative",
        "legend": {
         "tracegroupgap": 0
        },
        "template": {
         "data": {
          "bar": [
           {
            "error_x": {
             "color": "#2a3f5f"
            },
            "error_y": {
             "color": "#2a3f5f"
            },
            "marker": {
             "line": {
              "color": "#E5ECF6",
              "width": 0.5
             },
             "pattern": {
              "fillmode": "overlay",
              "size": 10,
              "solidity": 0.2
             }
            },
            "type": "bar"
           }
          ],
          "barpolar": [
           {
            "marker": {
             "line": {
              "color": "#E5ECF6",
              "width": 0.5
             },
             "pattern": {
              "fillmode": "overlay",
              "size": 10,
              "solidity": 0.2
             }
            },
            "type": "barpolar"
           }
          ],
          "carpet": [
           {
            "aaxis": {
             "endlinecolor": "#2a3f5f",
             "gridcolor": "white",
             "linecolor": "white",
             "minorgridcolor": "white",
             "startlinecolor": "#2a3f5f"
            },
            "baxis": {
             "endlinecolor": "#2a3f5f",
             "gridcolor": "white",
             "linecolor": "white",
             "minorgridcolor": "white",
             "startlinecolor": "#2a3f5f"
            },
            "type": "carpet"
           }
          ],
          "choropleth": [
           {
            "colorbar": {
             "outlinewidth": 0,
             "ticks": ""
            },
            "type": "choropleth"
           }
          ],
          "contour": [
           {
            "colorbar": {
             "outlinewidth": 0,
             "ticks": ""
            },
            "colorscale": [
             [
              0,
              "#0d0887"
             ],
             [
              0.1111111111111111,
              "#46039f"
             ],
             [
              0.2222222222222222,
              "#7201a8"
             ],
             [
              0.3333333333333333,
              "#9c179e"
             ],
             [
              0.4444444444444444,
              "#bd3786"
             ],
             [
              0.5555555555555556,
              "#d8576b"
             ],
             [
              0.6666666666666666,
              "#ed7953"
             ],
             [
              0.7777777777777778,
              "#fb9f3a"
             ],
             [
              0.8888888888888888,
              "#fdca26"
             ],
             [
              1,
              "#f0f921"
             ]
            ],
            "type": "contour"
           }
          ],
          "contourcarpet": [
           {
            "colorbar": {
             "outlinewidth": 0,
             "ticks": ""
            },
            "type": "contourcarpet"
           }
          ],
          "heatmap": [
           {
            "colorbar": {
             "outlinewidth": 0,
             "ticks": ""
            },
            "colorscale": [
             [
              0,
              "#0d0887"
             ],
             [
              0.1111111111111111,
              "#46039f"
             ],
             [
              0.2222222222222222,
              "#7201a8"
             ],
             [
              0.3333333333333333,
              "#9c179e"
             ],
             [
              0.4444444444444444,
              "#bd3786"
             ],
             [
              0.5555555555555556,
              "#d8576b"
             ],
             [
              0.6666666666666666,
              "#ed7953"
             ],
             [
              0.7777777777777778,
              "#fb9f3a"
             ],
             [
              0.8888888888888888,
              "#fdca26"
             ],
             [
              1,
              "#f0f921"
             ]
            ],
            "type": "heatmap"
           }
          ],
          "heatmapgl": [
           {
            "colorbar": {
             "outlinewidth": 0,
             "ticks": ""
            },
            "colorscale": [
             [
              0,
              "#0d0887"
             ],
             [
              0.1111111111111111,
              "#46039f"
             ],
             [
              0.2222222222222222,
              "#7201a8"
             ],
             [
              0.3333333333333333,
              "#9c179e"
             ],
             [
              0.4444444444444444,
              "#bd3786"
             ],
             [
              0.5555555555555556,
              "#d8576b"
             ],
             [
              0.6666666666666666,
              "#ed7953"
             ],
             [
              0.7777777777777778,
              "#fb9f3a"
             ],
             [
              0.8888888888888888,
              "#fdca26"
             ],
             [
              1,
              "#f0f921"
             ]
            ],
            "type": "heatmapgl"
           }
          ],
          "histogram": [
           {
            "marker": {
             "pattern": {
              "fillmode": "overlay",
              "size": 10,
              "solidity": 0.2
             }
            },
            "type": "histogram"
           }
          ],
          "histogram2d": [
           {
            "colorbar": {
             "outlinewidth": 0,
             "ticks": ""
            },
            "colorscale": [
             [
              0,
              "#0d0887"
             ],
             [
              0.1111111111111111,
              "#46039f"
             ],
             [
              0.2222222222222222,
              "#7201a8"
             ],
             [
              0.3333333333333333,
              "#9c179e"
             ],
             [
              0.4444444444444444,
              "#bd3786"
             ],
             [
              0.5555555555555556,
              "#d8576b"
             ],
             [
              0.6666666666666666,
              "#ed7953"
             ],
             [
              0.7777777777777778,
              "#fb9f3a"
             ],
             [
              0.8888888888888888,
              "#fdca26"
             ],
             [
              1,
              "#f0f921"
             ]
            ],
            "type": "histogram2d"
           }
          ],
          "histogram2dcontour": [
           {
            "colorbar": {
             "outlinewidth": 0,
             "ticks": ""
            },
            "colorscale": [
             [
              0,
              "#0d0887"
             ],
             [
              0.1111111111111111,
              "#46039f"
             ],
             [
              0.2222222222222222,
              "#7201a8"
             ],
             [
              0.3333333333333333,
              "#9c179e"
             ],
             [
              0.4444444444444444,
              "#bd3786"
             ],
             [
              0.5555555555555556,
              "#d8576b"
             ],
             [
              0.6666666666666666,
              "#ed7953"
             ],
             [
              0.7777777777777778,
              "#fb9f3a"
             ],
             [
              0.8888888888888888,
              "#fdca26"
             ],
             [
              1,
              "#f0f921"
             ]
            ],
            "type": "histogram2dcontour"
           }
          ],
          "mesh3d": [
           {
            "colorbar": {
             "outlinewidth": 0,
             "ticks": ""
            },
            "type": "mesh3d"
           }
          ],
          "parcoords": [
           {
            "line": {
             "colorbar": {
              "outlinewidth": 0,
              "ticks": ""
             }
            },
            "type": "parcoords"
           }
          ],
          "pie": [
           {
            "automargin": true,
            "type": "pie"
           }
          ],
          "scatter": [
           {
            "fillpattern": {
             "fillmode": "overlay",
             "size": 10,
             "solidity": 0.2
            },
            "type": "scatter"
           }
          ],
          "scatter3d": [
           {
            "line": {
             "colorbar": {
              "outlinewidth": 0,
              "ticks": ""
             }
            },
            "marker": {
             "colorbar": {
              "outlinewidth": 0,
              "ticks": ""
             }
            },
            "type": "scatter3d"
           }
          ],
          "scattercarpet": [
           {
            "marker": {
             "colorbar": {
              "outlinewidth": 0,
              "ticks": ""
             }
            },
            "type": "scattercarpet"
           }
          ],
          "scattergeo": [
           {
            "marker": {
             "colorbar": {
              "outlinewidth": 0,
              "ticks": ""
             }
            },
            "type": "scattergeo"
           }
          ],
          "scattergl": [
           {
            "marker": {
             "colorbar": {
              "outlinewidth": 0,
              "ticks": ""
             }
            },
            "type": "scattergl"
           }
          ],
          "scattermapbox": [
           {
            "marker": {
             "colorbar": {
              "outlinewidth": 0,
              "ticks": ""
             }
            },
            "type": "scattermapbox"
           }
          ],
          "scatterpolar": [
           {
            "marker": {
             "colorbar": {
              "outlinewidth": 0,
              "ticks": ""
             }
            },
            "type": "scatterpolar"
           }
          ],
          "scatterpolargl": [
           {
            "marker": {
             "colorbar": {
              "outlinewidth": 0,
              "ticks": ""
             }
            },
            "type": "scatterpolargl"
           }
          ],
          "scatterternary": [
           {
            "marker": {
             "colorbar": {
              "outlinewidth": 0,
              "ticks": ""
             }
            },
            "type": "scatterternary"
           }
          ],
          "surface": [
           {
            "colorbar": {
             "outlinewidth": 0,
             "ticks": ""
            },
            "colorscale": [
             [
              0,
              "#0d0887"
             ],
             [
              0.1111111111111111,
              "#46039f"
             ],
             [
              0.2222222222222222,
              "#7201a8"
             ],
             [
              0.3333333333333333,
              "#9c179e"
             ],
             [
              0.4444444444444444,
              "#bd3786"
             ],
             [
              0.5555555555555556,
              "#d8576b"
             ],
             [
              0.6666666666666666,
              "#ed7953"
             ],
             [
              0.7777777777777778,
              "#fb9f3a"
             ],
             [
              0.8888888888888888,
              "#fdca26"
             ],
             [
              1,
              "#f0f921"
             ]
            ],
            "type": "surface"
           }
          ],
          "table": [
           {
            "cells": {
             "fill": {
              "color": "#EBF0F8"
             },
             "line": {
              "color": "white"
             }
            },
            "header": {
             "fill": {
              "color": "#C8D4E3"
             },
             "line": {
              "color": "white"
             }
            },
            "type": "table"
           }
          ]
         },
         "layout": {
          "annotationdefaults": {
           "arrowcolor": "#2a3f5f",
           "arrowhead": 0,
           "arrowwidth": 1
          },
          "autotypenumbers": "strict",
          "coloraxis": {
           "colorbar": {
            "outlinewidth": 0,
            "ticks": ""
           }
          },
          "colorscale": {
           "diverging": [
            [
             0,
             "#8e0152"
            ],
            [
             0.1,
             "#c51b7d"
            ],
            [
             0.2,
             "#de77ae"
            ],
            [
             0.3,
             "#f1b6da"
            ],
            [
             0.4,
             "#fde0ef"
            ],
            [
             0.5,
             "#f7f7f7"
            ],
            [
             0.6,
             "#e6f5d0"
            ],
            [
             0.7,
             "#b8e186"
            ],
            [
             0.8,
             "#7fbc41"
            ],
            [
             0.9,
             "#4d9221"
            ],
            [
             1,
             "#276419"
            ]
           ],
           "sequential": [
            [
             0,
             "#0d0887"
            ],
            [
             0.1111111111111111,
             "#46039f"
            ],
            [
             0.2222222222222222,
             "#7201a8"
            ],
            [
             0.3333333333333333,
             "#9c179e"
            ],
            [
             0.4444444444444444,
             "#bd3786"
            ],
            [
             0.5555555555555556,
             "#d8576b"
            ],
            [
             0.6666666666666666,
             "#ed7953"
            ],
            [
             0.7777777777777778,
             "#fb9f3a"
            ],
            [
             0.8888888888888888,
             "#fdca26"
            ],
            [
             1,
             "#f0f921"
            ]
           ],
           "sequentialminus": [
            [
             0,
             "#0d0887"
            ],
            [
             0.1111111111111111,
             "#46039f"
            ],
            [
             0.2222222222222222,
             "#7201a8"
            ],
            [
             0.3333333333333333,
             "#9c179e"
            ],
            [
             0.4444444444444444,
             "#bd3786"
            ],
            [
             0.5555555555555556,
             "#d8576b"
            ],
            [
             0.6666666666666666,
             "#ed7953"
            ],
            [
             0.7777777777777778,
             "#fb9f3a"
            ],
            [
             0.8888888888888888,
             "#fdca26"
            ],
            [
             1,
             "#f0f921"
            ]
           ]
          },
          "colorway": [
           "#636efa",
           "#EF553B",
           "#00cc96",
           "#ab63fa",
           "#FFA15A",
           "#19d3f3",
           "#FF6692",
           "#B6E880",
           "#FF97FF",
           "#FECB52"
          ],
          "font": {
           "color": "#2a3f5f"
          },
          "geo": {
           "bgcolor": "white",
           "lakecolor": "white",
           "landcolor": "#E5ECF6",
           "showlakes": true,
           "showland": true,
           "subunitcolor": "white"
          },
          "hoverlabel": {
           "align": "left"
          },
          "hovermode": "closest",
          "mapbox": {
           "style": "light"
          },
          "paper_bgcolor": "white",
          "plot_bgcolor": "#E5ECF6",
          "polar": {
           "angularaxis": {
            "gridcolor": "white",
            "linecolor": "white",
            "ticks": ""
           },
           "bgcolor": "#E5ECF6",
           "radialaxis": {
            "gridcolor": "white",
            "linecolor": "white",
            "ticks": ""
           }
          },
          "scene": {
           "xaxis": {
            "backgroundcolor": "#E5ECF6",
            "gridcolor": "white",
            "gridwidth": 2,
            "linecolor": "white",
            "showbackground": true,
            "ticks": "",
            "zerolinecolor": "white"
           },
           "yaxis": {
            "backgroundcolor": "#E5ECF6",
            "gridcolor": "white",
            "gridwidth": 2,
            "linecolor": "white",
            "showbackground": true,
            "ticks": "",
            "zerolinecolor": "white"
           },
           "zaxis": {
            "backgroundcolor": "#E5ECF6",
            "gridcolor": "white",
            "gridwidth": 2,
            "linecolor": "white",
            "showbackground": true,
            "ticks": "",
            "zerolinecolor": "white"
           }
          },
          "shapedefaults": {
           "line": {
            "color": "#2a3f5f"
           }
          },
          "ternary": {
           "aaxis": {
            "gridcolor": "white",
            "linecolor": "white",
            "ticks": ""
           },
           "baxis": {
            "gridcolor": "white",
            "linecolor": "white",
            "ticks": ""
           },
           "bgcolor": "#E5ECF6",
           "caxis": {
            "gridcolor": "white",
            "linecolor": "white",
            "ticks": ""
           }
          },
          "title": {
           "x": 0.05
          },
          "xaxis": {
           "automargin": true,
           "gridcolor": "white",
           "linecolor": "white",
           "ticks": "",
           "title": {
            "standoff": 15
           },
           "zerolinecolor": "white",
           "zerolinewidth": 2
          },
          "yaxis": {
           "automargin": true,
           "gridcolor": "white",
           "linecolor": "white",
           "ticks": "",
           "title": {
            "standoff": 15
           },
           "zerolinecolor": "white",
           "zerolinewidth": 2
          }
         }
        },
        "title": {
         "text": "Средние показатели базы вакансий"
        },
        "xaxis": {
         "anchor": "y",
         "domain": [
          0,
          1
         ],
         "title": {
          "text": "Показатель"
         }
        },
        "yaxis": {
         "anchor": "x",
         "domain": [
          0,
          1
         ],
         "title": {
          "text": "Значение, ед."
         }
        }
       }
      }
     },
     "metadata": {},
     "output_type": "display_data"
    }
   ],
   "source": [
    "# создадим временный словарь для хранения расчитанных показателей\n",
    "tmp_dict = {}\n",
    "\n",
    "# добавим в словарь среднее число вакансий на 1 работодателя\n",
    "value = round(result_3_1.iloc[0,0] / result_3_2.iloc[0,0])\n",
    "tmp_dict['Среднее число вакансий на 1 работодателя'] = value\n",
    "\n",
    "# добавим в словарь среднее число вакансий на 1 регион\n",
    "value = round(result_3_1.iloc[0,0] / result_3_3.iloc[0,0])\n",
    "tmp_dict['Среднее число вакансий на 1 регион'] = value\n",
    "\n",
    "# добавим в словарь среднее число вакансий по отраслям\n",
    "value = round(result_3_1.iloc[0,0] / result_3_4.iloc[0,0])\n",
    "tmp_dict['Среднее число вакансий на 1 отрасль'] = value\n",
    "\n",
    "# перенесем данные словаря в датафрейм\n",
    "\n",
    "tmp_df = pd.DataFrame(list(tmp_dict.items()),\n",
    "                   columns=['Показатель', 'Значение, ед.'])\n",
    "\n",
    "# визуализируем показатели\n",
    "fig = px.bar(\n",
    "    data_frame = tmp_df,\n",
    "    x = 'Показатель',\n",
    "    y = 'Значение, ед.',\n",
    "    title = 'Средние показатели базы вакансий')\n",
    "fig.show()\n",
    "fig.write_html('graphs/Визуализация_1.html')"
   ]
  },
  {
   "cell_type": "markdown",
   "id": "8e94f6b5",
   "metadata": {},
   "source": [
    "*График наглядно дает общее представление сотношении числа вакансий, работодателей, отраслей и регионов*"
   ]
  },
  {
   "cell_type": "markdown",
   "id": "8d62a9f3-f64e-4fe7-bdac-c4dffa16155e",
   "metadata": {
    "id": "8d62a9f3-f64e-4fe7-bdac-c4dffa16155e"
   },
   "source": [
    "# Юнит 4. Детальный анализ вакансий"
   ]
  },
  {
   "cell_type": "markdown",
   "id": "93053d3d-b284-481a-9cf7-012d7014c0e0",
   "metadata": {
    "id": "93053d3d-b284-481a-9cf7-012d7014c0e0"
   },
   "source": [
    "1. Напишите запрос, который позволит узнать, сколько (cnt) вакансий в каждом регионе (area).\n",
    "Отсортируйте по количеству вакансий в порядке убывания."
   ]
  },
  {
   "cell_type": "code",
   "execution_count": 15,
   "id": "3f069da6-fdc9-4ae7-b514-fafe2675efd3",
   "metadata": {
    "id": "3f069da6-fdc9-4ae7-b514-fafe2675efd3"
   },
   "outputs": [
    {
     "name": "stderr",
     "output_type": "stream",
     "text": [
      "C:\\Users\\user\\AppData\\Local\\Temp\\ipykernel_7340\\3495120029.py:18: UserWarning:\n",
      "\n",
      "pandas only supports SQLAlchemy connectable (engine/connection) or database string URI or sqlite3 DBAPI2 connection. Other DBAPI2 objects are not tested. Please consider using SQLAlchemy.\n",
      "\n"
     ]
    }
   ],
   "source": [
    "# текст запроса\n",
    "query_4_1 = f'''\n",
    "-- вывод количества вакансий и названий регионов\n",
    "select\n",
    "    count(*) cnt,\n",
    "    a.name\n",
    "from\n",
    "    -- основной таблицей сделаем Вакансии, соединяем с Регионами\n",
    "    public.vacancies v\n",
    "    join public.areas a on v.area_id = a.id -- количество вакансий считаем в разрезе регионов\n",
    "group by\n",
    "    a.id -- сортируем по количеству вакансий от большего к меньшему\n",
    "order by\n",
    "    cnt desc -- в выводе оставим только top-5\n",
    "limit\n",
    "    5\n",
    "'''\n",
    "result_4_1 = pd.read_sql_query(query_4_1, connection)"
   ]
  },
  {
   "cell_type": "code",
   "execution_count": 16,
   "id": "P7QL86hrjhRJ",
   "metadata": {
    "id": "P7QL86hrjhRJ"
   },
   "outputs": [
    {
     "data": {
      "text/html": [
       "<div>\n",
       "<style scoped>\n",
       "    .dataframe tbody tr th:only-of-type {\n",
       "        vertical-align: middle;\n",
       "    }\n",
       "\n",
       "    .dataframe tbody tr th {\n",
       "        vertical-align: top;\n",
       "    }\n",
       "\n",
       "    .dataframe thead th {\n",
       "        text-align: right;\n",
       "    }\n",
       "</style>\n",
       "<table border=\"1\" class=\"dataframe\">\n",
       "  <thead>\n",
       "    <tr style=\"text-align: right;\">\n",
       "      <th></th>\n",
       "      <th>cnt</th>\n",
       "      <th>name</th>\n",
       "    </tr>\n",
       "  </thead>\n",
       "  <tbody>\n",
       "    <tr>\n",
       "      <th>0</th>\n",
       "      <td>5333</td>\n",
       "      <td>Москва</td>\n",
       "    </tr>\n",
       "    <tr>\n",
       "      <th>1</th>\n",
       "      <td>2851</td>\n",
       "      <td>Санкт-Петербург</td>\n",
       "    </tr>\n",
       "    <tr>\n",
       "      <th>2</th>\n",
       "      <td>2112</td>\n",
       "      <td>Минск</td>\n",
       "    </tr>\n",
       "    <tr>\n",
       "      <th>3</th>\n",
       "      <td>2006</td>\n",
       "      <td>Новосибирск</td>\n",
       "    </tr>\n",
       "    <tr>\n",
       "      <th>4</th>\n",
       "      <td>1892</td>\n",
       "      <td>Алматы</td>\n",
       "    </tr>\n",
       "  </tbody>\n",
       "</table>\n",
       "</div>"
      ],
      "text/plain": [
       "    cnt             name\n",
       "0  5333           Москва\n",
       "1  2851  Санкт-Петербург\n",
       "2  2112            Минск\n",
       "3  2006      Новосибирск\n",
       "4  1892           Алматы"
      ]
     },
     "execution_count": 16,
     "metadata": {},
     "output_type": "execute_result"
    }
   ],
   "source": [
    "# результат запроса\n",
    "result_4_1"
   ]
  },
  {
   "cell_type": "markdown",
   "id": "4266f0b6-1646-492a-88b4-2f6a46502135",
   "metadata": {
    "id": "4266f0b6-1646-492a-88b4-2f6a46502135"
   },
   "source": [
    "2. Напишите запрос, чтобы определить у какого количества вакансий заполнено хотя бы одно из двух полей с зарплатой."
   ]
  },
  {
   "cell_type": "code",
   "execution_count": 17,
   "id": "0c44b350-72eb-4d65-8b54-a1fc449ba9fd",
   "metadata": {
    "id": "0c44b350-72eb-4d65-8b54-a1fc449ba9fd"
   },
   "outputs": [
    {
     "name": "stderr",
     "output_type": "stream",
     "text": [
      "C:\\Users\\user\\AppData\\Local\\Temp\\ipykernel_7340\\645280818.py:12: UserWarning:\n",
      "\n",
      "pandas only supports SQLAlchemy connectable (engine/connection) or database string URI or sqlite3 DBAPI2 connection. Other DBAPI2 objects are not tested. Please consider using SQLAlchemy.\n",
      "\n"
     ]
    }
   ],
   "source": [
    "# текст запроса\n",
    "query_4_2 = f'''\n",
    "select\n",
    "    count(*)\n",
    "from\n",
    "    public.vacancies v\n",
    "where\n",
    "-- учитываем только те записи, где не пусто хотя бы одно из полей с зарплатой\n",
    "    v.salary_from is not null\n",
    "    or v.salary_to is not null\n",
    "'''\n",
    "result_4_2 = pd.read_sql_query(query_4_2, connection)"
   ]
  },
  {
   "cell_type": "code",
   "execution_count": 18,
   "id": "rhvwaMDkoWTi",
   "metadata": {
    "id": "rhvwaMDkoWTi"
   },
   "outputs": [
    {
     "data": {
      "text/html": [
       "<div>\n",
       "<style scoped>\n",
       "    .dataframe tbody tr th:only-of-type {\n",
       "        vertical-align: middle;\n",
       "    }\n",
       "\n",
       "    .dataframe tbody tr th {\n",
       "        vertical-align: top;\n",
       "    }\n",
       "\n",
       "    .dataframe thead th {\n",
       "        text-align: right;\n",
       "    }\n",
       "</style>\n",
       "<table border=\"1\" class=\"dataframe\">\n",
       "  <thead>\n",
       "    <tr style=\"text-align: right;\">\n",
       "      <th></th>\n",
       "      <th>count</th>\n",
       "    </tr>\n",
       "  </thead>\n",
       "  <tbody>\n",
       "    <tr>\n",
       "      <th>0</th>\n",
       "      <td>24073</td>\n",
       "    </tr>\n",
       "  </tbody>\n",
       "</table>\n",
       "</div>"
      ],
      "text/plain": [
       "   count\n",
       "0  24073"
      ]
     },
     "execution_count": 18,
     "metadata": {},
     "output_type": "execute_result"
    }
   ],
   "source": [
    "# результат запроса\n",
    "result_4_2"
   ]
  },
  {
   "cell_type": "markdown",
   "id": "635c4d5d-f323-4c66-b428-50a088120aa0",
   "metadata": {
    "id": "635c4d5d-f323-4c66-b428-50a088120aa0"
   },
   "source": [
    "3. Найдите средние значения для нижней и верхней границы зарплатной вилки. Округлите значения до целого."
   ]
  },
  {
   "cell_type": "code",
   "execution_count": 19,
   "id": "603cdbe4-0ec3-4106-8eaf-c73fcdd29165",
   "metadata": {
    "id": "603cdbe4-0ec3-4106-8eaf-c73fcdd29165"
   },
   "outputs": [
    {
     "name": "stderr",
     "output_type": "stream",
     "text": [
      "C:\\Users\\user\\AppData\\Local\\Temp\\ipykernel_7340\\2798837641.py:14: UserWarning:\n",
      "\n",
      "pandas only supports SQLAlchemy connectable (engine/connection) or database string URI or sqlite3 DBAPI2 connection. Other DBAPI2 objects are not tested. Please consider using SQLAlchemy.\n",
      "\n"
     ]
    }
   ],
   "source": [
    "# текст запроса\n",
    "query_4_3 = f'''\n",
    "select\n",
    "-- выводим средние значения зарплаты (от и до), округленые до целых\n",
    "    round(avg(v.salary_from), 0) min_average,\n",
    "    round(avg(v.salary_to), 0) max_average\n",
    "from\n",
    "    public.vacancies v\n",
    "where\n",
    "-- учитываем только те записи, где не пусто хотя бы одно из полей с зарплатой\n",
    "    v.salary_from is not null\n",
    "    or v.salary_to is not null   \n",
    "'''\n",
    "result_4_3 = pd.read_sql_query(query_4_3, connection)"
   ]
  },
  {
   "cell_type": "code",
   "execution_count": 20,
   "id": "pswpAb66ovZZ",
   "metadata": {
    "id": "pswpAb66ovZZ"
   },
   "outputs": [
    {
     "data": {
      "text/html": [
       "<div>\n",
       "<style scoped>\n",
       "    .dataframe tbody tr th:only-of-type {\n",
       "        vertical-align: middle;\n",
       "    }\n",
       "\n",
       "    .dataframe tbody tr th {\n",
       "        vertical-align: top;\n",
       "    }\n",
       "\n",
       "    .dataframe thead th {\n",
       "        text-align: right;\n",
       "    }\n",
       "</style>\n",
       "<table border=\"1\" class=\"dataframe\">\n",
       "  <thead>\n",
       "    <tr style=\"text-align: right;\">\n",
       "      <th></th>\n",
       "      <th>min_average</th>\n",
       "      <th>max_average</th>\n",
       "    </tr>\n",
       "  </thead>\n",
       "  <tbody>\n",
       "    <tr>\n",
       "      <th>0</th>\n",
       "      <td>71065.0</td>\n",
       "      <td>110537.0</td>\n",
       "    </tr>\n",
       "  </tbody>\n",
       "</table>\n",
       "</div>"
      ],
      "text/plain": [
       "   min_average  max_average\n",
       "0      71065.0     110537.0"
      ]
     },
     "execution_count": 20,
     "metadata": {},
     "output_type": "execute_result"
    }
   ],
   "source": [
    "# результат запроса\n",
    "result_4_3"
   ]
  },
  {
   "cell_type": "markdown",
   "id": "f3fdaec9-5fd3-4260-9cf5-1d7406b628a5",
   "metadata": {
    "id": "f3fdaec9-5fd3-4260-9cf5-1d7406b628a5"
   },
   "source": [
    "4. Напишите запрос, который выведет количество вакансий для каждого сочетания типа рабочего графика (schedule) и типа трудоустройства (employment), используемого в вакансиях. Результат отсортируйте по убыванию количества.\n"
   ]
  },
  {
   "cell_type": "code",
   "execution_count": 21,
   "id": "1ea710ec-871b-431e-9462-c7d0fd87011b",
   "metadata": {
    "id": "1ea710ec-871b-431e-9462-c7d0fd87011b"
   },
   "outputs": [
    {
     "name": "stderr",
     "output_type": "stream",
     "text": [
      "C:\\Users\\user\\AppData\\Local\\Temp\\ipykernel_7340\\596291920.py:23: UserWarning:\n",
      "\n",
      "pandas only supports SQLAlchemy connectable (engine/connection) or database string URI or sqlite3 DBAPI2 connection. Other DBAPI2 objects are not tested. Please consider using SQLAlchemy.\n",
      "\n"
     ]
    }
   ],
   "source": [
    "# текст запроса\n",
    "query_4_4 = f'''\n",
    "select\n",
    "    -- выводим количество, тип рабочего графика и тип трудоустройства\n",
    "    count(*) as cnt,\n",
    "    v.schedule,\n",
    "    v.employment\n",
    "from\n",
    "    public.vacancies v\n",
    "group by\n",
    "    -- для расчета количества группируем записи по типу рабочего графика  и типу трудоустройства\n",
    "    v.schedule,\n",
    "    v.employment\n",
    "order by\n",
    "    -- сортируем по убыванию количества\n",
    "    cnt desc\n",
    "offset\n",
    "    -- пропускам первую запись и выводим вторую\n",
    "    1\n",
    "limit\n",
    "    1\n",
    "'''\n",
    "result_4_4 = pd.read_sql_query(query_4_4, connection)"
   ]
  },
  {
   "cell_type": "code",
   "execution_count": 22,
   "id": "lGUVqavdo4JQ",
   "metadata": {
    "id": "lGUVqavdo4JQ"
   },
   "outputs": [
    {
     "data": {
      "text/html": [
       "<div>\n",
       "<style scoped>\n",
       "    .dataframe tbody tr th:only-of-type {\n",
       "        vertical-align: middle;\n",
       "    }\n",
       "\n",
       "    .dataframe tbody tr th {\n",
       "        vertical-align: top;\n",
       "    }\n",
       "\n",
       "    .dataframe thead th {\n",
       "        text-align: right;\n",
       "    }\n",
       "</style>\n",
       "<table border=\"1\" class=\"dataframe\">\n",
       "  <thead>\n",
       "    <tr style=\"text-align: right;\">\n",
       "      <th></th>\n",
       "      <th>cnt</th>\n",
       "      <th>schedule</th>\n",
       "      <th>employment</th>\n",
       "    </tr>\n",
       "  </thead>\n",
       "  <tbody>\n",
       "    <tr>\n",
       "      <th>0</th>\n",
       "      <td>7802</td>\n",
       "      <td>Удаленная работа</td>\n",
       "      <td>Полная занятость</td>\n",
       "    </tr>\n",
       "  </tbody>\n",
       "</table>\n",
       "</div>"
      ],
      "text/plain": [
       "    cnt          schedule        employment\n",
       "0  7802  Удаленная работа  Полная занятость"
      ]
     },
     "execution_count": 22,
     "metadata": {},
     "output_type": "execute_result"
    }
   ],
   "source": [
    "# результат запроса\n",
    "result_4_4"
   ]
  },
  {
   "cell_type": "markdown",
   "id": "0136ffee-0ead-4a6b-b608-61d1c753a438",
   "metadata": {
    "id": "0136ffee-0ead-4a6b-b608-61d1c753a438"
   },
   "source": [
    "5. Напишите запрос, выводящий значения поля Требуемый опыт работы (experience) в порядке возрастания количества вакансий, в которых указан данный вариант опыта. "
   ]
  },
  {
   "cell_type": "code",
   "execution_count": 23,
   "id": "5b3a8e79-f7ab-4008-b767-12aea3a205ea",
   "metadata": {
    "id": "5b3a8e79-f7ab-4008-b767-12aea3a205ea"
   },
   "outputs": [
    {
     "name": "stderr",
     "output_type": "stream",
     "text": [
      "C:\\Users\\user\\AppData\\Local\\Temp\\ipykernel_7340\\2545687574.py:16: UserWarning:\n",
      "\n",
      "pandas only supports SQLAlchemy connectable (engine/connection) or database string URI or sqlite3 DBAPI2 connection. Other DBAPI2 objects are not tested. Please consider using SQLAlchemy.\n",
      "\n"
     ]
    }
   ],
   "source": [
    "# текст запроса\n",
    "query_4_5 = f'''\n",
    "select\n",
    "-- выводим количество вакансий и требуемый опыт\n",
    "    count(*) as cnt,\n",
    "    v.experience\n",
    "from\n",
    "    public.vacancies v\n",
    "group by\n",
    "-- для подсчета количества вакансий группируем записи по требуемому опыту\n",
    "    v.experience\n",
    "order by\n",
    "-- сортируем по количеству вакансий\n",
    "    cnt\n",
    "'''\n",
    "result_4_5 = pd.read_sql_query(query_4_5, connection)"
   ]
  },
  {
   "cell_type": "code",
   "execution_count": 24,
   "id": "3Is64Y-hpDpq",
   "metadata": {
    "id": "3Is64Y-hpDpq"
   },
   "outputs": [
    {
     "data": {
      "text/html": [
       "<div>\n",
       "<style scoped>\n",
       "    .dataframe tbody tr th:only-of-type {\n",
       "        vertical-align: middle;\n",
       "    }\n",
       "\n",
       "    .dataframe tbody tr th {\n",
       "        vertical-align: top;\n",
       "    }\n",
       "\n",
       "    .dataframe thead th {\n",
       "        text-align: right;\n",
       "    }\n",
       "</style>\n",
       "<table border=\"1\" class=\"dataframe\">\n",
       "  <thead>\n",
       "    <tr style=\"text-align: right;\">\n",
       "      <th></th>\n",
       "      <th>cnt</th>\n",
       "      <th>experience</th>\n",
       "    </tr>\n",
       "  </thead>\n",
       "  <tbody>\n",
       "    <tr>\n",
       "      <th>0</th>\n",
       "      <td>1337</td>\n",
       "      <td>Более 6 лет</td>\n",
       "    </tr>\n",
       "    <tr>\n",
       "      <th>1</th>\n",
       "      <td>7197</td>\n",
       "      <td>Нет опыта</td>\n",
       "    </tr>\n",
       "    <tr>\n",
       "      <th>2</th>\n",
       "      <td>14511</td>\n",
       "      <td>От 3 до 6 лет</td>\n",
       "    </tr>\n",
       "    <tr>\n",
       "      <th>3</th>\n",
       "      <td>26152</td>\n",
       "      <td>От 1 года до 3 лет</td>\n",
       "    </tr>\n",
       "  </tbody>\n",
       "</table>\n",
       "</div>"
      ],
      "text/plain": [
       "     cnt          experience\n",
       "0   1337         Более 6 лет\n",
       "1   7197           Нет опыта\n",
       "2  14511       От 3 до 6 лет\n",
       "3  26152  От 1 года до 3 лет"
      ]
     },
     "execution_count": 24,
     "metadata": {},
     "output_type": "execute_result"
    }
   ],
   "source": [
    "# результат запроса\n",
    "result_4_5"
   ]
  },
  {
   "cell_type": "markdown",
   "id": "oq2b7n1QpIka",
   "metadata": {
    "id": "oq2b7n1QpIka"
   },
   "source": [
    "***"
   ]
  },
  {
   "cell_type": "markdown",
   "id": "d40b9f04",
   "metadata": {
    "id": "e91f87ed-e25c-4f96-9f92-b642e8c0b4fa"
   },
   "source": [
    "# Выводы по детальному анализу вакансий"
   ]
  },
  {
   "cell_type": "markdown",
   "id": "53d75130",
   "metadata": {},
   "source": [
    "*Сделанные ранее выводы о среднем количестве вакансий по регионам теперь уточняются. Ожидаемо, что есть регионы,\n",
    "в которых количество вакансий сильно сильно больше по сравнению с остальными. Ожидаемо, это Москва и Санкт-Петербург, как\n",
    "наибольшие рынки труда в России. Представим визуально топ-5 городов по числу вакансий.*"
   ]
  },
  {
   "cell_type": "code",
   "execution_count": 25,
   "id": "6bb9fde2",
   "metadata": {},
   "outputs": [
    {
     "data": {
      "application/vnd.plotly.v1+json": {
       "config": {
        "plotlyServerURL": "https://plot.ly"
       },
       "data": [
        {
         "alignmentgroup": "True",
         "hovertemplate": "Город=%{x}<br>Количество=%{y}<extra></extra>",
         "legendgroup": "",
         "marker": {
          "color": "#636efa",
          "pattern": {
           "shape": ""
          }
         },
         "name": "",
         "offsetgroup": "",
         "orientation": "v",
         "showlegend": false,
         "textposition": "auto",
         "type": "bar",
         "x": [
          "Москва",
          "Санкт-Петербург",
          "Минск",
          "Новосибирск",
          "Алматы"
         ],
         "xaxis": "x",
         "y": [
          5333,
          2851,
          2112,
          2006,
          1892
         ],
         "yaxis": "y"
        }
       ],
       "layout": {
        "barmode": "relative",
        "legend": {
         "tracegroupgap": 0
        },
        "template": {
         "data": {
          "bar": [
           {
            "error_x": {
             "color": "#2a3f5f"
            },
            "error_y": {
             "color": "#2a3f5f"
            },
            "marker": {
             "line": {
              "color": "#E5ECF6",
              "width": 0.5
             },
             "pattern": {
              "fillmode": "overlay",
              "size": 10,
              "solidity": 0.2
             }
            },
            "type": "bar"
           }
          ],
          "barpolar": [
           {
            "marker": {
             "line": {
              "color": "#E5ECF6",
              "width": 0.5
             },
             "pattern": {
              "fillmode": "overlay",
              "size": 10,
              "solidity": 0.2
             }
            },
            "type": "barpolar"
           }
          ],
          "carpet": [
           {
            "aaxis": {
             "endlinecolor": "#2a3f5f",
             "gridcolor": "white",
             "linecolor": "white",
             "minorgridcolor": "white",
             "startlinecolor": "#2a3f5f"
            },
            "baxis": {
             "endlinecolor": "#2a3f5f",
             "gridcolor": "white",
             "linecolor": "white",
             "minorgridcolor": "white",
             "startlinecolor": "#2a3f5f"
            },
            "type": "carpet"
           }
          ],
          "choropleth": [
           {
            "colorbar": {
             "outlinewidth": 0,
             "ticks": ""
            },
            "type": "choropleth"
           }
          ],
          "contour": [
           {
            "colorbar": {
             "outlinewidth": 0,
             "ticks": ""
            },
            "colorscale": [
             [
              0,
              "#0d0887"
             ],
             [
              0.1111111111111111,
              "#46039f"
             ],
             [
              0.2222222222222222,
              "#7201a8"
             ],
             [
              0.3333333333333333,
              "#9c179e"
             ],
             [
              0.4444444444444444,
              "#bd3786"
             ],
             [
              0.5555555555555556,
              "#d8576b"
             ],
             [
              0.6666666666666666,
              "#ed7953"
             ],
             [
              0.7777777777777778,
              "#fb9f3a"
             ],
             [
              0.8888888888888888,
              "#fdca26"
             ],
             [
              1,
              "#f0f921"
             ]
            ],
            "type": "contour"
           }
          ],
          "contourcarpet": [
           {
            "colorbar": {
             "outlinewidth": 0,
             "ticks": ""
            },
            "type": "contourcarpet"
           }
          ],
          "heatmap": [
           {
            "colorbar": {
             "outlinewidth": 0,
             "ticks": ""
            },
            "colorscale": [
             [
              0,
              "#0d0887"
             ],
             [
              0.1111111111111111,
              "#46039f"
             ],
             [
              0.2222222222222222,
              "#7201a8"
             ],
             [
              0.3333333333333333,
              "#9c179e"
             ],
             [
              0.4444444444444444,
              "#bd3786"
             ],
             [
              0.5555555555555556,
              "#d8576b"
             ],
             [
              0.6666666666666666,
              "#ed7953"
             ],
             [
              0.7777777777777778,
              "#fb9f3a"
             ],
             [
              0.8888888888888888,
              "#fdca26"
             ],
             [
              1,
              "#f0f921"
             ]
            ],
            "type": "heatmap"
           }
          ],
          "heatmapgl": [
           {
            "colorbar": {
             "outlinewidth": 0,
             "ticks": ""
            },
            "colorscale": [
             [
              0,
              "#0d0887"
             ],
             [
              0.1111111111111111,
              "#46039f"
             ],
             [
              0.2222222222222222,
              "#7201a8"
             ],
             [
              0.3333333333333333,
              "#9c179e"
             ],
             [
              0.4444444444444444,
              "#bd3786"
             ],
             [
              0.5555555555555556,
              "#d8576b"
             ],
             [
              0.6666666666666666,
              "#ed7953"
             ],
             [
              0.7777777777777778,
              "#fb9f3a"
             ],
             [
              0.8888888888888888,
              "#fdca26"
             ],
             [
              1,
              "#f0f921"
             ]
            ],
            "type": "heatmapgl"
           }
          ],
          "histogram": [
           {
            "marker": {
             "pattern": {
              "fillmode": "overlay",
              "size": 10,
              "solidity": 0.2
             }
            },
            "type": "histogram"
           }
          ],
          "histogram2d": [
           {
            "colorbar": {
             "outlinewidth": 0,
             "ticks": ""
            },
            "colorscale": [
             [
              0,
              "#0d0887"
             ],
             [
              0.1111111111111111,
              "#46039f"
             ],
             [
              0.2222222222222222,
              "#7201a8"
             ],
             [
              0.3333333333333333,
              "#9c179e"
             ],
             [
              0.4444444444444444,
              "#bd3786"
             ],
             [
              0.5555555555555556,
              "#d8576b"
             ],
             [
              0.6666666666666666,
              "#ed7953"
             ],
             [
              0.7777777777777778,
              "#fb9f3a"
             ],
             [
              0.8888888888888888,
              "#fdca26"
             ],
             [
              1,
              "#f0f921"
             ]
            ],
            "type": "histogram2d"
           }
          ],
          "histogram2dcontour": [
           {
            "colorbar": {
             "outlinewidth": 0,
             "ticks": ""
            },
            "colorscale": [
             [
              0,
              "#0d0887"
             ],
             [
              0.1111111111111111,
              "#46039f"
             ],
             [
              0.2222222222222222,
              "#7201a8"
             ],
             [
              0.3333333333333333,
              "#9c179e"
             ],
             [
              0.4444444444444444,
              "#bd3786"
             ],
             [
              0.5555555555555556,
              "#d8576b"
             ],
             [
              0.6666666666666666,
              "#ed7953"
             ],
             [
              0.7777777777777778,
              "#fb9f3a"
             ],
             [
              0.8888888888888888,
              "#fdca26"
             ],
             [
              1,
              "#f0f921"
             ]
            ],
            "type": "histogram2dcontour"
           }
          ],
          "mesh3d": [
           {
            "colorbar": {
             "outlinewidth": 0,
             "ticks": ""
            },
            "type": "mesh3d"
           }
          ],
          "parcoords": [
           {
            "line": {
             "colorbar": {
              "outlinewidth": 0,
              "ticks": ""
             }
            },
            "type": "parcoords"
           }
          ],
          "pie": [
           {
            "automargin": true,
            "type": "pie"
           }
          ],
          "scatter": [
           {
            "fillpattern": {
             "fillmode": "overlay",
             "size": 10,
             "solidity": 0.2
            },
            "type": "scatter"
           }
          ],
          "scatter3d": [
           {
            "line": {
             "colorbar": {
              "outlinewidth": 0,
              "ticks": ""
             }
            },
            "marker": {
             "colorbar": {
              "outlinewidth": 0,
              "ticks": ""
             }
            },
            "type": "scatter3d"
           }
          ],
          "scattercarpet": [
           {
            "marker": {
             "colorbar": {
              "outlinewidth": 0,
              "ticks": ""
             }
            },
            "type": "scattercarpet"
           }
          ],
          "scattergeo": [
           {
            "marker": {
             "colorbar": {
              "outlinewidth": 0,
              "ticks": ""
             }
            },
            "type": "scattergeo"
           }
          ],
          "scattergl": [
           {
            "marker": {
             "colorbar": {
              "outlinewidth": 0,
              "ticks": ""
             }
            },
            "type": "scattergl"
           }
          ],
          "scattermapbox": [
           {
            "marker": {
             "colorbar": {
              "outlinewidth": 0,
              "ticks": ""
             }
            },
            "type": "scattermapbox"
           }
          ],
          "scatterpolar": [
           {
            "marker": {
             "colorbar": {
              "outlinewidth": 0,
              "ticks": ""
             }
            },
            "type": "scatterpolar"
           }
          ],
          "scatterpolargl": [
           {
            "marker": {
             "colorbar": {
              "outlinewidth": 0,
              "ticks": ""
             }
            },
            "type": "scatterpolargl"
           }
          ],
          "scatterternary": [
           {
            "marker": {
             "colorbar": {
              "outlinewidth": 0,
              "ticks": ""
             }
            },
            "type": "scatterternary"
           }
          ],
          "surface": [
           {
            "colorbar": {
             "outlinewidth": 0,
             "ticks": ""
            },
            "colorscale": [
             [
              0,
              "#0d0887"
             ],
             [
              0.1111111111111111,
              "#46039f"
             ],
             [
              0.2222222222222222,
              "#7201a8"
             ],
             [
              0.3333333333333333,
              "#9c179e"
             ],
             [
              0.4444444444444444,
              "#bd3786"
             ],
             [
              0.5555555555555556,
              "#d8576b"
             ],
             [
              0.6666666666666666,
              "#ed7953"
             ],
             [
              0.7777777777777778,
              "#fb9f3a"
             ],
             [
              0.8888888888888888,
              "#fdca26"
             ],
             [
              1,
              "#f0f921"
             ]
            ],
            "type": "surface"
           }
          ],
          "table": [
           {
            "cells": {
             "fill": {
              "color": "#EBF0F8"
             },
             "line": {
              "color": "white"
             }
            },
            "header": {
             "fill": {
              "color": "#C8D4E3"
             },
             "line": {
              "color": "white"
             }
            },
            "type": "table"
           }
          ]
         },
         "layout": {
          "annotationdefaults": {
           "arrowcolor": "#2a3f5f",
           "arrowhead": 0,
           "arrowwidth": 1
          },
          "autotypenumbers": "strict",
          "coloraxis": {
           "colorbar": {
            "outlinewidth": 0,
            "ticks": ""
           }
          },
          "colorscale": {
           "diverging": [
            [
             0,
             "#8e0152"
            ],
            [
             0.1,
             "#c51b7d"
            ],
            [
             0.2,
             "#de77ae"
            ],
            [
             0.3,
             "#f1b6da"
            ],
            [
             0.4,
             "#fde0ef"
            ],
            [
             0.5,
             "#f7f7f7"
            ],
            [
             0.6,
             "#e6f5d0"
            ],
            [
             0.7,
             "#b8e186"
            ],
            [
             0.8,
             "#7fbc41"
            ],
            [
             0.9,
             "#4d9221"
            ],
            [
             1,
             "#276419"
            ]
           ],
           "sequential": [
            [
             0,
             "#0d0887"
            ],
            [
             0.1111111111111111,
             "#46039f"
            ],
            [
             0.2222222222222222,
             "#7201a8"
            ],
            [
             0.3333333333333333,
             "#9c179e"
            ],
            [
             0.4444444444444444,
             "#bd3786"
            ],
            [
             0.5555555555555556,
             "#d8576b"
            ],
            [
             0.6666666666666666,
             "#ed7953"
            ],
            [
             0.7777777777777778,
             "#fb9f3a"
            ],
            [
             0.8888888888888888,
             "#fdca26"
            ],
            [
             1,
             "#f0f921"
            ]
           ],
           "sequentialminus": [
            [
             0,
             "#0d0887"
            ],
            [
             0.1111111111111111,
             "#46039f"
            ],
            [
             0.2222222222222222,
             "#7201a8"
            ],
            [
             0.3333333333333333,
             "#9c179e"
            ],
            [
             0.4444444444444444,
             "#bd3786"
            ],
            [
             0.5555555555555556,
             "#d8576b"
            ],
            [
             0.6666666666666666,
             "#ed7953"
            ],
            [
             0.7777777777777778,
             "#fb9f3a"
            ],
            [
             0.8888888888888888,
             "#fdca26"
            ],
            [
             1,
             "#f0f921"
            ]
           ]
          },
          "colorway": [
           "#636efa",
           "#EF553B",
           "#00cc96",
           "#ab63fa",
           "#FFA15A",
           "#19d3f3",
           "#FF6692",
           "#B6E880",
           "#FF97FF",
           "#FECB52"
          ],
          "font": {
           "color": "#2a3f5f"
          },
          "geo": {
           "bgcolor": "white",
           "lakecolor": "white",
           "landcolor": "#E5ECF6",
           "showlakes": true,
           "showland": true,
           "subunitcolor": "white"
          },
          "hoverlabel": {
           "align": "left"
          },
          "hovermode": "closest",
          "mapbox": {
           "style": "light"
          },
          "paper_bgcolor": "white",
          "plot_bgcolor": "#E5ECF6",
          "polar": {
           "angularaxis": {
            "gridcolor": "white",
            "linecolor": "white",
            "ticks": ""
           },
           "bgcolor": "#E5ECF6",
           "radialaxis": {
            "gridcolor": "white",
            "linecolor": "white",
            "ticks": ""
           }
          },
          "scene": {
           "xaxis": {
            "backgroundcolor": "#E5ECF6",
            "gridcolor": "white",
            "gridwidth": 2,
            "linecolor": "white",
            "showbackground": true,
            "ticks": "",
            "zerolinecolor": "white"
           },
           "yaxis": {
            "backgroundcolor": "#E5ECF6",
            "gridcolor": "white",
            "gridwidth": 2,
            "linecolor": "white",
            "showbackground": true,
            "ticks": "",
            "zerolinecolor": "white"
           },
           "zaxis": {
            "backgroundcolor": "#E5ECF6",
            "gridcolor": "white",
            "gridwidth": 2,
            "linecolor": "white",
            "showbackground": true,
            "ticks": "",
            "zerolinecolor": "white"
           }
          },
          "shapedefaults": {
           "line": {
            "color": "#2a3f5f"
           }
          },
          "ternary": {
           "aaxis": {
            "gridcolor": "white",
            "linecolor": "white",
            "ticks": ""
           },
           "baxis": {
            "gridcolor": "white",
            "linecolor": "white",
            "ticks": ""
           },
           "bgcolor": "#E5ECF6",
           "caxis": {
            "gridcolor": "white",
            "linecolor": "white",
            "ticks": ""
           }
          },
          "title": {
           "x": 0.05
          },
          "xaxis": {
           "automargin": true,
           "gridcolor": "white",
           "linecolor": "white",
           "ticks": "",
           "title": {
            "standoff": 15
           },
           "zerolinecolor": "white",
           "zerolinewidth": 2
          },
          "yaxis": {
           "automargin": true,
           "gridcolor": "white",
           "linecolor": "white",
           "ticks": "",
           "title": {
            "standoff": 15
           },
           "zerolinecolor": "white",
           "zerolinewidth": 2
          }
         }
        },
        "title": {
         "text": "Top-5 городов по числу вакансий"
        },
        "xaxis": {
         "anchor": "y",
         "domain": [
          0,
          1
         ],
         "title": {
          "text": "Город"
         }
        },
        "yaxis": {
         "anchor": "x",
         "domain": [
          0,
          1
         ],
         "title": {
          "text": "Количество"
         }
        }
       }
      }
     },
     "metadata": {},
     "output_type": "display_data"
    }
   ],
   "source": [
    "# визуализация данных df result_4_1\n",
    "fig = px.bar(\n",
    "    data_frame = result_4_1,\n",
    "    x = 'name',\n",
    "    y = 'cnt',\n",
    "    title = 'Top-5 городов по числу вакансий',\n",
    "    labels={'cnt':'Количество', 'name':'Город'})\n",
    "fig.show()\n",
    "fig.write_html('graphs/Визуализация_2.html')"
   ]
  },
  {
   "cell_type": "markdown",
   "id": "8cc6184a",
   "metadata": {},
   "source": [
    "*Видно, что помимо двух крупнейших городов России, в топ-5 по числу вакансий вошли также Минск, в котором актвино развивается\n",
    "ИТ-сфера, научный центр Сибири - Новосибирск, а также крупнейший город Казахстана - Алматы. В целом, наиболее ичсло вакансий\n",
    "характерно для столичных городов, что связано с масштабом их рынка труда.*"
   ]
  },
  {
   "cell_type": "markdown",
   "id": "829aae36",
   "metadata": {},
   "source": [
    "*Интересно рассмотреть также распределение заработной платы, как ее нижней границы, так и верхней.\n",
    "Посмотрим на показатели вариации зарплаты.*"
   ]
  },
  {
   "cell_type": "code",
   "execution_count": 26,
   "id": "226f384b",
   "metadata": {
    "scrolled": true
   },
   "outputs": [
    {
     "name": "stderr",
     "output_type": "stream",
     "text": [
      "C:\\Users\\user\\AppData\\Local\\Temp\\ipykernel_7340\\2966606069.py:25: UserWarning:\n",
      "\n",
      "pandas only supports SQLAlchemy connectable (engine/connection) or database string URI or sqlite3 DBAPI2 connection. Other DBAPI2 objects are not tested. Please consider using SQLAlchemy.\n",
      "\n"
     ]
    },
    {
     "data": {
      "application/vnd.plotly.v1+json": {
       "config": {
        "plotlyServerURL": "https://plot.ly"
       },
       "data": [
        {
         "alignmentgroup": "True",
         "hovertemplate": "ЗП, руб.=%{x}<br>От/До=%{y}<extra></extra>",
         "legendgroup": "",
         "marker": {
          "color": "#636efa"
         },
         "name": "",
         "notched": false,
         "offsetgroup": "",
         "orientation": "h",
         "showlegend": false,
         "type": "box",
         "x": [
          128000,
          30600,
          87673,
          150453,
          55600,
          66900,
          70138,
          26302,
          71500,
          16657,
          37110,
          75,
          13753,
          350000,
          50488,
          56200,
          185000,
          39950,
          31300,
          1500,
          13160,
          306000,
          48819,
          26620,
          78000,
          16370,
          42412,
          38000,
          70800,
          74500,
          290000,
          270000,
          39500,
          57500,
          12205,
          15472,
          24409,
          60413,
          34596,
          275000,
          43937,
          157811,
          49700,
          257173,
          274708,
          34196,
          24407,
          106512,
          1500,
          50575,
          72250,
          17697,
          50000,
          205000,
          56193,
          63700,
          111500,
          172500,
          66000,
          63900,
          35064,
          45000,
          15500,
          35254,
          28014,
          39100,
          73228,
          11663,
          193000,
          33900,
          46800,
          280553,
          35280,
          122742,
          12815,
          49681,
          28925,
          8543,
          375000,
          64700,
          200000,
          134252,
          34567,
          16854,
          28400,
          7323,
          78320,
          28300,
          57000,
          28071,
          31809,
          17000,
          10417,
          62300,
          83585,
          83500,
          55723,
          67216,
          23200,
          27505,
          47713,
          18958,
          50800,
          80673,
          103000,
          40890,
          280000,
          18204,
          54000,
          69000,
          44500,
          63000,
          27800,
          34950,
          52785,
          26391,
          79331,
          35266,
          20100,
          105207,
          88000,
          73488,
          90000,
          132000,
          55975,
          216259,
          29902,
          400000,
          69000,
          62671,
          60600,
          33134,
          185552,
          68200,
          92400,
          218400,
          213000,
          63500,
          203000,
          80500,
          28425,
          52826,
          76000,
          86210,
          56400,
          87500,
          24500,
          251329,
          123887,
          35064,
          41300,
          584485,
          123000,
          36100,
          15500,
          557232,
          26600,
          51000,
          44655,
          87381,
          51574,
          92493,
          39990,
          18917,
          51064,
          321467,
          7933,
          18714,
          65,
          58583,
          25200,
          80551,
          14000,
          61500,
          60000,
          45000,
          270000,
          72757,
          105191,
          137720,
          40800,
          34586,
          113000,
          220000,
          121000,
          133300,
          86000,
          47172,
          49000,
          227000,
          37421,
          27223,
          104000,
          120089,
          130000,
          83000,
          167170,
          40700,
          83000,
          29100,
          74802,
          52800,
          3000,
          39300,
          204570,
          54800,
          43680,
          36800,
          409140,
          23600,
          224000,
          20337,
          41000,
          11688,
          29158,
          33600,
          38298,
          87874,
          59000,
          140000,
          40000,
          81000,
          39500,
          13835,
          183887,
          33500,
          63618,
          68919,
          41899,
          27670,
          61610,
          79522,
          21400,
          32870,
          49000,
          53700,
          95000,
          39739,
          76890,
          76900,
          47600,
          80000,
          145000,
          320000,
          27986,
          21450,
          255000,
          50900,
          95100,
          48300,
          34173,
          21300,
          25500,
          233794,
          84905,
          73450,
          40532,
          55500,
          61800,
          185000,
          40700,
          87673,
          379915,
          33000,
          345000,
          30943,
          176000,
          11694,
          46800,
          19869,
          84864,
          23189,
          51427,
          29880,
          82900,
          27100,
          147290,
          65000,
          43691,
          50500,
          385760,
          45500,
          29291,
          108000,
          13890,
          43400,
          14177,
          30100,
          33060,
          31557,
          59900,
          44579,
          18233,
          15256,
          22750,
          71000,
          38934,
          17087,
          320000,
          53000,
          102500,
          85000,
          135000,
          42,
          36900,
          90035,
          57741,
          58439,
          151942,
          26800,
          35600,
          42091,
          30000,
          45900,
          105191,
          63000,
          10314,
          79331,
          21050,
          121934,
          32760,
          6000,
          10603,
          7013,
          53700,
          54500,
          44800,
          73000,
          57700,
          34250,
          61024,
          31360,
          12815,
          61704,
          52937,
          36614,
          55000,
          119216,
          42410,
          91954,
          35065,
          37401,
          66868,
          44000,
          41500,
          70,
          23000,
          350691,
          43600,
          43680,
          94729,
          31680,
          135000,
          38156,
          150765,
          315000,
          9350,
          104900,
          136000,
          26500,
          39050,
          39600,
          148000,
          58800,
          25400,
          70000,
          37500,
          26600,
          334339,
          65900,
          40826,
          225000,
          59608,
          40826,
          76100,
          52500,
          800000,
          83500,
          27223,
          86300,
          23400,
          34375,
          50700,
          35069,
          63900,
          33895,
          33100,
          67800,
          57200,
          32000,
          62000,
          71608,
          113750,
          120609,
          23600,
          45752,
          24675,
          210000,
          93000,
          2000,
          32300,
          23800,
          76500,
          6200,
          157150,
          7282,
          30512,
          180630,
          195275,
          51427,
          137930,
          37713,
          55500,
          31809,
          121000,
          22266,
          45063,
          72250,
          260177,
          41600,
          113000,
          121554,
          26000,
          370000,
          45600,
          550000,
          30086,
          253000,
          56500,
          14025,
          178314,
          35394,
          25020,
          115000,
          20337,
          20504,
          263018,
          285000,
          98000,
          37000,
          127000,
          90200,
          148224,
          135579,
          22500,
          58448,
          295333,
          175000,
          60690,
          61000,
          65300,
          360000,
          60777,
          202000,
          52000,
          23900,
          37110,
          12000,
          42500,
          9154,
          29000,
          96600,
          47500,
          90200,
          45752,
          88709,
          61830,
          28750,
          57000,
          22000,
          52500,
          40250,
          96000,
          62310,
          70690,
          75000,
          11220,
          146500,
          72000,
          10923,
          163656,
          36409,
          35197,
          17895,
          78905,
          31732,
          37410,
          85000,
          290000,
          30512,
          19869,
          63618,
          32205,
          163000,
          175000,
          61357,
          133241,
          25700,
          49800,
          21430,
          181000,
          94000,
          145635,
          60000,
          30,
          40425,
          170000,
          159045,
          51900,
          46400,
          218400,
          5301,
          85433,
          81828,
          21038,
          16717,
          92494,
          111052,
          243000,
          410000,
          46200,
          51500,
          45100,
          254251,
          34783,
          50600,
          227949,
          146121,
          33950,
          52100,
          92100,
          650000,
          15256,
          181190,
          50250,
          105,
          230000,
          115945,
          79000,
          600000,
          18100,
          38220,
          33563,
          30700,
          72500,
          187000,
          36900,
          51840,
          29950,
          99362,
          61800,
          178000,
          51150,
          29688,
          49500,
          91674,
          208000,
          141000,
          68763,
          18000,
          427164,
          187035,
          198725,
          18701,
          526036,
          51800,
          92334,
          37700,
          24043,
          245484,
          24861,
          467588,
          30555,
          130675,
          99750,
          49600,
          49416,
          13800,
          91954,
          250,
          120000,
          93503,
          43100,
          132537,
          28051,
          41750,
          140276,
          25630,
          58448,
          122750,
          48000,
          44615,
          12000,
          162000,
          73500,
          21700,
          33800,
          49562,
          34125,
          123790,
          21800,
          750,
          49140,
          34355,
          183070,
          52785,
          21000,
          17535,
          34937,
          517000,
          17000,
          16129,
          28014,
          29460,
          84800,
          22000,
          27900,
          306478,
          34140,
          42000,
          162000,
          84000,
          123600,
          132537,
          91000,
          201000,
          29400,
          21525,
          180000,
          50300,
          78028,
          88709,
          165000,
          26400,
          60300,
          31200,
          58000,
          74300,
          140254,
          210000,
          105000,
          54200,
          52604,
          134000,
          77800,
          288000,
          43828,
          96000,
          28600,
          65780,
          16304,
          50400,
          36500,
          40914,
          23555,
          82000,
          54700,
          15000,
          48000,
          107401,
          63600,
          31732,
          136000,
          40914,
          27268,
          18555,
          115000,
          118000,
          18307,
          10314,
          46170,
          33800,
          90400,
          34547,
          38156,
          155000,
          83900,
          34382,
          42800,
          98800,
          116633,
          11545,
          89000,
          24800,
          28410,
          73994,
          26800,
          23860,
          24000,
          32726,
          20260,
          137000,
          51350,
          17363,
          24590,
          860000,
          33465,
          34201,
          27100,
          40350,
          42560,
          20748,
          46000,
          78300,
          47902,
          105200,
          40563,
          420000,
          36232,
          71544,
          85433,
          95000,
          49700,
          18560,
          30500,
          48800,
          42412,
          89230,
          64740,
          850,
          148000,
          61704,
          37600,
          55400,
          91535,
          40600,
          56000,
          58439,
          46090,
          46751,
          88000,
          42100,
          37820,
          75983,
          80000,
          61024,
          122000,
          98000,
          260000,
          36600,
          146456,
          348270,
          61357,
          5832,
          55000,
          33700,
          60900,
          91000,
          27000,
          310000,
          100516,
          52480,
          158000,
          72500,
          390000,
          50800,
          122000,
          280000,
          34700,
          36368,
          51724,
          62610,
          19528,
          12937,
          8000,
          128566,
          35235,
          24500,
          77000,
          63600,
          33900,
          32200,
          14025,
          128163,
          137200,
          20500,
          116897,
          24067,
          43691,
          40350,
          18307,
          128587,
          156583,
          244094,
          117000,
          15012,
          42076,
          25713,
          28500,
          46759,
          192880,
          7952,
          222893,
          26900,
          21845,
          43815,
          17064,
          42600,
          93000,
          88828,
          29033,
          2000,
          50880,
          133736,
          204570,
          274708,
          127500,
          80551,
          103000,
          60600,
          42800,
          415000,
          112203,
          32953,
          170866,
          22091,
          130000,
          36648,
          31570,
          105207,
          134500,
          20457,
          24300,
          61000,
          92000,
          42560,
          25800,
          44800,
          23000,
          51000,
          17087,
          38220,
          225000,
          28900,
          56000,
          18555,
          58254,
          21968,
          574000,
          55600,
          97000,
          35500,
          36265,
          27800,
          9600,
          195031,
          10000,
          19750,
          82000,
          39351,
          22660,
          54900,
          20880,
          38625,
          31557,
          264000,
          127000,
          125000,
          315622,
          256000,
          35000,
          28000,
          90641,
          107875,
          15866,
          11688,
          19000,
          20997,
          144000,
          167170,
          30500,
          158955,
          27500,
          31500,
          128163,
          57500,
          123000,
          216259,
          109000,
          36890,
          117800,
          58000,
          69999,
          28051,
          76300,
          2805,
          65000,
          40500,
          81815,
          91535,
          51641,
          58400,
          36650,
          82650,
          73995,
          41500,
          6000,
          11690,
          26400,
          47600,
          80460,
          26850,
          40697,
          67126,
          46500,
          47500,
          37401,
          48900,
          90000,
          36614,
          179000,
          36934,
          107528,
          53015,
          151966,
          99000,
          59000,
          29500,
          27780,
          95427,
          14800,
          52050,
          59400,
          28574,
          18701,
          28531,
          47328,
          24653,
          30270,
          26700,
          19500,
          49282,
          73228,
          114000,
          11594,
          122500,
          82590,
          65546,
          172500,
          41000,
          15974,
          74000,
          29400,
          68400,
          115500,
          16000,
          47713,
          53701,
          700000,
          43149,
          77000,
          39900,
          97000,
          2338,
          215000,
          69600,
          450000,
          24840,
          158661,
          41300,
          168000,
          104900,
          40276,
          263018,
          41570,
          75983,
          90641,
          48500,
          58254,
          84000,
          63200,
          103300,
          34631,
          31791,
          240000,
          13425,
          54550,
          40800,
          7952,
          29291,
          73400,
          50640,
          31100,
          37000,
          31000,
          103500,
          68993,
          81900,
          76800,
          109227,
          106030,
          42076,
          39600,
          45600,
          54921,
          51765,
          31250,
          41600,
          35394,
          13890,
          268863,
          122591,
          56800,
          64293,
          250754,
          27505,
          38500,
          43000,
          39200,
          109842,
          20748,
          196000,
          98600,
          60,
          52826,
          29224,
          252000,
          48662,
          11000,
          150000,
          10000,
          300000,
          20629,
          100516,
          34783,
          161000,
          42083,
          143000,
          34806,
          101700,
          44500,
          45500,
          77140,
          47000,
          125000,
          5000,
          42106,
          93503,
          47200,
          41250,
          46400,
          43149,
          12389,
          59400,
          3506,
          28750,
          22500,
          79077,
          29300,
          98500,
          34000,
          187000,
          19168,
          23376,
          43200,
          80673,
          21500,
          195000,
          14711,
          45760,
          70700,
          19528,
          73500,
          80500,
          29500,
          345000,
          231000,
          27300,
          26507,
          68000,
          72000,
          12205,
          62400,
          147000,
          72818,
          32600,
          61160,
          52100,
          29000,
          33000,
          20629,
          47700,
          67126,
          464000,
          112000,
          48300,
          50694,
          65452,
          102000,
          26100,
          107000,
          292242,
          38235,
          250000,
          109842,
          61410,
          31000,
          76500,
          24067,
          26000,
          49372,
          31604,
          23857,
          41379,
          49300,
          49400,
          59900,
          38500,
          10374,
          194000,
          32953,
          196012,
          75000,
          30388,
          140254,
          6102,
          98457,
          67000,
          305118,
          126500,
          42716,
          35000,
          61500,
          79000,
          54585,
          400000,
          27000,
          126000,
          51750,
          74000,
          32300,
          520000,
          127500,
          17191,
          210381,
          145000,
          33400,
          50640,
          21695,
          157800,
          160000,
          33400,
          82500,
          15800,
          49500,
          41184,
          46378,
          38800,
          57647,
          55230,
          77140,
          51572,
          72818,
          286000,
          25300,
          51800,
          39055,
          250000,
          40900,
          31500,
          59562,
          37600,
          97638,
          48100,
          14646,
          58650,
          22207,
          181190,
          25000,
          243000,
          11220,
          13254,
          71000,
          190000,
          146456,
          24000,
          146450,
          44370,
          44414,
          89900,
          81815,
          95700,
          62500,
          46000,
          273044,
          146121,
          38700,
          165000,
          76400,
          102000,
          50500,
          950000,
          9764,
          278616,
          72085,
          68540,
          53764,
          30447,
          51500,
          14564,
          13000,
          48672,
          351056,
          32500,
          46988,
          50300,
          48900,
          18500,
          41570,
          93518,
          29872,
          13373,
          340000,
          139308,
          51400,
          66178,
          46759,
          54800,
          330000,
          56102,
          33137,
          65500,
          330000,
          137000,
          45063,
          33574,
          105000,
          15000,
          47902,
          100800,
          58650,
          22579,
          30648,
          4506,
          72465,
          38102,
          46500,
          24861,
          54100,
          25000,
          26972,
          198725,
          48774,
          89000,
          50400,
          66100,
          74802,
          160920,
          220000,
          285000,
          14711,
          75335,
          48672,
          47250,
          53000,
          57800,
          61830,
          53990,
          51572,
          53400,
          84824,
          59999,
          29127,
          153000,
          56386,
          355000,
          2922,
          196591,
          13425,
          257173,
          175346,
          73800,
          36500,
          13000,
          29657,
          80,
          16300,
          70506,
          134432,
          27200,
          40000,
          88200,
          44414,
          241000,
          30800,
          56500,
          68000,
          34000,
          68700,
          44000,
          68800,
          23939,
          52050,
          90125,
          157000,
          142500,
          57600,
          138000,
          80200,
          98457,
          83100,
          36700,
          27461,
          46170,
          64000,
          60001,
          21640,
          260000,
          21845,
          120800,
          39672,
          34460,
          190000,
          900,
          109000,
          183070,
          1000000,
          150000,
          64551,
          69600,
          87500,
          175346,
          1000,
          72800,
          54052,
          335000,
          35069,
          351000,
          81500,
          64100,
          45105,
          42195,
          46498,
          51792,
          34375,
          13254,
          53764,
          38350,
          16363,
          379915,
          60300,
          38102,
          70127,
          42500,
          20500,
          54000,
          70127,
          122047,
          146000,
          221000,
          329527,
          122664,
          390062,
          34500,
          54921,
          28071,
          116878,
          33200,
          51600,
          39330,
          430000,
          172000,
          56600,
          38280,
          222104,
          71500,
          54100,
          40300,
          62854,
          14612,
          43500,
          42716,
          116897,
          149044,
          52794,
          44200,
          23376,
          42100,
          22900,
          60990,
          321467,
          54900,
          20000,
          49440,
          21206,
          79522,
          233794,
          39006,
          88751,
          42000,
          187035,
          63464,
          23857,
          500000,
          30470,
          319000,
          17780,
          46751,
          222893,
          39990,
          151966,
          83900,
          25500,
          77800,
          251329,
          256000,
          97638,
          57952,
          58695,
          30685,
          23500,
          92819,
          39000,
          450000,
          56900,
          546087,
          34100,
          37224,
          44400,
          119000,
          80646,
          25800,
          108681,
          62000,
          350,
          38080,
          30000,
          17400,
          34500,
          64293,
          309000,
          48600,
          28000,
          201063,
          132000,
          39739,
          94663,
          301000,
          47700,
          51700,
          45700,
          31200,
          360000,
          108000,
          60,
          212060,
          37500,
          41750,
          59100,
          43800,
          68200,
          195000,
          170866,
          108697,
          39000,
          11545,
          19500,
          32000,
          14646,
          10984,
          108600,
          35,
          33500,
          53701,
          40171,
          21968,
          230000,
          40600,
          36000,
          16476,
          240000,
          76800,
          42665,
          213000,
          50600,
          29127,
          9999,
          28500,
          18113,
          21500,
          37992,
          60833,
          43828,
          74500,
          68500,
          34382,
          88260,
          44940,
          42088,
          58757,
          23400,
          58800,
          49580,
          27290,
          142200,
          42700,
          92000,
          64000,
          52794,
          75758,
          103500,
          13753,
          78905,
          21206,
          120000,
          24200,
          350636,
          40780,
          75335,
          25300,
          75712,
          137931,
          33434,
          173000,
          156490,
          114192,
          168700,
          280553,
          100000,
          86000,
          20000,
          325000,
          200000,
          53015,
          114000,
          78000,
          67000,
          110000,
          116000,
          31030,
          53800,
          61900,
          48100,
          25900,
          20851,
          101800,
          24409,
          38900,
          268863,
          31122,
          54300,
          26900,
          85900,
          87650,
          36600,
          15904,
          35850,
          61887,
          10519,
          170000,
          43327,
          26850,
          62500,
          40250,
          172000,
          80099,
          114943,
          63114,
          350000,
          43505,
          350691,
          122047,
          28350,
          50750,
          23379,
          78176,
          18057,
          34800,
          184000,
          52900,
          43226,
          82650,
          33060,
          66155,
          5143,
          8787,
          87381,
          207000,
          5610,
          217000,
          53250,
          275000,
          16745,
          46096,
          54256,
          107000,
          40200,
          104000,
          134432,
          160000,
          29200,
          94960,
          15622,
          37300,
          64400,
          211748,
          139000,
          18000,
          98178,
          33200,
          99362,
          63700,
          250754,
          31600,
          21038,
          154000,
          52800,
          195031,
          5301,
          23379,
          33664,
          138000,
          46150,
          49300,
          43500,
          61740,
          111446,
          30388,
          139000,
          19000,
          29224,
          81500,
          47000,
          70000,
          380000,
          52000,
          26507,
          36000,
          38934,
          27500,
          139308,
          309777,
          28800,
          66000,
          15866,
          203000,
          17780,
          50850,
          32500,
          76000,
          101700,
          41258,
          71400,
          52604,
          68250,
          10603,
          17064,
          18890,
          39761,
          38000,
          25713,
          9764,
          155000,
          50000,
          81000,
          151000,
          18204,
          265074,
          88200,
          31750,
          33300,
          110000,
          66100,
          106030,
          43000,
          196000,
          27630,
          17575,
          55723,
          300000,
          70138,
          104424,
          26228,
          39800,
          24311,
          297000,
          292242,
          21973,
          21000,
          34631,
          48514,
          140000,
          34173,
          103740,
          16000,
          158661,
          32775,
          73000,
          30943,
          201100,
          87000,
          38250,
          199000,
          44579,
          14000,
          50039,
          28900,
          25630,
          278616,
          6102,
          53014,
          22884,
          26500,
          1000000,
          19710,
          51700,
          32700,
          48819,
          35700,
          17532,
          37835,
          116878,
          15904,
          58700,
          8181,
          88500,
          103625,
          239610,
          21602,
          210415,
          72757,
          37300,
          100000,
          49562,
          500000,
          53990,
          27094,
          219182,
          20389,
          112500,
          51300,
          46700,
          29220,
          39328,
          180000,
          935176,
          111331,
          32726
         ],
         "x0": " ",
         "xaxis": "x",
         "y": [
          "ЗП до, руб.",
          "ЗП от, руб.",
          "ЗП до, руб.",
          "ЗП до, руб.",
          "ЗП от, руб.",
          "ЗП от, руб.",
          "ЗП от, руб.",
          "ЗП до, руб.",
          "ЗП до, руб.",
          "ЗП от, руб.",
          "ЗП от, руб.",
          "ЗП до, руб.",
          "ЗП до, руб.",
          "ЗП до, руб.",
          "ЗП до, руб.",
          "ЗП от, руб.",
          "ЗП до, руб.",
          "ЗП до, руб.",
          "ЗП от, руб.",
          "ЗП от, руб.",
          "ЗП от, руб.",
          "ЗП до, руб.",
          "ЗП до, руб.",
          "ЗП от, руб.",
          "ЗП от, руб.",
          "ЗП от, руб.",
          "ЗП до, руб.",
          "ЗП до, руб.",
          "ЗП от, руб.",
          "ЗП от, руб.",
          "ЗП от, руб.",
          "ЗП до, руб.",
          "ЗП до, руб.",
          "ЗП от, руб.",
          "ЗП от, руб.",
          "ЗП до, руб.",
          "ЗП до, руб.",
          "ЗП до, руб.",
          "ЗП от, руб.",
          "ЗП до, руб.",
          "ЗП до, руб.",
          "ЗП до, руб.",
          "ЗП до, руб.",
          "ЗП до, руб.",
          "ЗП от, руб.",
          "ЗП до, руб.",
          "ЗП от, руб.",
          "ЗП до, руб.",
          "ЗП до, руб.",
          "ЗП от, руб.",
          "ЗП до, руб.",
          "ЗП до, руб.",
          "ЗП от, руб.",
          "ЗП от, руб.",
          "ЗП до, руб.",
          "ЗП от, руб.",
          "ЗП до, руб.",
          "ЗП до, руб.",
          "ЗП до, руб.",
          "ЗП от, руб.",
          "ЗП от, руб.",
          "ЗП от, руб.",
          "ЗП до, руб.",
          "ЗП до, руб.",
          "ЗП от, руб.",
          "ЗП до, руб.",
          "ЗП до, руб.",
          "ЗП от, руб.",
          "ЗП до, руб.",
          "ЗП до, руб.",
          "ЗП от, руб.",
          "ЗП до, руб.",
          "ЗП от, руб.",
          "ЗП от, руб.",
          "ЗП от, руб.",
          "ЗП от, руб.",
          "ЗП от, руб.",
          "ЗП от, руб.",
          "ЗП до, руб.",
          "ЗП от, руб.",
          "ЗП от, руб.",
          "ЗП до, руб.",
          "ЗП до, руб.",
          "ЗП от, руб.",
          "ЗП от, руб.",
          "ЗП от, руб.",
          "ЗП от, руб.",
          "ЗП от, руб.",
          "ЗП до, руб.",
          "ЗП до, руб.",
          "ЗП до, руб.",
          "ЗП до, руб.",
          "ЗП от, руб.",
          "ЗП от, руб.",
          "ЗП от, руб.",
          "ЗП до, руб.",
          "ЗП от, руб.",
          "ЗП от, руб.",
          "ЗП до, руб.",
          "ЗП до, руб.",
          "ЗП от, руб.",
          "ЗП от, руб.",
          "ЗП от, руб.",
          "ЗП до, руб.",
          "ЗП от, руб.",
          "ЗП до, руб.",
          "ЗП от, руб.",
          "ЗП от, руб.",
          "ЗП от, руб.",
          "ЗП от, руб.",
          "ЗП до, руб.",
          "ЗП до, руб.",
          "ЗП до, руб.",
          "ЗП от, руб.",
          "ЗП от, руб.",
          "ЗП от, руб.",
          "ЗП от, руб.",
          "ЗП до, руб.",
          "ЗП от, руб.",
          "ЗП от, руб.",
          "ЗП от, руб.",
          "ЗП от, руб.",
          "ЗП от, руб.",
          "ЗП до, руб.",
          "ЗП до, руб.",
          "ЗП от, руб.",
          "ЗП до, руб.",
          "ЗП от, руб.",
          "ЗП до, руб.",
          "ЗП от, руб.",
          "ЗП до, руб.",
          "ЗП до, руб.",
          "ЗП до, руб.",
          "ЗП до, руб.",
          "ЗП до, руб.",
          "ЗП от, руб.",
          "ЗП от, руб.",
          "ЗП до, руб.",
          "ЗП до, руб.",
          "ЗП от, руб.",
          "ЗП до, руб.",
          "ЗП от, руб.",
          "ЗП до, руб.",
          "ЗП до, руб.",
          "ЗП до, руб.",
          "ЗП до, руб.",
          "ЗП до, руб.",
          "ЗП от, руб.",
          "ЗП от, руб.",
          "ЗП до, руб.",
          "ЗП до, руб.",
          "ЗП до, руб.",
          "ЗП от, руб.",
          "ЗП от, руб.",
          "ЗП от, руб.",
          "ЗП до, руб.",
          "ЗП до, руб.",
          "ЗП от, руб.",
          "ЗП от, руб.",
          "ЗП до, руб.",
          "ЗП от, руб.",
          "ЗП до, руб.",
          "ЗП от, руб.",
          "ЗП от, руб.",
          "ЗП от, руб.",
          "ЗП до, руб.",
          "ЗП от, руб.",
          "ЗП от, руб.",
          "ЗП от, руб.",
          "ЗП от, руб.",
          "ЗП от, руб.",
          "ЗП до, руб.",
          "ЗП до, руб.",
          "ЗП до, руб.",
          "ЗП до, руб.",
          "ЗП до, руб.",
          "ЗП от, руб.",
          "ЗП до, руб.",
          "ЗП до, руб.",
          "ЗП от, руб.",
          "ЗП до, руб.",
          "ЗП до, руб.",
          "ЗП от, руб.",
          "ЗП до, руб.",
          "ЗП от, руб.",
          "ЗП до, руб.",
          "ЗП до, руб.",
          "ЗП до, руб.",
          "ЗП от, руб.",
          "ЗП до, руб.",
          "ЗП до, руб.",
          "ЗП до, руб.",
          "ЗП до, руб.",
          "ЗП до, руб.",
          "ЗП от, руб.",
          "ЗП от, руб.",
          "ЗП от, руб.",
          "ЗП до, руб.",
          "ЗП до, руб.",
          "ЗП до, руб.",
          "ЗП от, руб.",
          "ЗП до, руб.",
          "ЗП от, руб.",
          "ЗП от, руб.",
          "ЗП от, руб.",
          "ЗП до, руб.",
          "ЗП от, руб.",
          "ЗП от, руб.",
          "ЗП до, руб.",
          "ЗП до, руб.",
          "ЗП до, руб.",
          "ЗП до, руб.",
          "ЗП до, руб.",
          "ЗП от, руб.",
          "ЗП от, руб.",
          "ЗП до, руб.",
          "ЗП до, руб.",
          "ЗП от, руб.",
          "ЗП до, руб.",
          "ЗП до, руб.",
          "ЗП от, руб.",
          "ЗП до, руб.",
          "ЗП от, руб.",
          "ЗП от, руб.",
          "ЗП от, руб.",
          "ЗП до, руб.",
          "ЗП от, руб.",
          "ЗП до, руб.",
          "ЗП от, руб.",
          "ЗП от, руб.",
          "ЗП от, руб.",
          "ЗП до, руб.",
          "ЗП от, руб.",
          "ЗП до, руб.",
          "ЗП до, руб.",
          "ЗП от, руб.",
          "ЗП до, руб.",
          "ЗП от, руб.",
          "ЗП от, руб.",
          "ЗП от, руб.",
          "ЗП от, руб.",
          "ЗП от, руб.",
          "ЗП от, руб.",
          "ЗП от, руб.",
          "ЗП от, руб.",
          "ЗП от, руб.",
          "ЗП до, руб.",
          "ЗП от, руб.",
          "ЗП от, руб.",
          "ЗП от, руб.",
          "ЗП от, руб.",
          "ЗП от, руб.",
          "ЗП от, руб.",
          "ЗП до, руб.",
          "ЗП до, руб.",
          "ЗП от, руб.",
          "ЗП от, руб.",
          "ЗП от, руб.",
          "ЗП до, руб.",
          "ЗП от, руб.",
          "ЗП от, руб.",
          "ЗП от, руб.",
          "ЗП до, руб.",
          "ЗП до, руб.",
          "ЗП от, руб.",
          "ЗП от, руб.",
          "ЗП от, руб.",
          "ЗП от, руб.",
          "ЗП до, руб.",
          "ЗП от, руб.",
          "ЗП от, руб.",
          "ЗП от, руб.",
          "ЗП от, руб.",
          "ЗП от, руб.",
          "ЗП от, руб.",
          "ЗП от, руб.",
          "ЗП от, руб.",
          "ЗП от, руб.",
          "ЗП от, руб.",
          "ЗП до, руб.",
          "ЗП до, руб.",
          "ЗП от, руб.",
          "ЗП от, руб.",
          "ЗП до, руб.",
          "ЗП до, руб.",
          "ЗП до, руб.",
          "ЗП от, руб.",
          "ЗП от, руб.",
          "ЗП от, руб.",
          "ЗП от, руб.",
          "ЗП от, руб.",
          "ЗП до, руб.",
          "ЗП от, руб.",
          "ЗП до, руб.",
          "ЗП от, руб.",
          "ЗП от, руб.",
          "ЗП от, руб.",
          "ЗП от, руб.",
          "ЗП до, руб.",
          "ЗП до, руб.",
          "ЗП от, руб.",
          "ЗП от, руб.",
          "ЗП от, руб.",
          "ЗП от, руб.",
          "ЗП до, руб.",
          "ЗП до, руб.",
          "ЗП до, руб.",
          "ЗП от, руб.",
          "ЗП от, руб.",
          "ЗП до, руб.",
          "ЗП от, руб.",
          "ЗП от, руб.",
          "ЗП до, руб.",
          "ЗП до, руб.",
          "ЗП от, руб.",
          "ЗП от, руб.",
          "ЗП от, руб.",
          "ЗП до, руб.",
          "ЗП от, руб.",
          "ЗП до, руб.",
          "ЗП от, руб.",
          "ЗП до, руб.",
          "ЗП от, руб.",
          "ЗП от, руб.",
          "ЗП до, руб.",
          "ЗП от, руб.",
          "ЗП до, руб.",
          "ЗП до, руб.",
          "ЗП до, руб.",
          "ЗП до, руб.",
          "ЗП от, руб.",
          "ЗП от, руб.",
          "ЗП до, руб.",
          "ЗП до, руб.",
          "ЗП до, руб.",
          "ЗП от, руб.",
          "ЗП от, руб.",
          "ЗП до, руб.",
          "ЗП от, руб.",
          "ЗП от, руб.",
          "ЗП до, руб.",
          "ЗП от, руб.",
          "ЗП от, руб.",
          "ЗП от, руб.",
          "ЗП до, руб.",
          "ЗП от, руб.",
          "ЗП до, руб.",
          "ЗП от, руб.",
          "ЗП от, руб.",
          "ЗП до, руб.",
          "ЗП до, руб.",
          "ЗП от, руб.",
          "ЗП до, руб.",
          "ЗП от, руб.",
          "ЗП от, руб.",
          "ЗП от, руб.",
          "ЗП от, руб.",
          "ЗП от, руб.",
          "ЗП до, руб.",
          "ЗП до, руб.",
          "ЗП от, руб.",
          "ЗП от, руб.",
          "ЗП до, руб.",
          "ЗП от, руб.",
          "ЗП от, руб.",
          "ЗП от, руб.",
          "ЗП до, руб.",
          "ЗП от, руб.",
          "ЗП до, руб.",
          "ЗП до, руб.",
          "ЗП от, руб.",
          "ЗП до, руб.",
          "ЗП от, руб.",
          "ЗП до, руб.",
          "ЗП от, руб.",
          "ЗП до, руб.",
          "ЗП до, руб.",
          "ЗП от, руб.",
          "ЗП от, руб.",
          "ЗП от, руб.",
          "ЗП до, руб.",
          "ЗП от, руб.",
          "ЗП до, руб.",
          "ЗП от, руб.",
          "ЗП до, руб.",
          "ЗП от, руб.",
          "ЗП от, руб.",
          "ЗП от, руб.",
          "ЗП от, руб.",
          "ЗП до, руб.",
          "ЗП от, руб.",
          "ЗП до, руб.",
          "ЗП от, руб.",
          "ЗП до, руб.",
          "ЗП от, руб.",
          "ЗП до, руб.",
          "ЗП от, руб.",
          "ЗП до, руб.",
          "ЗП от, руб.",
          "ЗП до, руб.",
          "ЗП до, руб.",
          "ЗП от, руб.",
          "ЗП от, руб.",
          "ЗП до, руб.",
          "ЗП от, руб.",
          "ЗП от, руб.",
          "ЗП до, руб.",
          "ЗП до, руб.",
          "ЗП до, руб.",
          "ЗП до, руб.",
          "ЗП до, руб.",
          "ЗП от, руб.",
          "ЗП до, руб.",
          "ЗП от, руб.",
          "ЗП до, руб.",
          "ЗП от, руб.",
          "ЗП от, руб.",
          "ЗП от, руб.",
          "ЗП до, руб.",
          "ЗП от, руб.",
          "ЗП до, руб.",
          "ЗП до, руб.",
          "ЗП от, руб.",
          "ЗП до, руб.",
          "ЗП до, руб.",
          "ЗП до, руб.",
          "ЗП от, руб.",
          "ЗП до, руб.",
          "ЗП до, руб.",
          "ЗП от, руб.",
          "ЗП до, руб.",
          "ЗП до, руб.",
          "ЗП до, руб.",
          "ЗП от, руб.",
          "ЗП от, руб.",
          "ЗП от, руб.",
          "ЗП до, руб.",
          "ЗП от, руб.",
          "ЗП от, руб.",
          "ЗП от, руб.",
          "ЗП до, руб.",
          "ЗП от, руб.",
          "ЗП до, руб.",
          "ЗП до, руб.",
          "ЗП до, руб.",
          "ЗП до, руб.",
          "ЗП до, руб.",
          "ЗП до, руб.",
          "ЗП от, руб.",
          "ЗП от, руб.",
          "ЗП от, руб.",
          "ЗП до, руб.",
          "ЗП до, руб.",
          "ЗП до, руб.",
          "ЗП до, руб.",
          "ЗП от, руб.",
          "ЗП до, руб.",
          "ЗП от, руб.",
          "ЗП от, руб.",
          "ЗП от, руб.",
          "ЗП до, руб.",
          "ЗП от, руб.",
          "ЗП до, руб.",
          "ЗП до, руб.",
          "ЗП от, руб.",
          "ЗП от, руб.",
          "ЗП от, руб.",
          "ЗП от, руб.",
          "ЗП от, руб.",
          "ЗП от, руб.",
          "ЗП от, руб.",
          "ЗП от, руб.",
          "ЗП от, руб.",
          "ЗП от, руб.",
          "ЗП от, руб.",
          "ЗП от, руб.",
          "ЗП от, руб.",
          "ЗП от, руб.",
          "ЗП от, руб.",
          "ЗП от, руб.",
          "ЗП до, руб.",
          "ЗП от, руб.",
          "ЗП до, руб.",
          "ЗП от, руб.",
          "ЗП от, руб.",
          "ЗП от, руб.",
          "ЗП до, руб.",
          "ЗП до, руб.",
          "ЗП до, руб.",
          "ЗП от, руб.",
          "ЗП до, руб.",
          "ЗП до, руб.",
          "ЗП от, руб.",
          "ЗП до, руб.",
          "ЗП от, руб.",
          "ЗП от, руб.",
          "ЗП до, руб.",
          "ЗП от, руб.",
          "ЗП от, руб.",
          "ЗП до, руб.",
          "ЗП от, руб.",
          "ЗП от, руб.",
          "ЗП до, руб.",
          "ЗП от, руб.",
          "ЗП от, руб.",
          "ЗП от, руб.",
          "ЗП от, руб.",
          "ЗП до, руб.",
          "ЗП до, руб.",
          "ЗП до, руб.",
          "ЗП до, руб.",
          "ЗП до, руб.",
          "ЗП от, руб.",
          "ЗП от, руб.",
          "ЗП от, руб.",
          "ЗП от, руб.",
          "ЗП до, руб.",
          "ЗП от, руб.",
          "ЗП до, руб.",
          "ЗП до, руб.",
          "ЗП от, руб.",
          "ЗП от, руб.",
          "ЗП до, руб.",
          "ЗП до, руб.",
          "ЗП до, руб.",
          "ЗП до, руб.",
          "ЗП до, руб.",
          "ЗП до, руб.",
          "ЗП от, руб.",
          "ЗП от, руб.",
          "ЗП до, руб.",
          "ЗП от, руб.",
          "ЗП от, руб.",
          "ЗП от, руб.",
          "ЗП от, руб.",
          "ЗП от, руб.",
          "ЗП до, руб.",
          "ЗП до, руб.",
          "ЗП от, руб.",
          "ЗП до, руб.",
          "ЗП от, руб.",
          "ЗП от, руб.",
          "ЗП до, руб.",
          "ЗП до, руб.",
          "ЗП до, руб.",
          "ЗП от, руб.",
          "ЗП от, руб.",
          "ЗП от, руб.",
          "ЗП до, руб.",
          "ЗП до, руб.",
          "ЗП от, руб.",
          "ЗП от, руб.",
          "ЗП от, руб.",
          "ЗП от, руб.",
          "ЗП до, руб.",
          "ЗП от, руб.",
          "ЗП до, руб.",
          "ЗП до, руб.",
          "ЗП до, руб.",
          "ЗП до, руб.",
          "ЗП до, руб.",
          "ЗП до, руб.",
          "ЗП до, руб.",
          "ЗП от, руб.",
          "ЗП до, руб.",
          "ЗП до, руб.",
          "ЗП до, руб.",
          "ЗП до, руб.",
          "ЗП до, руб.",
          "ЗП до, руб.",
          "ЗП до, руб.",
          "ЗП до, руб.",
          "ЗП до, руб.",
          "ЗП от, руб.",
          "ЗП от, руб.",
          "ЗП от, руб.",
          "ЗП от, руб.",
          "ЗП от, руб.",
          "ЗП до, руб.",
          "ЗП от, руб.",
          "ЗП до, руб.",
          "ЗП от, руб.",
          "ЗП от, руб.",
          "ЗП до, руб.",
          "ЗП от, руб.",
          "ЗП до, руб.",
          "ЗП до, руб.",
          "ЗП от, руб.",
          "ЗП от, руб.",
          "ЗП от, руб.",
          "ЗП до, руб.",
          "ЗП от, руб.",
          "ЗП до, руб.",
          "ЗП от, руб.",
          "ЗП до, руб.",
          "ЗП от, руб.",
          "ЗП от, руб.",
          "ЗП до, руб.",
          "ЗП до, руб.",
          "ЗП от, руб.",
          "ЗП от, руб.",
          "ЗП от, руб.",
          "ЗП до, руб.",
          "ЗП от, руб.",
          "ЗП от, руб.",
          "ЗП до, руб.",
          "ЗП от, руб.",
          "ЗП от, руб.",
          "ЗП от, руб.",
          "ЗП до, руб.",
          "ЗП от, руб.",
          "ЗП от, руб.",
          "ЗП до, руб.",
          "ЗП от, руб.",
          "ЗП от, руб.",
          "ЗП до, руб.",
          "ЗП до, руб.",
          "ЗП от, руб.",
          "ЗП от, руб.",
          "ЗП от, руб.",
          "ЗП до, руб.",
          "ЗП до, руб.",
          "ЗП до, руб.",
          "ЗП от, руб.",
          "ЗП от, руб.",
          "ЗП до, руб.",
          "ЗП до, руб.",
          "ЗП от, руб.",
          "ЗП от, руб.",
          "ЗП от, руб.",
          "ЗП до, руб.",
          "ЗП до, руб.",
          "ЗП от, руб.",
          "ЗП от, руб.",
          "ЗП от, руб.",
          "ЗП от, руб.",
          "ЗП от, руб.",
          "ЗП до, руб.",
          "ЗП до, руб.",
          "ЗП от, руб.",
          "ЗП до, руб.",
          "ЗП до, руб.",
          "ЗП от, руб.",
          "ЗП до, руб.",
          "ЗП от, руб.",
          "ЗП от, руб.",
          "ЗП до, руб.",
          "ЗП до, руб.",
          "ЗП от, руб.",
          "ЗП до, руб.",
          "ЗП от, руб.",
          "ЗП от, руб.",
          "ЗП до, руб.",
          "ЗП до, руб.",
          "ЗП до, руб.",
          "ЗП до, руб.",
          "ЗП до, руб.",
          "ЗП до, руб.",
          "ЗП от, руб.",
          "ЗП до, руб.",
          "ЗП до, руб.",
          "ЗП до, руб.",
          "ЗП от, руб.",
          "ЗП от, руб.",
          "ЗП от, руб.",
          "ЗП до, руб.",
          "ЗП до, руб.",
          "ЗП от, руб.",
          "ЗП до, руб.",
          "ЗП до, руб.",
          "ЗП до, руб.",
          "ЗП до, руб.",
          "ЗП до, руб.",
          "ЗП до, руб.",
          "ЗП до, руб.",
          "ЗП от, руб.",
          "ЗП от, руб.",
          "ЗП от, руб.",
          "ЗП до, руб.",
          "ЗП до, руб.",
          "ЗП до, руб.",
          "ЗП до, руб.",
          "ЗП до, руб.",
          "ЗП от, руб.",
          "ЗП от, руб.",
          "ЗП от, руб.",
          "ЗП от, руб.",
          "ЗП до, руб.",
          "ЗП до, руб.",
          "ЗП от, руб.",
          "ЗП от, руб.",
          "ЗП от, руб.",
          "ЗП до, руб.",
          "ЗП от, руб.",
          "ЗП от, руб.",
          "ЗП до, руб.",
          "ЗП от, руб.",
          "ЗП от, руб.",
          "ЗП до, руб.",
          "ЗП от, руб.",
          "ЗП от, руб.",
          "ЗП от, руб.",
          "ЗП до, руб.",
          "ЗП до, руб.",
          "ЗП от, руб.",
          "ЗП от, руб.",
          "ЗП до, руб.",
          "ЗП до, руб.",
          "ЗП от, руб.",
          "ЗП от, руб.",
          "ЗП до, руб.",
          "ЗП от, руб.",
          "ЗП от, руб.",
          "ЗП от, руб.",
          "ЗП от, руб.",
          "ЗП от, руб.",
          "ЗП от, руб.",
          "ЗП от, руб.",
          "ЗП до, руб.",
          "ЗП до, руб.",
          "ЗП от, руб.",
          "ЗП от, руб.",
          "ЗП от, руб.",
          "ЗП от, руб.",
          "ЗП до, руб.",
          "ЗП от, руб.",
          "ЗП до, руб.",
          "ЗП до, руб.",
          "ЗП до, руб.",
          "ЗП от, руб.",
          "ЗП до, руб.",
          "ЗП от, руб.",
          "ЗП до, руб.",
          "ЗП от, руб.",
          "ЗП до, руб.",
          "ЗП до, руб.",
          "ЗП от, руб.",
          "ЗП до, руб.",
          "ЗП от, руб.",
          "ЗП до, руб.",
          "ЗП до, руб.",
          "ЗП от, руб.",
          "ЗП до, руб.",
          "ЗП до, руб.",
          "ЗП до, руб.",
          "ЗП от, руб.",
          "ЗП до, руб.",
          "ЗП до, руб.",
          "ЗП от, руб.",
          "ЗП до, руб.",
          "ЗП от, руб.",
          "ЗП до, руб.",
          "ЗП от, руб.",
          "ЗП от, руб.",
          "ЗП до, руб.",
          "ЗП до, руб.",
          "ЗП до, руб.",
          "ЗП до, руб.",
          "ЗП от, руб.",
          "ЗП до, руб.",
          "ЗП от, руб.",
          "ЗП от, руб.",
          "ЗП от, руб.",
          "ЗП от, руб.",
          "ЗП от, руб.",
          "ЗП до, руб.",
          "ЗП от, руб.",
          "ЗП от, руб.",
          "ЗП до, руб.",
          "ЗП от, руб.",
          "ЗП от, руб.",
          "ЗП от, руб.",
          "ЗП до, руб.",
          "ЗП до, руб.",
          "ЗП до, руб.",
          "ЗП до, руб.",
          "ЗП до, руб.",
          "ЗП до, руб.",
          "ЗП до, руб.",
          "ЗП до, руб.",
          "ЗП от, руб.",
          "ЗП до, руб.",
          "ЗП до, руб.",
          "ЗП до, руб.",
          "ЗП до, руб.",
          "ЗП от, руб.",
          "ЗП от, руб.",
          "ЗП до, руб.",
          "ЗП от, руб.",
          "ЗП от, руб.",
          "ЗП от, руб.",
          "ЗП до, руб.",
          "ЗП от, руб.",
          "ЗП от, руб.",
          "ЗП от, руб.",
          "ЗП до, руб.",
          "ЗП до, руб.",
          "ЗП от, руб.",
          "ЗП до, руб.",
          "ЗП от, руб.",
          "ЗП от, руб.",
          "ЗП от, руб.",
          "ЗП до, руб.",
          "ЗП от, руб.",
          "ЗП до, руб.",
          "ЗП до, руб.",
          "ЗП от, руб.",
          "ЗП от, руб.",
          "ЗП до, руб.",
          "ЗП от, руб.",
          "ЗП от, руб.",
          "ЗП до, руб.",
          "ЗП от, руб.",
          "ЗП до, руб.",
          "ЗП от, руб.",
          "ЗП от, руб.",
          "ЗП до, руб.",
          "ЗП до, руб.",
          "ЗП до, руб.",
          "ЗП до, руб.",
          "ЗП до, руб.",
          "ЗП от, руб.",
          "ЗП от, руб.",
          "ЗП до, руб.",
          "ЗП от, руб.",
          "ЗП до, руб.",
          "ЗП до, руб.",
          "ЗП от, руб.",
          "ЗП от, руб.",
          "ЗП до, руб.",
          "ЗП до, руб.",
          "ЗП до, руб.",
          "ЗП от, руб.",
          "ЗП до, руб.",
          "ЗП от, руб.",
          "ЗП от, руб.",
          "ЗП от, руб.",
          "ЗП от, руб.",
          "ЗП от, руб.",
          "ЗП до, руб.",
          "ЗП до, руб.",
          "ЗП до, руб.",
          "ЗП от, руб.",
          "ЗП от, руб.",
          "ЗП от, руб.",
          "ЗП от, руб.",
          "ЗП до, руб.",
          "ЗП от, руб.",
          "ЗП от, руб.",
          "ЗП до, руб.",
          "ЗП от, руб.",
          "ЗП до, руб.",
          "ЗП от, руб.",
          "ЗП от, руб.",
          "ЗП до, руб.",
          "ЗП до, руб.",
          "ЗП от, руб.",
          "ЗП до, руб.",
          "ЗП до, руб.",
          "ЗП до, руб.",
          "ЗП от, руб.",
          "ЗП от, руб.",
          "ЗП от, руб.",
          "ЗП до, руб.",
          "ЗП до, руб.",
          "ЗП до, руб.",
          "ЗП до, руб.",
          "ЗП от, руб.",
          "ЗП до, руб.",
          "ЗП до, руб.",
          "ЗП до, руб.",
          "ЗП до, руб.",
          "ЗП до, руб.",
          "ЗП от, руб.",
          "ЗП от, руб.",
          "ЗП до, руб.",
          "ЗП до, руб.",
          "ЗП до, руб.",
          "ЗП до, руб.",
          "ЗП от, руб.",
          "ЗП до, руб.",
          "ЗП до, руб.",
          "ЗП от, руб.",
          "ЗП до, руб.",
          "ЗП до, руб.",
          "ЗП от, руб.",
          "ЗП до, руб.",
          "ЗП от, руб.",
          "ЗП от, руб.",
          "ЗП от, руб.",
          "ЗП от, руб.",
          "ЗП до, руб.",
          "ЗП от, руб.",
          "ЗП от, руб.",
          "ЗП от, руб.",
          "ЗП от, руб.",
          "ЗП от, руб.",
          "ЗП от, руб.",
          "ЗП до, руб.",
          "ЗП до, руб.",
          "ЗП от, руб.",
          "ЗП от, руб.",
          "ЗП до, руб.",
          "ЗП от, руб.",
          "ЗП до, руб.",
          "ЗП от, руб.",
          "ЗП до, руб.",
          "ЗП до, руб.",
          "ЗП до, руб.",
          "ЗП до, руб.",
          "ЗП до, руб.",
          "ЗП от, руб.",
          "ЗП от, руб.",
          "ЗП до, руб.",
          "ЗП до, руб.",
          "ЗП от, руб.",
          "ЗП от, руб.",
          "ЗП от, руб.",
          "ЗП от, руб.",
          "ЗП до, руб.",
          "ЗП от, руб.",
          "ЗП до, руб.",
          "ЗП от, руб.",
          "ЗП от, руб.",
          "ЗП до, руб.",
          "ЗП до, руб.",
          "ЗП от, руб.",
          "ЗП от, руб.",
          "ЗП от, руб.",
          "ЗП от, руб.",
          "ЗП до, руб.",
          "ЗП от, руб.",
          "ЗП от, руб.",
          "ЗП от, руб.",
          "ЗП от, руб.",
          "ЗП до, руб.",
          "ЗП от, руб.",
          "ЗП от, руб.",
          "ЗП от, руб.",
          "ЗП от, руб.",
          "ЗП от, руб.",
          "ЗП до, руб.",
          "ЗП от, руб.",
          "ЗП до, руб.",
          "ЗП от, руб.",
          "ЗП от, руб.",
          "ЗП до, руб.",
          "ЗП от, руб.",
          "ЗП до, руб.",
          "ЗП от, руб.",
          "ЗП от, руб.",
          "ЗП от, руб.",
          "ЗП от, руб.",
          "ЗП до, руб.",
          "ЗП до, руб.",
          "ЗП от, руб.",
          "ЗП до, руб.",
          "ЗП от, руб.",
          "ЗП до, руб.",
          "ЗП от, руб.",
          "ЗП до, руб.",
          "ЗП до, руб.",
          "ЗП от, руб.",
          "ЗП от, руб.",
          "ЗП от, руб.",
          "ЗП до, руб.",
          "ЗП до, руб.",
          "ЗП до, руб.",
          "ЗП до, руб.",
          "ЗП от, руб.",
          "ЗП до, руб.",
          "ЗП до, руб.",
          "ЗП от, руб.",
          "ЗП от, руб.",
          "ЗП до, руб.",
          "ЗП до, руб.",
          "ЗП от, руб.",
          "ЗП от, руб.",
          "ЗП от, руб.",
          "ЗП до, руб.",
          "ЗП от, руб.",
          "ЗП от, руб.",
          "ЗП от, руб.",
          "ЗП до, руб.",
          "ЗП до, руб.",
          "ЗП от, руб.",
          "ЗП от, руб.",
          "ЗП до, руб.",
          "ЗП от, руб.",
          "ЗП до, руб.",
          "ЗП до, руб.",
          "ЗП до, руб.",
          "ЗП до, руб.",
          "ЗП от, руб.",
          "ЗП до, руб.",
          "ЗП до, руб.",
          "ЗП до, руб.",
          "ЗП до, руб.",
          "ЗП от, руб.",
          "ЗП от, руб.",
          "ЗП от, руб.",
          "ЗП от, руб.",
          "ЗП от, руб.",
          "ЗП от, руб.",
          "ЗП от, руб.",
          "ЗП от, руб.",
          "ЗП до, руб.",
          "ЗП до, руб.",
          "ЗП до, руб.",
          "ЗП до, руб.",
          "ЗП до, руб.",
          "ЗП от, руб.",
          "ЗП от, руб.",
          "ЗП до, руб.",
          "ЗП до, руб.",
          "ЗП от, руб.",
          "ЗП от, руб.",
          "ЗП от, руб.",
          "ЗП от, руб.",
          "ЗП до, руб.",
          "ЗП от, руб.",
          "ЗП до, руб.",
          "ЗП до, руб.",
          "ЗП до, руб.",
          "ЗП от, руб.",
          "ЗП от, руб.",
          "ЗП от, руб.",
          "ЗП от, руб.",
          "ЗП от, руб.",
          "ЗП от, руб.",
          "ЗП от, руб.",
          "ЗП до, руб.",
          "ЗП от, руб.",
          "ЗП от, руб.",
          "ЗП от, руб.",
          "ЗП от, руб.",
          "ЗП до, руб.",
          "ЗП до, руб.",
          "ЗП от, руб.",
          "ЗП до, руб.",
          "ЗП от, руб.",
          "ЗП до, руб.",
          "ЗП от, руб.",
          "ЗП до, руб.",
          "ЗП от, руб.",
          "ЗП до, руб.",
          "ЗП от, руб.",
          "ЗП до, руб.",
          "ЗП от, руб.",
          "ЗП от, руб.",
          "ЗП до, руб.",
          "ЗП до, руб.",
          "ЗП от, руб.",
          "ЗП до, руб.",
          "ЗП от, руб.",
          "ЗП от, руб.",
          "ЗП до, руб.",
          "ЗП до, руб.",
          "ЗП до, руб.",
          "ЗП до, руб.",
          "ЗП до, руб.",
          "ЗП до, руб.",
          "ЗП от, руб.",
          "ЗП до, руб.",
          "ЗП до, руб.",
          "ЗП до, руб.",
          "ЗП от, руб.",
          "ЗП от, руб.",
          "ЗП от, руб.",
          "ЗП от, руб.",
          "ЗП до, руб.",
          "ЗП до, руб.",
          "ЗП от, руб.",
          "ЗП от, руб.",
          "ЗП до, руб.",
          "ЗП от, руб.",
          "ЗП от, руб.",
          "ЗП до, руб.",
          "ЗП от, руб.",
          "ЗП от, руб.",
          "ЗП от, руб.",
          "ЗП до, руб.",
          "ЗП до, руб.",
          "ЗП до, руб.",
          "ЗП от, руб.",
          "ЗП до, руб.",
          "ЗП от, руб.",
          "ЗП от, руб.",
          "ЗП от, руб.",
          "ЗП от, руб.",
          "ЗП до, руб.",
          "ЗП до, руб.",
          "ЗП от, руб.",
          "ЗП до, руб.",
          "ЗП от, руб.",
          "ЗП от, руб.",
          "ЗП от, руб.",
          "ЗП до, руб.",
          "ЗП от, руб.",
          "ЗП до, руб.",
          "ЗП от, руб.",
          "ЗП до, руб.",
          "ЗП от, руб.",
          "ЗП от, руб.",
          "ЗП от, руб.",
          "ЗП до, руб.",
          "ЗП до, руб.",
          "ЗП от, руб.",
          "ЗП от, руб.",
          "ЗП от, руб.",
          "ЗП от, руб.",
          "ЗП до, руб.",
          "ЗП до, руб.",
          "ЗП до, руб.",
          "ЗП от, руб.",
          "ЗП от, руб.",
          "ЗП от, руб.",
          "ЗП от, руб.",
          "ЗП от, руб.",
          "ЗП от, руб.",
          "ЗП от, руб.",
          "ЗП до, руб.",
          "ЗП от, руб.",
          "ЗП до, руб.",
          "ЗП от, руб.",
          "ЗП до, руб.",
          "ЗП до, руб.",
          "ЗП от, руб.",
          "ЗП до, руб.",
          "ЗП от, руб.",
          "ЗП от, руб.",
          "ЗП до, руб.",
          "ЗП до, руб.",
          "ЗП от, руб.",
          "ЗП до, руб.",
          "ЗП до, руб.",
          "ЗП от, руб.",
          "ЗП до, руб.",
          "ЗП от, руб.",
          "ЗП от, руб.",
          "ЗП от, руб.",
          "ЗП до, руб.",
          "ЗП до, руб.",
          "ЗП до, руб.",
          "ЗП от, руб.",
          "ЗП до, руб.",
          "ЗП до, руб.",
          "ЗП от, руб.",
          "ЗП от, руб.",
          "ЗП от, руб.",
          "ЗП до, руб.",
          "ЗП до, руб.",
          "ЗП от, руб.",
          "ЗП от, руб.",
          "ЗП до, руб.",
          "ЗП от, руб.",
          "ЗП до, руб.",
          "ЗП от, руб.",
          "ЗП от, руб.",
          "ЗП до, руб.",
          "ЗП от, руб.",
          "ЗП до, руб.",
          "ЗП до, руб.",
          "ЗП до, руб.",
          "ЗП от, руб.",
          "ЗП от, руб.",
          "ЗП до, руб.",
          "ЗП до, руб.",
          "ЗП от, руб.",
          "ЗП от, руб.",
          "ЗП до, руб.",
          "ЗП до, руб.",
          "ЗП до, руб.",
          "ЗП до, руб.",
          "ЗП от, руб.",
          "ЗП от, руб.",
          "ЗП от, руб.",
          "ЗП от, руб.",
          "ЗП до, руб.",
          "ЗП от, руб.",
          "ЗП до, руб.",
          "ЗП от, руб.",
          "ЗП от, руб.",
          "ЗП от, руб.",
          "ЗП до, руб.",
          "ЗП от, руб.",
          "ЗП от, руб.",
          "ЗП до, руб.",
          "ЗП до, руб.",
          "ЗП до, руб.",
          "ЗП от, руб.",
          "ЗП до, руб.",
          "ЗП от, руб.",
          "ЗП от, руб.",
          "ЗП от, руб.",
          "ЗП от, руб.",
          "ЗП от, руб.",
          "ЗП до, руб.",
          "ЗП до, руб.",
          "ЗП от, руб.",
          "ЗП от, руб.",
          "ЗП до, руб.",
          "ЗП до, руб.",
          "ЗП от, руб.",
          "ЗП от, руб.",
          "ЗП до, руб.",
          "ЗП от, руб.",
          "ЗП от, руб.",
          "ЗП до, руб.",
          "ЗП от, руб.",
          "ЗП от, руб.",
          "ЗП от, руб.",
          "ЗП до, руб.",
          "ЗП от, руб.",
          "ЗП до, руб.",
          "ЗП до, руб.",
          "ЗП до, руб.",
          "ЗП от, руб.",
          "ЗП до, руб.",
          "ЗП от, руб.",
          "ЗП от, руб.",
          "ЗП до, руб.",
          "ЗП от, руб.",
          "ЗП до, руб.",
          "ЗП до, руб.",
          "ЗП до, руб.",
          "ЗП от, руб.",
          "ЗП от, руб.",
          "ЗП до, руб.",
          "ЗП от, руб.",
          "ЗП до, руб.",
          "ЗП до, руб.",
          "ЗП от, руб.",
          "ЗП от, руб.",
          "ЗП от, руб.",
          "ЗП от, руб.",
          "ЗП от, руб.",
          "ЗП от, руб.",
          "ЗП от, руб.",
          "ЗП до, руб.",
          "ЗП от, руб.",
          "ЗП от, руб.",
          "ЗП до, руб.",
          "ЗП от, руб.",
          "ЗП до, руб.",
          "ЗП от, руб.",
          "ЗП до, руб.",
          "ЗП от, руб.",
          "ЗП от, руб.",
          "ЗП до, руб.",
          "ЗП от, руб.",
          "ЗП до, руб.",
          "ЗП от, руб.",
          "ЗП до, руб.",
          "ЗП от, руб.",
          "ЗП до, руб.",
          "ЗП до, руб.",
          "ЗП до, руб.",
          "ЗП от, руб.",
          "ЗП от, руб.",
          "ЗП до, руб.",
          "ЗП от, руб.",
          "ЗП от, руб.",
          "ЗП до, руб.",
          "ЗП от, руб.",
          "ЗП от, руб.",
          "ЗП от, руб.",
          "ЗП до, руб.",
          "ЗП от, руб.",
          "ЗП от, руб.",
          "ЗП до, руб.",
          "ЗП до, руб.",
          "ЗП от, руб.",
          "ЗП до, руб.",
          "ЗП от, руб.",
          "ЗП от, руб.",
          "ЗП от, руб.",
          "ЗП до, руб.",
          "ЗП от, руб.",
          "ЗП от, руб.",
          "ЗП до, руб.",
          "ЗП от, руб.",
          "ЗП от, руб.",
          "ЗП до, руб.",
          "ЗП от, руб.",
          "ЗП от, руб.",
          "ЗП до, руб.",
          "ЗП от, руб.",
          "ЗП от, руб.",
          "ЗП до, руб.",
          "ЗП до, руб.",
          "ЗП от, руб.",
          "ЗП от, руб.",
          "ЗП до, руб.",
          "ЗП до, руб.",
          "ЗП до, руб.",
          "ЗП от, руб.",
          "ЗП до, руб.",
          "ЗП от, руб.",
          "ЗП до, руб.",
          "ЗП от, руб.",
          "ЗП до, руб.",
          "ЗП от, руб.",
          "ЗП от, руб.",
          "ЗП от, руб.",
          "ЗП от, руб.",
          "ЗП от, руб.",
          "ЗП до, руб.",
          "ЗП до, руб.",
          "ЗП от, руб.",
          "ЗП от, руб.",
          "ЗП до, руб.",
          "ЗП от, руб.",
          "ЗП от, руб.",
          "ЗП от, руб.",
          "ЗП до, руб.",
          "ЗП от, руб.",
          "ЗП от, руб.",
          "ЗП до, руб.",
          "ЗП до, руб.",
          "ЗП от, руб.",
          "ЗП от, руб.",
          "ЗП от, руб.",
          "ЗП от, руб.",
          "ЗП от, руб.",
          "ЗП до, руб.",
          "ЗП до, руб.",
          "ЗП до, руб.",
          "ЗП от, руб.",
          "ЗП до, руб.",
          "ЗП до, руб.",
          "ЗП до, руб.",
          "ЗП от, руб.",
          "ЗП от, руб.",
          "ЗП до, руб.",
          "ЗП от, руб.",
          "ЗП до, руб.",
          "ЗП от, руб.",
          "ЗП от, руб.",
          "ЗП от, руб.",
          "ЗП до, руб.",
          "ЗП до, руб.",
          "ЗП до, руб.",
          "ЗП до, руб.",
          "ЗП от, руб.",
          "ЗП до, руб.",
          "ЗП от, руб.",
          "ЗП до, руб.",
          "ЗП от, руб.",
          "ЗП до, руб.",
          "ЗП до, руб.",
          "ЗП от, руб.",
          "ЗП до, руб.",
          "ЗП от, руб.",
          "ЗП от, руб.",
          "ЗП от, руб.",
          "ЗП до, руб.",
          "ЗП до, руб.",
          "ЗП до, руб.",
          "ЗП от, руб.",
          "ЗП до, руб.",
          "ЗП от, руб.",
          "ЗП от, руб.",
          "ЗП от, руб.",
          "ЗП до, руб.",
          "ЗП от, руб.",
          "ЗП до, руб.",
          "ЗП до, руб.",
          "ЗП от, руб.",
          "ЗП от, руб.",
          "ЗП до, руб.",
          "ЗП до, руб.",
          "ЗП от, руб.",
          "ЗП до, руб.",
          "ЗП от, руб.",
          "ЗП от, руб.",
          "ЗП от, руб.",
          "ЗП до, руб.",
          "ЗП от, руб.",
          "ЗП до, руб.",
          "ЗП от, руб.",
          "ЗП от, руб.",
          "ЗП от, руб.",
          "ЗП от, руб.",
          "ЗП до, руб.",
          "ЗП от, руб.",
          "ЗП от, руб.",
          "ЗП от, руб.",
          "ЗП от, руб.",
          "ЗП до, руб.",
          "ЗП от, руб.",
          "ЗП до, руб.",
          "ЗП до, руб.",
          "ЗП от, руб.",
          "ЗП от, руб.",
          "ЗП до, руб.",
          "ЗП до, руб.",
          "ЗП до, руб.",
          "ЗП до, руб.",
          "ЗП до, руб.",
          "ЗП от, руб.",
          "ЗП до, руб.",
          "ЗП до, руб.",
          "ЗП до, руб.",
          "ЗП до, руб.",
          "ЗП от, руб.",
          "ЗП от, руб.",
          "ЗП до, руб.",
          "ЗП до, руб.",
          "ЗП от, руб.",
          "ЗП от, руб.",
          "ЗП от, руб.",
          "ЗП до, руб.",
          "ЗП от, руб.",
          "ЗП до, руб.",
          "ЗП до, руб.",
          "ЗП от, руб.",
          "ЗП до, руб.",
          "ЗП от, руб.",
          "ЗП от, руб.",
          "ЗП до, руб.",
          "ЗП от, руб.",
          "ЗП от, руб.",
          "ЗП до, руб.",
          "ЗП до, руб.",
          "ЗП от, руб.",
          "ЗП от, руб.",
          "ЗП от, руб.",
          "ЗП до, руб.",
          "ЗП до, руб.",
          "ЗП до, руб.",
          "ЗП от, руб.",
          "ЗП до, руб.",
          "ЗП до, руб.",
          "ЗП от, руб.",
          "ЗП до, руб.",
          "ЗП до, руб.",
          "ЗП до, руб.",
          "ЗП от, руб.",
          "ЗП от, руб.",
          "ЗП от, руб.",
          "ЗП до, руб.",
          "ЗП от, руб.",
          "ЗП от, руб.",
          "ЗП от, руб.",
          "ЗП до, руб.",
          "ЗП от, руб.",
          "ЗП от, руб.",
          "ЗП от, руб.",
          "ЗП до, руб.",
          "ЗП от, руб.",
          "ЗП от, руб.",
          "ЗП до, руб.",
          "ЗП от, руб.",
          "ЗП от, руб.",
          "ЗП от, руб.",
          "ЗП от, руб.",
          "ЗП от, руб.",
          "ЗП до, руб.",
          "ЗП от, руб.",
          "ЗП от, руб.",
          "ЗП от, руб.",
          "ЗП от, руб.",
          "ЗП до, руб.",
          "ЗП от, руб.",
          "ЗП до, руб.",
          "ЗП от, руб.",
          "ЗП до, руб.",
          "ЗП от, руб.",
          "ЗП от, руб.",
          "ЗП от, руб.",
          "ЗП до, руб.",
          "ЗП до, руб.",
          "ЗП до, руб.",
          "ЗП от, руб.",
          "ЗП до, руб.",
          "ЗП от, руб.",
          "ЗП до, руб.",
          "ЗП от, руб.",
          "ЗП от, руб.",
          "ЗП от, руб.",
          "ЗП до, руб.",
          "ЗП от, руб.",
          "ЗП до, руб.",
          "ЗП от, руб.",
          "ЗП до, руб.",
          "ЗП до, руб.",
          "ЗП до, руб.",
          "ЗП до, руб.",
          "ЗП от, руб.",
          "ЗП от, руб.",
          "ЗП до, руб.",
          "ЗП до, руб.",
          "ЗП от, руб.",
          "ЗП от, руб.",
          "ЗП от, руб.",
          "ЗП до, руб.",
          "ЗП до, руб.",
          "ЗП до, руб.",
          "ЗП от, руб.",
          "ЗП до, руб.",
          "ЗП от, руб.",
          "ЗП до, руб.",
          "ЗП от, руб.",
          "ЗП от, руб.",
          "ЗП от, руб.",
          "ЗП от, руб.",
          "ЗП от, руб.",
          "ЗП от, руб.",
          "ЗП от, руб.",
          "ЗП до, руб.",
          "ЗП до, руб.",
          "ЗП до, руб.",
          "ЗП до, руб.",
          "ЗП до, руб.",
          "ЗП от, руб.",
          "ЗП до, руб.",
          "ЗП от, руб.",
          "ЗП до, руб.",
          "ЗП от, руб.",
          "ЗП до, руб.",
          "ЗП до, руб.",
          "ЗП до, руб.",
          "ЗП от, руб.",
          "ЗП до, руб.",
          "ЗП до, руб.",
          "ЗП до, руб.",
          "ЗП от, руб.",
          "ЗП от, руб.",
          "ЗП от, руб.",
          "ЗП от, руб.",
          "ЗП до, руб.",
          "ЗП от, руб.",
          "ЗП от, руб.",
          "ЗП от, руб.",
          "ЗП до, руб.",
          "ЗП от, руб.",
          "ЗП от, руб.",
          "ЗП до, руб.",
          "ЗП от, руб.",
          "ЗП от, руб.",
          "ЗП до, руб.",
          "ЗП до, руб.",
          "ЗП от, руб.",
          "ЗП от, руб.",
          "ЗП до, руб.",
          "ЗП от, руб.",
          "ЗП от, руб.",
          "ЗП от, руб.",
          "ЗП до, руб.",
          "ЗП до, руб.",
          "ЗП до, руб.",
          "ЗП до, руб.",
          "ЗП до, руб.",
          "ЗП до, руб.",
          "ЗП от, руб.",
          "ЗП от, руб.",
          "ЗП от, руб.",
          "ЗП от, руб.",
          "ЗП до, руб.",
          "ЗП до, руб.",
          "ЗП от, руб.",
          "ЗП от, руб.",
          "ЗП до, руб.",
          "ЗП от, руб.",
          "ЗП от, руб.",
          "ЗП от, руб.",
          "ЗП от, руб.",
          "ЗП до, руб.",
          "ЗП от, руб.",
          "ЗП от, руб.",
          "ЗП до, руб.",
          "ЗП до, руб.",
          "ЗП от, руб.",
          "ЗП от, руб.",
          "ЗП до, руб.",
          "ЗП от, руб.",
          "ЗП до, руб.",
          "ЗП от, руб.",
          "ЗП от, руб.",
          "ЗП до, руб.",
          "ЗП от, руб.",
          "ЗП до, руб.",
          "ЗП от, руб.",
          "ЗП до, руб.",
          "ЗП от, руб.",
          "ЗП до, руб.",
          "ЗП от, руб.",
          "ЗП до, руб.",
          "ЗП до, руб.",
          "ЗП до, руб.",
          "ЗП от, руб.",
          "ЗП до, руб.",
          "ЗП до, руб.",
          "ЗП до, руб.",
          "ЗП от, руб.",
          "ЗП от, руб.",
          "ЗП от, руб.",
          "ЗП от, руб.",
          "ЗП от, руб.",
          "ЗП от, руб.",
          "ЗП до, руб.",
          "ЗП до, руб.",
          "ЗП от, руб.",
          "ЗП до, руб.",
          "ЗП до, руб.",
          "ЗП от, руб.",
          "ЗП до, руб.",
          "ЗП от, руб.",
          "ЗП до, руб.",
          "ЗП от, руб.",
          "ЗП от, руб.",
          "ЗП от, руб.",
          "ЗП до, руб.",
          "ЗП от, руб.",
          "ЗП от, руб.",
          "ЗП от, руб.",
          "ЗП от, руб.",
          "ЗП до, руб.",
          "ЗП от, руб.",
          "ЗП до, руб.",
          "ЗП до, руб.",
          "ЗП до, руб.",
          "ЗП до, руб.",
          "ЗП до, руб.",
          "ЗП от, руб.",
          "ЗП до, руб.",
          "ЗП до, руб.",
          "ЗП до, руб.",
          "ЗП от, руб.",
          "ЗП до, руб.",
          "ЗП до, руб.",
          "ЗП от, руб.",
          "ЗП от, руб.",
          "ЗП от, руб.",
          "ЗП от, руб.",
          "ЗП от, руб.",
          "ЗП от, руб.",
          "ЗП до, руб.",
          "ЗП от, руб.",
          "ЗП до, руб.",
          "ЗП до, руб.",
          "ЗП до, руб.",
          "ЗП до, руб.",
          "ЗП до, руб.",
          "ЗП до, руб.",
          "ЗП от, руб.",
          "ЗП от, руб.",
          "ЗП до, руб.",
          "ЗП от, руб.",
          "ЗП от, руб.",
          "ЗП до, руб.",
          "ЗП до, руб.",
          "ЗП до, руб.",
          "ЗП от, руб.",
          "ЗП от, руб.",
          "ЗП до, руб.",
          "ЗП до, руб.",
          "ЗП до, руб.",
          "ЗП до, руб.",
          "ЗП от, руб.",
          "ЗП до, руб.",
          "ЗП до, руб.",
          "ЗП от, руб.",
          "ЗП от, руб.",
          "ЗП до, руб.",
          "ЗП от, руб.",
          "ЗП от, руб.",
          "ЗП до, руб.",
          "ЗП от, руб.",
          "ЗП до, руб.",
          "ЗП от, руб.",
          "ЗП от, руб.",
          "ЗП до, руб.",
          "ЗП от, руб.",
          "ЗП до, руб.",
          "ЗП от, руб.",
          "ЗП от, руб.",
          "ЗП до, руб.",
          "ЗП до, руб.",
          "ЗП от, руб.",
          "ЗП от, руб.",
          "ЗП до, руб.",
          "ЗП до, руб.",
          "ЗП до, руб.",
          "ЗП от, руб.",
          "ЗП от, руб.",
          "ЗП от, руб.",
          "ЗП до, руб.",
          "ЗП от, руб.",
          "ЗП до, руб.",
          "ЗП от, руб.",
          "ЗП до, руб.",
          "ЗП от, руб.",
          "ЗП от, руб.",
          "ЗП до, руб.",
          "ЗП от, руб.",
          "ЗП до, руб.",
          "ЗП до, руб.",
          "ЗП до, руб.",
          "ЗП до, руб.",
          "ЗП от, руб.",
          "ЗП от, руб.",
          "ЗП до, руб.",
          "ЗП от, руб.",
          "ЗП до, руб.",
          "ЗП от, руб.",
          "ЗП от, руб.",
          "ЗП от, руб.",
          "ЗП от, руб.",
          "ЗП до, руб.",
          "ЗП от, руб.",
          "ЗП от, руб.",
          "ЗП от, руб.",
          "ЗП до, руб.",
          "ЗП до, руб.",
          "ЗП до, руб.",
          "ЗП до, руб.",
          "ЗП до, руб.",
          "ЗП до, руб.",
          "ЗП от, руб.",
          "ЗП от, руб.",
          "ЗП от, руб.",
          "ЗП от, руб.",
          "ЗП до, руб.",
          "ЗП от, руб.",
          "ЗП от, руб.",
          "ЗП от, руб.",
          "ЗП до, руб.",
          "ЗП до, руб.",
          "ЗП от, руб.",
          "ЗП от, руб.",
          "ЗП от, руб.",
          "ЗП от, руб.",
          "ЗП до, руб.",
          "ЗП до, руб.",
          "ЗП от, руб.",
          "ЗП до, руб."
         ],
         "y0": " ",
         "yaxis": "y"
        }
       ],
       "layout": {
        "boxmode": "group",
        "legend": {
         "tracegroupgap": 0
        },
        "template": {
         "data": {
          "bar": [
           {
            "error_x": {
             "color": "#2a3f5f"
            },
            "error_y": {
             "color": "#2a3f5f"
            },
            "marker": {
             "line": {
              "color": "#E5ECF6",
              "width": 0.5
             },
             "pattern": {
              "fillmode": "overlay",
              "size": 10,
              "solidity": 0.2
             }
            },
            "type": "bar"
           }
          ],
          "barpolar": [
           {
            "marker": {
             "line": {
              "color": "#E5ECF6",
              "width": 0.5
             },
             "pattern": {
              "fillmode": "overlay",
              "size": 10,
              "solidity": 0.2
             }
            },
            "type": "barpolar"
           }
          ],
          "carpet": [
           {
            "aaxis": {
             "endlinecolor": "#2a3f5f",
             "gridcolor": "white",
             "linecolor": "white",
             "minorgridcolor": "white",
             "startlinecolor": "#2a3f5f"
            },
            "baxis": {
             "endlinecolor": "#2a3f5f",
             "gridcolor": "white",
             "linecolor": "white",
             "minorgridcolor": "white",
             "startlinecolor": "#2a3f5f"
            },
            "type": "carpet"
           }
          ],
          "choropleth": [
           {
            "colorbar": {
             "outlinewidth": 0,
             "ticks": ""
            },
            "type": "choropleth"
           }
          ],
          "contour": [
           {
            "colorbar": {
             "outlinewidth": 0,
             "ticks": ""
            },
            "colorscale": [
             [
              0,
              "#0d0887"
             ],
             [
              0.1111111111111111,
              "#46039f"
             ],
             [
              0.2222222222222222,
              "#7201a8"
             ],
             [
              0.3333333333333333,
              "#9c179e"
             ],
             [
              0.4444444444444444,
              "#bd3786"
             ],
             [
              0.5555555555555556,
              "#d8576b"
             ],
             [
              0.6666666666666666,
              "#ed7953"
             ],
             [
              0.7777777777777778,
              "#fb9f3a"
             ],
             [
              0.8888888888888888,
              "#fdca26"
             ],
             [
              1,
              "#f0f921"
             ]
            ],
            "type": "contour"
           }
          ],
          "contourcarpet": [
           {
            "colorbar": {
             "outlinewidth": 0,
             "ticks": ""
            },
            "type": "contourcarpet"
           }
          ],
          "heatmap": [
           {
            "colorbar": {
             "outlinewidth": 0,
             "ticks": ""
            },
            "colorscale": [
             [
              0,
              "#0d0887"
             ],
             [
              0.1111111111111111,
              "#46039f"
             ],
             [
              0.2222222222222222,
              "#7201a8"
             ],
             [
              0.3333333333333333,
              "#9c179e"
             ],
             [
              0.4444444444444444,
              "#bd3786"
             ],
             [
              0.5555555555555556,
              "#d8576b"
             ],
             [
              0.6666666666666666,
              "#ed7953"
             ],
             [
              0.7777777777777778,
              "#fb9f3a"
             ],
             [
              0.8888888888888888,
              "#fdca26"
             ],
             [
              1,
              "#f0f921"
             ]
            ],
            "type": "heatmap"
           }
          ],
          "heatmapgl": [
           {
            "colorbar": {
             "outlinewidth": 0,
             "ticks": ""
            },
            "colorscale": [
             [
              0,
              "#0d0887"
             ],
             [
              0.1111111111111111,
              "#46039f"
             ],
             [
              0.2222222222222222,
              "#7201a8"
             ],
             [
              0.3333333333333333,
              "#9c179e"
             ],
             [
              0.4444444444444444,
              "#bd3786"
             ],
             [
              0.5555555555555556,
              "#d8576b"
             ],
             [
              0.6666666666666666,
              "#ed7953"
             ],
             [
              0.7777777777777778,
              "#fb9f3a"
             ],
             [
              0.8888888888888888,
              "#fdca26"
             ],
             [
              1,
              "#f0f921"
             ]
            ],
            "type": "heatmapgl"
           }
          ],
          "histogram": [
           {
            "marker": {
             "pattern": {
              "fillmode": "overlay",
              "size": 10,
              "solidity": 0.2
             }
            },
            "type": "histogram"
           }
          ],
          "histogram2d": [
           {
            "colorbar": {
             "outlinewidth": 0,
             "ticks": ""
            },
            "colorscale": [
             [
              0,
              "#0d0887"
             ],
             [
              0.1111111111111111,
              "#46039f"
             ],
             [
              0.2222222222222222,
              "#7201a8"
             ],
             [
              0.3333333333333333,
              "#9c179e"
             ],
             [
              0.4444444444444444,
              "#bd3786"
             ],
             [
              0.5555555555555556,
              "#d8576b"
             ],
             [
              0.6666666666666666,
              "#ed7953"
             ],
             [
              0.7777777777777778,
              "#fb9f3a"
             ],
             [
              0.8888888888888888,
              "#fdca26"
             ],
             [
              1,
              "#f0f921"
             ]
            ],
            "type": "histogram2d"
           }
          ],
          "histogram2dcontour": [
           {
            "colorbar": {
             "outlinewidth": 0,
             "ticks": ""
            },
            "colorscale": [
             [
              0,
              "#0d0887"
             ],
             [
              0.1111111111111111,
              "#46039f"
             ],
             [
              0.2222222222222222,
              "#7201a8"
             ],
             [
              0.3333333333333333,
              "#9c179e"
             ],
             [
              0.4444444444444444,
              "#bd3786"
             ],
             [
              0.5555555555555556,
              "#d8576b"
             ],
             [
              0.6666666666666666,
              "#ed7953"
             ],
             [
              0.7777777777777778,
              "#fb9f3a"
             ],
             [
              0.8888888888888888,
              "#fdca26"
             ],
             [
              1,
              "#f0f921"
             ]
            ],
            "type": "histogram2dcontour"
           }
          ],
          "mesh3d": [
           {
            "colorbar": {
             "outlinewidth": 0,
             "ticks": ""
            },
            "type": "mesh3d"
           }
          ],
          "parcoords": [
           {
            "line": {
             "colorbar": {
              "outlinewidth": 0,
              "ticks": ""
             }
            },
            "type": "parcoords"
           }
          ],
          "pie": [
           {
            "automargin": true,
            "type": "pie"
           }
          ],
          "scatter": [
           {
            "fillpattern": {
             "fillmode": "overlay",
             "size": 10,
             "solidity": 0.2
            },
            "type": "scatter"
           }
          ],
          "scatter3d": [
           {
            "line": {
             "colorbar": {
              "outlinewidth": 0,
              "ticks": ""
             }
            },
            "marker": {
             "colorbar": {
              "outlinewidth": 0,
              "ticks": ""
             }
            },
            "type": "scatter3d"
           }
          ],
          "scattercarpet": [
           {
            "marker": {
             "colorbar": {
              "outlinewidth": 0,
              "ticks": ""
             }
            },
            "type": "scattercarpet"
           }
          ],
          "scattergeo": [
           {
            "marker": {
             "colorbar": {
              "outlinewidth": 0,
              "ticks": ""
             }
            },
            "type": "scattergeo"
           }
          ],
          "scattergl": [
           {
            "marker": {
             "colorbar": {
              "outlinewidth": 0,
              "ticks": ""
             }
            },
            "type": "scattergl"
           }
          ],
          "scattermapbox": [
           {
            "marker": {
             "colorbar": {
              "outlinewidth": 0,
              "ticks": ""
             }
            },
            "type": "scattermapbox"
           }
          ],
          "scatterpolar": [
           {
            "marker": {
             "colorbar": {
              "outlinewidth": 0,
              "ticks": ""
             }
            },
            "type": "scatterpolar"
           }
          ],
          "scatterpolargl": [
           {
            "marker": {
             "colorbar": {
              "outlinewidth": 0,
              "ticks": ""
             }
            },
            "type": "scatterpolargl"
           }
          ],
          "scatterternary": [
           {
            "marker": {
             "colorbar": {
              "outlinewidth": 0,
              "ticks": ""
             }
            },
            "type": "scatterternary"
           }
          ],
          "surface": [
           {
            "colorbar": {
             "outlinewidth": 0,
             "ticks": ""
            },
            "colorscale": [
             [
              0,
              "#0d0887"
             ],
             [
              0.1111111111111111,
              "#46039f"
             ],
             [
              0.2222222222222222,
              "#7201a8"
             ],
             [
              0.3333333333333333,
              "#9c179e"
             ],
             [
              0.4444444444444444,
              "#bd3786"
             ],
             [
              0.5555555555555556,
              "#d8576b"
             ],
             [
              0.6666666666666666,
              "#ed7953"
             ],
             [
              0.7777777777777778,
              "#fb9f3a"
             ],
             [
              0.8888888888888888,
              "#fdca26"
             ],
             [
              1,
              "#f0f921"
             ]
            ],
            "type": "surface"
           }
          ],
          "table": [
           {
            "cells": {
             "fill": {
              "color": "#EBF0F8"
             },
             "line": {
              "color": "white"
             }
            },
            "header": {
             "fill": {
              "color": "#C8D4E3"
             },
             "line": {
              "color": "white"
             }
            },
            "type": "table"
           }
          ]
         },
         "layout": {
          "annotationdefaults": {
           "arrowcolor": "#2a3f5f",
           "arrowhead": 0,
           "arrowwidth": 1
          },
          "autotypenumbers": "strict",
          "coloraxis": {
           "colorbar": {
            "outlinewidth": 0,
            "ticks": ""
           }
          },
          "colorscale": {
           "diverging": [
            [
             0,
             "#8e0152"
            ],
            [
             0.1,
             "#c51b7d"
            ],
            [
             0.2,
             "#de77ae"
            ],
            [
             0.3,
             "#f1b6da"
            ],
            [
             0.4,
             "#fde0ef"
            ],
            [
             0.5,
             "#f7f7f7"
            ],
            [
             0.6,
             "#e6f5d0"
            ],
            [
             0.7,
             "#b8e186"
            ],
            [
             0.8,
             "#7fbc41"
            ],
            [
             0.9,
             "#4d9221"
            ],
            [
             1,
             "#276419"
            ]
           ],
           "sequential": [
            [
             0,
             "#0d0887"
            ],
            [
             0.1111111111111111,
             "#46039f"
            ],
            [
             0.2222222222222222,
             "#7201a8"
            ],
            [
             0.3333333333333333,
             "#9c179e"
            ],
            [
             0.4444444444444444,
             "#bd3786"
            ],
            [
             0.5555555555555556,
             "#d8576b"
            ],
            [
             0.6666666666666666,
             "#ed7953"
            ],
            [
             0.7777777777777778,
             "#fb9f3a"
            ],
            [
             0.8888888888888888,
             "#fdca26"
            ],
            [
             1,
             "#f0f921"
            ]
           ],
           "sequentialminus": [
            [
             0,
             "#0d0887"
            ],
            [
             0.1111111111111111,
             "#46039f"
            ],
            [
             0.2222222222222222,
             "#7201a8"
            ],
            [
             0.3333333333333333,
             "#9c179e"
            ],
            [
             0.4444444444444444,
             "#bd3786"
            ],
            [
             0.5555555555555556,
             "#d8576b"
            ],
            [
             0.6666666666666666,
             "#ed7953"
            ],
            [
             0.7777777777777778,
             "#fb9f3a"
            ],
            [
             0.8888888888888888,
             "#fdca26"
            ],
            [
             1,
             "#f0f921"
            ]
           ]
          },
          "colorway": [
           "#636efa",
           "#EF553B",
           "#00cc96",
           "#ab63fa",
           "#FFA15A",
           "#19d3f3",
           "#FF6692",
           "#B6E880",
           "#FF97FF",
           "#FECB52"
          ],
          "font": {
           "color": "#2a3f5f"
          },
          "geo": {
           "bgcolor": "white",
           "lakecolor": "white",
           "landcolor": "#E5ECF6",
           "showlakes": true,
           "showland": true,
           "subunitcolor": "white"
          },
          "hoverlabel": {
           "align": "left"
          },
          "hovermode": "closest",
          "mapbox": {
           "style": "light"
          },
          "paper_bgcolor": "white",
          "plot_bgcolor": "#E5ECF6",
          "polar": {
           "angularaxis": {
            "gridcolor": "white",
            "linecolor": "white",
            "ticks": ""
           },
           "bgcolor": "#E5ECF6",
           "radialaxis": {
            "gridcolor": "white",
            "linecolor": "white",
            "ticks": ""
           }
          },
          "scene": {
           "xaxis": {
            "backgroundcolor": "#E5ECF6",
            "gridcolor": "white",
            "gridwidth": 2,
            "linecolor": "white",
            "showbackground": true,
            "ticks": "",
            "zerolinecolor": "white"
           },
           "yaxis": {
            "backgroundcolor": "#E5ECF6",
            "gridcolor": "white",
            "gridwidth": 2,
            "linecolor": "white",
            "showbackground": true,
            "ticks": "",
            "zerolinecolor": "white"
           },
           "zaxis": {
            "backgroundcolor": "#E5ECF6",
            "gridcolor": "white",
            "gridwidth": 2,
            "linecolor": "white",
            "showbackground": true,
            "ticks": "",
            "zerolinecolor": "white"
           }
          },
          "shapedefaults": {
           "line": {
            "color": "#2a3f5f"
           }
          },
          "ternary": {
           "aaxis": {
            "gridcolor": "white",
            "linecolor": "white",
            "ticks": ""
           },
           "baxis": {
            "gridcolor": "white",
            "linecolor": "white",
            "ticks": ""
           },
           "bgcolor": "#E5ECF6",
           "caxis": {
            "gridcolor": "white",
            "linecolor": "white",
            "ticks": ""
           }
          },
          "title": {
           "x": 0.05
          },
          "xaxis": {
           "automargin": true,
           "gridcolor": "white",
           "linecolor": "white",
           "ticks": "",
           "title": {
            "standoff": 15
           },
           "zerolinecolor": "white",
           "zerolinewidth": 2
          },
          "yaxis": {
           "automargin": true,
           "gridcolor": "white",
           "linecolor": "white",
           "ticks": "",
           "title": {
            "standoff": 15
           },
           "zerolinecolor": "white",
           "zerolinewidth": 2
          }
         }
        },
        "title": {
         "text": "Вариация ЗП ОТ и ДО"
        },
        "xaxis": {
         "anchor": "y",
         "domain": [
          0,
          1
         ],
         "title": {
          "text": "ЗП, руб."
         }
        },
        "yaxis": {
         "anchor": "x",
         "domain": [
          0,
          1
         ],
         "title": {
          "text": "От/До"
         }
        }
       }
      }
     },
     "metadata": {},
     "output_type": "display_data"
    }
   ],
   "source": [
    "# преобразуем данные о ЗП для удобства построения ящика с усами по двум столбцам - salary_from и salary_to.\n",
    "# Для этого объединим столбцы:\n",
    "\n",
    "query_tmp = f'''\n",
    "select\n",
    "-- выводим ЗП от\n",
    "    v.salary_from Salary,\n",
    "    'ЗП от, руб.' Category\n",
    "from\n",
    "    public.vacancies v\n",
    "where\n",
    "-- учитываем только те записи, где ЗП указана\n",
    "    v.salary_from is not null\n",
    "union\n",
    "select\n",
    "-- выводим ЗП до\n",
    "    v.salary_to,\n",
    "    'ЗП до, руб.'\n",
    "from\n",
    "    public.vacancies v\n",
    "where\n",
    "-- учитываем только те записи, где ЗП указана\n",
    "    v.salary_to is not null\n",
    "'''\n",
    "result_tmp = pd.read_sql_query(query_tmp, connection)\n",
    "\n",
    "# визуализация данных df result_tmp\n",
    "fig = px.box(\n",
    "    data_frame = result_tmp,\n",
    "    x = 'salary',\n",
    "    y = 'category',\n",
    "    title = 'Вариация ЗП ОТ и ДО',\n",
    "    labels={'salary':'ЗП, руб.', 'category':'От/До'})\n",
    "fig.show()\n",
    "fig.write_html('graphs/Визуализация_3.html')\n"
   ]
  },
  {
   "cell_type": "markdown",
   "id": "916a8a0f",
   "metadata": {},
   "source": [
    "*Диаграмма показывает, что медианный уровень минимальных зарплат (От) составляет 48,1 тыс, руб. при этом большая часть предложений с минимальной ЗП от 28,4 до 84,8 тыс. руб. По уровню максимальной запрлаты мединное значение равно 59,7 тыс. руб. с преобладающим количеством вакансий в диапазоне от 37,1 до 123,3 тыс. руб.\n",
    "Такими границами ЗП описывается предложение на массовом сегменте. Есть незначительное количество вакансий, скорее исключений,\n",
    "в которых уровень предлагамой ЗП, как От так и До, превышает 300 тыс. руб. и достигает даже 1 млн., но это скорее исключение,\n",
    "не характерное для рынка.*"
   ]
  },
  {
   "cell_type": "markdown",
   "id": "6dec2099",
   "metadata": {},
   "source": [
    "*Трендом последних лет стало распространение удаленного режима работы как основной занятости, а не как подработки. Поэтому\n",
    "в базе вакансий наибольшее число вакансий - 7802 - предполагают удаленную занятость на полный день. Это расширяет возможности\n",
    "как работодателя, так и соискателей, не ограничиваясь местом фактического нахождения. В сфере IT уже становится повсеместной практиктой территориальная распределенность команд.\n",
    "Дополнительно визуально покажет распределение вакансий по требуемому опыту работы.*"
   ]
  },
  {
   "cell_type": "code",
   "execution_count": 27,
   "id": "a3385118",
   "metadata": {},
   "outputs": [
    {
     "name": "stderr",
     "output_type": "stream",
     "text": [
      "C:\\Users\\user\\AppData\\Local\\Temp\\ipykernel_7340\\3905865179.py:11: UserWarning:\n",
      "\n",
      "Matplotlib is currently using module://matplotlib_inline.backend_inline, which is a non-GUI backend, so cannot show the figure.\n",
      "\n"
     ]
    },
    {
     "data": {
      "image/png": "[encoded data removed]",
      "text/plain": [
       "<Figure size 300x300 with 1 Axes>"
      ]
     },
     "metadata": {},
     "output_type": "display_data"
    }
   ],
   "source": [
    "# визуализация df result_4_5\n",
    "\n",
    "fig = plt.figure(figsize=(3, 3))\n",
    "axes = fig.add_axes([0, 0, 1, 1])\n",
    "axes.pie(\n",
    "    result_4_5['cnt'],\n",
    "    labels=result_4_5['experience'],\n",
    "    autopct='%.1f%%'\n",
    ")\n",
    "axes.set_title('Доля вакансий по требуемому опыту')\n",
    "fig.show()\n",
    "plt.savefig('graphs/Визуализация_4.png');"
   ]
  },
  {
   "cell_type": "markdown",
   "id": "6627e611",
   "metadata": {},
   "source": [
    "*Наибольшее число вакансий - 52,3% - предполагает наличие от 1 до 3 лет опыта работы.\n",
    "Вообще распределение вакансий по опыту можно объянить следующим образом.\n",
    "Чем выше требования к квалификации и опыту сотрудника, т.е. чем более высококлассный специалист требуется,\n",
    "тем меньше таких предложений. Т.к. это уровень middle или senior, их конечно меньше, чем junior.\n",
    "Категория \"Нет опыта\" может отражать вакансии с самыми минимальными требованиями к кандидатам.*"
   ]
  },
  {
   "cell_type": "markdown",
   "id": "7ea20ab6-04a7-40a0-adec-443a0e5a42c3",
   "metadata": {
    "id": "7ea20ab6-04a7-40a0-adec-443a0e5a42c3"
   },
   "source": [
    "# Юнит 5. Анализ работодателей"
   ]
  },
  {
   "cell_type": "markdown",
   "id": "968aed80-74ef-4ffb-b5bf-c65b84e9caea",
   "metadata": {
    "id": "968aed80-74ef-4ffb-b5bf-c65b84e9caea"
   },
   "source": [
    "1. Напишите запрос, который позволит узнать, какие работодатели находятся на первом и пятом месте по количеству вакансий."
   ]
  },
  {
   "cell_type": "code",
   "execution_count": 28,
   "id": "f2d62796-d400-4ec1-a675-88112739a50e",
   "metadata": {
    "id": "f2d62796-d400-4ec1-a675-88112739a50e"
   },
   "outputs": [
    {
     "name": "stderr",
     "output_type": "stream",
     "text": [
      "C:\\Users\\user\\AppData\\Local\\Temp\\ipykernel_7340\\1940173147.py:46: UserWarning:\n",
      "\n",
      "pandas only supports SQLAlchemy connectable (engine/connection) or database string URI or sqlite3 DBAPI2 connection. Other DBAPI2 objects are not tested. Please consider using SQLAlchemy.\n",
      "\n"
     ]
    }
   ],
   "source": [
    "# текст запроса\n",
    "query_5_1 = f'''\n",
    "(\n",
    "-- первая выборка для выбора работодателя на 1-ом месте по количеству вакансий\n",
    "-- вывод количества вакансий и названия работодателя\n",
    "    select\n",
    "        count(*) as cnt,\n",
    "        e.name\n",
    "    from\n",
    "-- основная таблица Вакансии, соединяем с Работодателями\n",
    "        public.vacancies v\n",
    "        join public.employers e on v.employer_id = e.id\n",
    "    group by\n",
    "-- для подсчета количества вакансий группируем по id работодателя\n",
    "        e.id\n",
    "    order by\n",
    "-- отсортируем вывод по убыванию количества и оставим только 1 запись\n",
    "        cnt desc\n",
    "    limit\n",
    "        1\n",
    ")\n",
    "union\n",
    "(\n",
    "-- вторая выборка для выбора работодателя на 5-ом месте по количеству вакансий\n",
    "-- вывод количества вакансий и названия работодателя\n",
    "    select\n",
    "        count(*) as cnt,\n",
    "        e.name\n",
    "    from\n",
    "        public.vacancies v\n",
    "        join public.employers e on v.employer_id = e.id\n",
    "    group by\n",
    "        e.id\n",
    "    order by\n",
    "-- отсортируем вывод по убыванию количества, первые 4 записи пропустим и выведем одну\n",
    "        cnt desc\n",
    "    offset\n",
    "        4\n",
    "    limit\n",
    "        1\n",
    ")\n",
    "-- объединенный вывод двух выборок отсортируем по убыванию количества вакансий\n",
    "order by\n",
    "    cnt desc\n",
    "'''\n",
    "result_5_1 = pd.read_sql_query(query_5_1, connection)"
   ]
  },
  {
   "cell_type": "code",
   "execution_count": 29,
   "id": "64tOMkAxqkQk",
   "metadata": {
    "id": "64tOMkAxqkQk"
   },
   "outputs": [
    {
     "data": {
      "text/html": [
       "<div>\n",
       "<style scoped>\n",
       "    .dataframe tbody tr th:only-of-type {\n",
       "        vertical-align: middle;\n",
       "    }\n",
       "\n",
       "    .dataframe tbody tr th {\n",
       "        vertical-align: top;\n",
       "    }\n",
       "\n",
       "    .dataframe thead th {\n",
       "        text-align: right;\n",
       "    }\n",
       "</style>\n",
       "<table border=\"1\" class=\"dataframe\">\n",
       "  <thead>\n",
       "    <tr style=\"text-align: right;\">\n",
       "      <th></th>\n",
       "      <th>cnt</th>\n",
       "      <th>name</th>\n",
       "    </tr>\n",
       "  </thead>\n",
       "  <tbody>\n",
       "    <tr>\n",
       "      <th>0</th>\n",
       "      <td>1933</td>\n",
       "      <td>Яндекс</td>\n",
       "    </tr>\n",
       "    <tr>\n",
       "      <th>1</th>\n",
       "      <td>331</td>\n",
       "      <td>Газпром нефть</td>\n",
       "    </tr>\n",
       "  </tbody>\n",
       "</table>\n",
       "</div>"
      ],
      "text/plain": [
       "    cnt           name\n",
       "0  1933         Яндекс\n",
       "1   331  Газпром нефть"
      ]
     },
     "execution_count": 29,
     "metadata": {},
     "output_type": "execute_result"
    }
   ],
   "source": [
    "# результат запроса\n",
    "result_5_1"
   ]
  },
  {
   "cell_type": "markdown",
   "id": "68377cfc-b378-43dc-ab7d-1195abf2c515",
   "metadata": {
    "id": "68377cfc-b378-43dc-ab7d-1195abf2c515"
   },
   "source": [
    "2. Напишите запрос, который для каждого региона выведет количество работодателей и вакансий в нём.\n",
    "Среди регионов, в которых нет вакансий, найдите тот, в котором наибольшее количество работодателей.\n"
   ]
  },
  {
   "cell_type": "code",
   "execution_count": 30,
   "id": "dd7df27a-e3e8-412e-a21a-5d389b71e891",
   "metadata": {
    "id": "dd7df27a-e3e8-412e-a21a-5d389b71e891"
   },
   "outputs": [
    {
     "name": "stderr",
     "output_type": "stream",
     "text": [
      "C:\\Users\\user\\AppData\\Local\\Temp\\ipykernel_7340\\3872409475.py:23: UserWarning:\n",
      "\n",
      "pandas only supports SQLAlchemy connectable (engine/connection) or database string URI or sqlite3 DBAPI2 connection. Other DBAPI2 objects are not tested. Please consider using SQLAlchemy.\n",
      "\n"
     ]
    }
   ],
   "source": [
    "# текст запроса\n",
    "query_5_2 = f'''\n",
    "select\n",
    "-- выводим названия регионов, количество вакансий и количество работодателей\n",
    "    a.name area,\n",
    "    count(v.id) vacancies_cnt,\n",
    "    count(e.id) employers_cnt\n",
    "from\n",
    "-- основаня таблица Регионы, присоединяем Вакансии и Работодатели по равенству id\n",
    "    public.areas a\n",
    "    left join public.vacancies v on a.id = v.area_id\n",
    "    left join public.employers e on a.id = e.area\n",
    "group by\n",
    "-- для подсчета количества вакансий и работодателей группируем записи по id региона\n",
    "    a.id\n",
    "order by\n",
    "-- сортируем вывод по возрастанию количества вакансий и убыванию количества работодателей, оставляем одну запись\n",
    "    vacancies_cnt asc,\n",
    "    employers_cnt desc\n",
    "limit\n",
    "    1\n",
    "'''\n",
    "result_5_2 = pd.read_sql_query(query_5_2, connection)"
   ]
  },
  {
   "cell_type": "code",
   "execution_count": 31,
   "id": "x1ikWbydrbf6",
   "metadata": {
    "id": "x1ikWbydrbf6"
   },
   "outputs": [
    {
     "data": {
      "text/html": [
       "<div>\n",
       "<style scoped>\n",
       "    .dataframe tbody tr th:only-of-type {\n",
       "        vertical-align: middle;\n",
       "    }\n",
       "\n",
       "    .dataframe tbody tr th {\n",
       "        vertical-align: top;\n",
       "    }\n",
       "\n",
       "    .dataframe thead th {\n",
       "        text-align: right;\n",
       "    }\n",
       "</style>\n",
       "<table border=\"1\" class=\"dataframe\">\n",
       "  <thead>\n",
       "    <tr style=\"text-align: right;\">\n",
       "      <th></th>\n",
       "      <th>area</th>\n",
       "      <th>vacancies_cnt</th>\n",
       "      <th>employers_cnt</th>\n",
       "    </tr>\n",
       "  </thead>\n",
       "  <tbody>\n",
       "    <tr>\n",
       "      <th>0</th>\n",
       "      <td>Россия</td>\n",
       "      <td>0</td>\n",
       "      <td>410</td>\n",
       "    </tr>\n",
       "  </tbody>\n",
       "</table>\n",
       "</div>"
      ],
      "text/plain": [
       "     area  vacancies_cnt  employers_cnt\n",
       "0  Россия              0            410"
      ]
     },
     "execution_count": 31,
     "metadata": {},
     "output_type": "execute_result"
    }
   ],
   "source": [
    "# результат запроса\n",
    "result_5_2"
   ]
  },
  {
   "cell_type": "markdown",
   "id": "f2fe0acb-ab1a-4e15-9326-2560e22d73c1",
   "metadata": {
    "id": "f2fe0acb-ab1a-4e15-9326-2560e22d73c1"
   },
   "source": [
    "3. Для каждого работодателя посчитайте количество регионов, в которых он публикует свои вакансии. Отсортируйте результат по убыванию количества.\n"
   ]
  },
  {
   "cell_type": "code",
   "execution_count": 32,
   "id": "6271f8ad-bd2e-4196-ae4a-5b39c4c1010e",
   "metadata": {
    "id": "6271f8ad-bd2e-4196-ae4a-5b39c4c1010e"
   },
   "outputs": [
    {
     "name": "stderr",
     "output_type": "stream",
     "text": [
      "C:\\Users\\user\\AppData\\Local\\Temp\\ipykernel_7340\\257050543.py:19: UserWarning:\n",
      "\n",
      "pandas only supports SQLAlchemy connectable (engine/connection) or database string URI or sqlite3 DBAPI2 connection. Other DBAPI2 objects are not tested. Please consider using SQLAlchemy.\n",
      "\n"
     ]
    }
   ],
   "source": [
    "# текст запроса\n",
    "query_5_3 = f'''\n",
    "select\n",
    "-- выводим название работодателя и количества регионов, distinct - чтобы выбрать уникальные регионы без дублей\n",
    "    e.name,\n",
    "    count(distinct v.area_id) cnt\n",
    "from\n",
    "-- основная таблица Работодатели, соединяем с Вакансиями по равенству id работодателя\n",
    "    public.employers e\n",
    "    join public.vacancies v on e.id = v.employer_id\n",
    "group by\n",
    "-- для расчета количества регионов группируем записи по Id и наименованию работодателя\n",
    "    e.id,\n",
    "    e.name\n",
    "order by\n",
    "-- сортируем вывод по количеству регионов в убывающем порядке\n",
    "    cnt desc\n",
    "'''\n",
    "result_5_3 = pd.read_sql_query(query_5_3, connection)"
   ]
  },
  {
   "cell_type": "code",
   "execution_count": 33,
   "id": "1EIvX3HasH4F",
   "metadata": {
    "id": "1EIvX3HasH4F"
   },
   "outputs": [
    {
     "data": {
      "text/html": [
       "<div>\n",
       "<style scoped>\n",
       "    .dataframe tbody tr th:only-of-type {\n",
       "        vertical-align: middle;\n",
       "    }\n",
       "\n",
       "    .dataframe tbody tr th {\n",
       "        vertical-align: top;\n",
       "    }\n",
       "\n",
       "    .dataframe thead th {\n",
       "        text-align: right;\n",
       "    }\n",
       "</style>\n",
       "<table border=\"1\" class=\"dataframe\">\n",
       "  <thead>\n",
       "    <tr style=\"text-align: right;\">\n",
       "      <th></th>\n",
       "      <th>name</th>\n",
       "      <th>cnt</th>\n",
       "    </tr>\n",
       "  </thead>\n",
       "  <tbody>\n",
       "    <tr>\n",
       "      <th>0</th>\n",
       "      <td>Яндекс</td>\n",
       "      <td>181</td>\n",
       "    </tr>\n",
       "    <tr>\n",
       "      <th>1</th>\n",
       "      <td>Ростелеком</td>\n",
       "      <td>152</td>\n",
       "    </tr>\n",
       "    <tr>\n",
       "      <th>2</th>\n",
       "      <td>Спецремонт</td>\n",
       "      <td>116</td>\n",
       "    </tr>\n",
       "    <tr>\n",
       "      <th>3</th>\n",
       "      <td>Поляков Денис Иванович</td>\n",
       "      <td>88</td>\n",
       "    </tr>\n",
       "    <tr>\n",
       "      <th>4</th>\n",
       "      <td>ООО ЕФИН</td>\n",
       "      <td>71</td>\n",
       "    </tr>\n",
       "    <tr>\n",
       "      <th>...</th>\n",
       "      <td>...</td>\n",
       "      <td>...</td>\n",
       "    </tr>\n",
       "    <tr>\n",
       "      <th>14901</th>\n",
       "      <td>НПП Авиатрон</td>\n",
       "      <td>1</td>\n",
       "    </tr>\n",
       "    <tr>\n",
       "      <th>14902</th>\n",
       "      <td>Центр дистанционных торгов</td>\n",
       "      <td>1</td>\n",
       "    </tr>\n",
       "    <tr>\n",
       "      <th>14903</th>\n",
       "      <td>Городские Телекоммуникационные Системы</td>\n",
       "      <td>1</td>\n",
       "    </tr>\n",
       "    <tr>\n",
       "      <th>14904</th>\n",
       "      <td>Введенский, Отель</td>\n",
       "      <td>1</td>\n",
       "    </tr>\n",
       "    <tr>\n",
       "      <th>14905</th>\n",
       "      <td>Группа Компаний Автоимпорт</td>\n",
       "      <td>1</td>\n",
       "    </tr>\n",
       "  </tbody>\n",
       "</table>\n",
       "<p>14906 rows × 2 columns</p>\n",
       "</div>"
      ],
      "text/plain": [
       "                                         name  cnt\n",
       "0                                      Яндекс  181\n",
       "1                                  Ростелеком  152\n",
       "2                                  Спецремонт  116\n",
       "3                      Поляков Денис Иванович   88\n",
       "4                                   ООО ЕФИН    71\n",
       "...                                       ...  ...\n",
       "14901                            НПП Авиатрон    1\n",
       "14902              Центр дистанционных торгов    1\n",
       "14903  Городские Телекоммуникационные Системы    1\n",
       "14904                       Введенский, Отель    1\n",
       "14905              Группа Компаний Автоимпорт    1\n",
       "\n",
       "[14906 rows x 2 columns]"
      ]
     },
     "execution_count": 33,
     "metadata": {},
     "output_type": "execute_result"
    }
   ],
   "source": [
    "# результат запроса\n",
    "result_5_3"
   ]
  },
  {
   "cell_type": "markdown",
   "id": "eab2206d-d95b-468b-8e5f-34381abf0ce7",
   "metadata": {
    "id": "eab2206d-d95b-468b-8e5f-34381abf0ce7"
   },
   "source": [
    "4. Напишите запрос для подсчёта количества работодателей, у которых не указана сфера деятельности. "
   ]
  },
  {
   "cell_type": "code",
   "execution_count": 34,
   "id": "80defb23-bfb1-4a18-8be6-bf36aa7165d5",
   "metadata": {
    "id": "80defb23-bfb1-4a18-8be6-bf36aa7165d5"
   },
   "outputs": [
    {
     "name": "stderr",
     "output_type": "stream",
     "text": [
      "C:\\Users\\user\\AppData\\Local\\Temp\\ipykernel_7340\\1103927976.py:23: UserWarning:\n",
      "\n",
      "pandas only supports SQLAlchemy connectable (engine/connection) or database string URI or sqlite3 DBAPI2 connection. Other DBAPI2 objects are not tested. Please consider using SQLAlchemy.\n",
      "\n"
     ]
    }
   ],
   "source": [
    "# текст запроса\n",
    "query_5_4 = f'''\n",
    "-- сформируем промежуточную выборку\n",
    "with\n",
    "    x as (\n",
    "        -- выберем сначала всех работодателей из таблица Работодатели\n",
    "        select\n",
    "            e.id\n",
    "        from\n",
    "            public.employers e -- исключим тех, у кого указаны сферы деятельности, т.е. их id есть в таблице employers_industries\n",
    "        except\n",
    "        select\n",
    "            i.employer_id\n",
    "        from\n",
    "            public.employers_industries i\n",
    "    )\n",
    "select\n",
    "    -- посчитаем количество записей в промежуточной выборке\n",
    "    count(*)\n",
    "from\n",
    "    x\n",
    "'''\n",
    "result_5_4 = pd.read_sql_query(query_5_4, connection)"
   ]
  },
  {
   "cell_type": "code",
   "execution_count": 35,
   "id": "Dp_yCx6ysQSu",
   "metadata": {
    "id": "Dp_yCx6ysQSu"
   },
   "outputs": [
    {
     "data": {
      "text/html": [
       "<div>\n",
       "<style scoped>\n",
       "    .dataframe tbody tr th:only-of-type {\n",
       "        vertical-align: middle;\n",
       "    }\n",
       "\n",
       "    .dataframe tbody tr th {\n",
       "        vertical-align: top;\n",
       "    }\n",
       "\n",
       "    .dataframe thead th {\n",
       "        text-align: right;\n",
       "    }\n",
       "</style>\n",
       "<table border=\"1\" class=\"dataframe\">\n",
       "  <thead>\n",
       "    <tr style=\"text-align: right;\">\n",
       "      <th></th>\n",
       "      <th>count</th>\n",
       "    </tr>\n",
       "  </thead>\n",
       "  <tbody>\n",
       "    <tr>\n",
       "      <th>0</th>\n",
       "      <td>8419</td>\n",
       "    </tr>\n",
       "  </tbody>\n",
       "</table>\n",
       "</div>"
      ],
      "text/plain": [
       "   count\n",
       "0   8419"
      ]
     },
     "execution_count": 35,
     "metadata": {},
     "output_type": "execute_result"
    }
   ],
   "source": [
    "# результат запроса\n",
    "result_5_4"
   ]
  },
  {
   "cell_type": "markdown",
   "id": "0112af31-f6b0-4e3b-82ab-71296e752e5e",
   "metadata": {
    "id": "0112af31-f6b0-4e3b-82ab-71296e752e5e"
   },
   "source": [
    "5. Напишите запрос, чтобы узнать название компании, находящейся на третьем месте в алфавитном списке (по названию) компаний, у которых указано четыре сферы деятельности. "
   ]
  },
  {
   "cell_type": "code",
   "execution_count": 36,
   "id": "973b0cfc-a972-470a-8b4a-68744ef220c4",
   "metadata": {
    "id": "973b0cfc-a972-470a-8b4a-68744ef220c4"
   },
   "outputs": [
    {
     "name": "stderr",
     "output_type": "stream",
     "text": [
      "C:\\Users\\user\\AppData\\Local\\Temp\\ipykernel_7340\\1842478884.py:26: UserWarning:\n",
      "\n",
      "pandas only supports SQLAlchemy connectable (engine/connection) or database string URI or sqlite3 DBAPI2 connection. Other DBAPI2 objects are not tested. Please consider using SQLAlchemy.\n",
      "\n"
     ]
    }
   ],
   "source": [
    "# текст запроса\n",
    "query_5_5 = f'''\n",
    "select\n",
    "-- выводим название работодателя и количество сфер деятельности\n",
    "    e.name,\n",
    "    count(*) cnt\n",
    "from\n",
    "--основная таблица - Работодатели, соединяем с таблицей employers_industries по равенству id работодателя\n",
    "    public.employers e\n",
    "    join public.employers_industries i on e.id = i.employer_id\n",
    "group by\n",
    "-- для подсчета количества сфер деятельности группируем записи по id и названию работодателя\n",
    "    e.id,\n",
    "    e.name\n",
    "having\n",
    "-- в группированных данных оставим только те, где количество сфер деятельности = 4\n",
    "    count(*) = 4\n",
    "order by\n",
    "-- отсортируем вывод по названию работодателя, пропустим первые 2 записи и оставим одну\n",
    "    e.name\n",
    "offset\n",
    "    2\n",
    "limit\n",
    "    1\n",
    "'''\n",
    "result_5_5 = pd.read_sql_query(query_5_5, connection)"
   ]
  },
  {
   "cell_type": "code",
   "execution_count": 37,
   "id": "xsPtpp8EsaED",
   "metadata": {
    "id": "xsPtpp8EsaED"
   },
   "outputs": [
    {
     "data": {
      "text/html": [
       "<div>\n",
       "<style scoped>\n",
       "    .dataframe tbody tr th:only-of-type {\n",
       "        vertical-align: middle;\n",
       "    }\n",
       "\n",
       "    .dataframe tbody tr th {\n",
       "        vertical-align: top;\n",
       "    }\n",
       "\n",
       "    .dataframe thead th {\n",
       "        text-align: right;\n",
       "    }\n",
       "</style>\n",
       "<table border=\"1\" class=\"dataframe\">\n",
       "  <thead>\n",
       "    <tr style=\"text-align: right;\">\n",
       "      <th></th>\n",
       "      <th>name</th>\n",
       "      <th>cnt</th>\n",
       "    </tr>\n",
       "  </thead>\n",
       "  <tbody>\n",
       "    <tr>\n",
       "      <th>0</th>\n",
       "      <td>2ГИС</td>\n",
       "      <td>4</td>\n",
       "    </tr>\n",
       "  </tbody>\n",
       "</table>\n",
       "</div>"
      ],
      "text/plain": [
       "   name  cnt\n",
       "0  2ГИС    4"
      ]
     },
     "execution_count": 37,
     "metadata": {},
     "output_type": "execute_result"
    }
   ],
   "source": [
    "# результат запроса\n",
    "result_5_5"
   ]
  },
  {
   "cell_type": "markdown",
   "id": "3bfcfdaf-755d-4d2b-8ed8-326201dc07ab",
   "metadata": {
    "id": "3bfcfdaf-755d-4d2b-8ed8-326201dc07ab"
   },
   "source": [
    "6. С помощью запроса выясните, у какого количества работодателей в качестве сферы деятельности указана Разработка программного обеспечения.\n"
   ]
  },
  {
   "cell_type": "code",
   "execution_count": 38,
   "id": "ad3f270f-2991-47eb-929b-e8f88a55b0d1",
   "metadata": {
    "id": "ad3f270f-2991-47eb-929b-e8f88a55b0d1"
   },
   "outputs": [
    {
     "name": "stderr",
     "output_type": "stream",
     "text": [
      "C:\\Users\\user\\AppData\\Local\\Temp\\ipykernel_7340\\2655026971.py:11: UserWarning:\n",
      "\n",
      "pandas only supports SQLAlchemy connectable (engine/connection) or database string URI or sqlite3 DBAPI2 connection. Other DBAPI2 objects are not tested. Please consider using SQLAlchemy.\n",
      "\n"
     ]
    }
   ],
   "source": [
    "# текст запроса\n",
    "query_5_6 = f'''\n",
    "select\n",
    "    count(*) cnt\n",
    "from\n",
    "    public.employers_industries e\n",
    "    join public.industries i on e.industry_id = i.id\n",
    "where\n",
    "    i.name = 'Разработка программного обеспечения'\n",
    "'''\n",
    "result_5_6 = pd.read_sql_query(query_5_6, connection)"
   ]
  },
  {
   "cell_type": "code",
   "execution_count": 39,
   "id": "H72qxWM0shPR",
   "metadata": {
    "id": "H72qxWM0shPR"
   },
   "outputs": [
    {
     "data": {
      "text/html": [
       "<div>\n",
       "<style scoped>\n",
       "    .dataframe tbody tr th:only-of-type {\n",
       "        vertical-align: middle;\n",
       "    }\n",
       "\n",
       "    .dataframe tbody tr th {\n",
       "        vertical-align: top;\n",
       "    }\n",
       "\n",
       "    .dataframe thead th {\n",
       "        text-align: right;\n",
       "    }\n",
       "</style>\n",
       "<table border=\"1\" class=\"dataframe\">\n",
       "  <thead>\n",
       "    <tr style=\"text-align: right;\">\n",
       "      <th></th>\n",
       "      <th>cnt</th>\n",
       "    </tr>\n",
       "  </thead>\n",
       "  <tbody>\n",
       "    <tr>\n",
       "      <th>0</th>\n",
       "      <td>3553</td>\n",
       "    </tr>\n",
       "  </tbody>\n",
       "</table>\n",
       "</div>"
      ],
      "text/plain": [
       "    cnt\n",
       "0  3553"
      ]
     },
     "execution_count": 39,
     "metadata": {},
     "output_type": "execute_result"
    }
   ],
   "source": [
    "# результат запроса\n",
    "result_5_6"
   ]
  },
  {
   "cell_type": "markdown",
   "id": "7b02bb86-0546-40fb-94a4-242f050a5c57",
   "metadata": {
    "id": "7b02bb86-0546-40fb-94a4-242f050a5c57"
   },
   "source": [
    "7. Для компании «Яндекс» выведите список регионов-миллионников, в которых представлены вакансии компании, вместе с количеством вакансий в этих регионах. Также добавьте строку Total с общим количеством вакансий компании. Результат отсортируйте по возрастанию количества.\n",
    "\n",
    "Список городов-милионников надо взять [отсюда](https://ru.wikipedia.org/wiki/%D0%93%D0%BE%D1%80%D0%BE%D0%B4%D0%B0-%D0%BC%D0%B8%D0%BB%D0%BB%D0%B8%D0%BE%D0%BD%D0%B5%D1%80%D1%8B_%D0%A0%D0%BE%D1%81%D1%81%D0%B8%D0%B8). \n",
    "\n",
    "Если возникнут трудности с этим задание посмотрите материалы модуля  PYTHON-17. Как получать данные из веб-источников и API. "
   ]
  },
  {
   "cell_type": "code",
   "execution_count": 40,
   "id": "ZdfrL6gIs1Pn",
   "metadata": {
    "id": "ZdfrL6gIs1Pn"
   },
   "outputs": [
    {
     "name": "stdout",
     "output_type": "stream",
     "text": [
      "('Москва', 'Санкт-Петербург', 'Новосибирск', 'Екатеринбург', 'Казань', 'Нижний Новгород', 'Красноярск', 'Челябинск', 'Самара', 'Уфа', 'Ростов-на-Дону', 'Краснодар', 'Омск', 'Воронеж', 'Пермь', 'Волгоград')\n"
     ]
    }
   ],
   "source": [
    "# код для получения списка городов-милионников\n",
    "url = 'https://ru.wikipedia.org/wiki/%D0%93%D0%BE%D1%80%D0%BE%D0%B4%D0%B0-%D0%BC%D0%B8%D0%BB%D0%BB%D0%B8%D0%BE%D0%BD%D0%B5%D1%80%D1%8B_%D0%A0%D0%BE%D1%81%D1%81%D0%B8%D0%B8'\n",
    "result = pd.read_html(url)[1]\n",
    "\n",
    "# для удобства использования перечня в коде, переведем дарафрейм сначала в список,а затем его в кортеж, чтобы были круглые скобки\n",
    "million_city = tuple(result['Город'].values.tolist())\n",
    "\n",
    "# проверим вывод\n",
    "print(million_city)"
   ]
  },
  {
   "cell_type": "code",
   "execution_count": 41,
   "id": "5a0e32a4-e68a-4365-8a39-2fe24c542c36",
   "metadata": {
    "id": "5a0e32a4-e68a-4365-8a39-2fe24c542c36"
   },
   "outputs": [
    {
     "name": "stderr",
     "output_type": "stream",
     "text": [
      "C:\\Users\\user\\AppData\\Local\\Temp\\ipykernel_7340\\3636844046.py:39: UserWarning:\n",
      "\n",
      "pandas only supports SQLAlchemy connectable (engine/connection) or database string URI or sqlite3 DBAPI2 connection. Other DBAPI2 objects are not tested. Please consider using SQLAlchemy.\n",
      "\n"
     ]
    }
   ],
   "source": [
    "# текст запроса\n",
    "query_5_7 = f'''\n",
    "(\n",
    "    -- первая выборка - данные по регионам\n",
    "    select\n",
    "        -- выводим название региона и количество работодателей\n",
    "        a.name,\n",
    "        count(*) cnt\n",
    "    from\n",
    "        -- основная таблица Регионы, соединим с Вакансиями по id региона для посчета количества вакансий,\n",
    "        -- а затем с таблицей Работодателей по равенству id работодателя для выбора по названию работодателя\n",
    "        public.areas a\n",
    "        join public.vacancies v on a.id = v.area_id\n",
    "        join public.employers e on v.employer_id = e.id\n",
    "    where\n",
    "        -- список городов-миллионников возьмем из переменной million_city, куда положили их в предыдущем параграфе\n",
    "        a.name in { million_city }\n",
    "        and e.name = 'Яндекс'\n",
    "    group by\n",
    "        -- для подсчета количества вакансий группируем записи по id региона\n",
    "        a.id\n",
    ")\n",
    "union\n",
    "(\n",
    "    -- вторая выборка - суммарное количество вакансий (Total) у Яндекса\n",
    "    -- все то же самое, что в первой выборке, только не группируем по регионам\n",
    "    select\n",
    "        'Total',\n",
    "        count(*)\n",
    "    from\n",
    "        public.areas a\n",
    "        join public.vacancies v on a.id = v.area_id\n",
    "        join public.employers e on v.employer_id = e.id\n",
    "    where\n",
    "        a.name in { million_city }\n",
    "        and e.name = 'Яндекс'\n",
    ")\n",
    "'''\n",
    "result_5_7 = pd.read_sql_query(query_5_7, connection)"
   ]
  },
  {
   "cell_type": "code",
   "execution_count": 42,
   "id": "ttPhiO1rsvPq",
   "metadata": {
    "id": "ttPhiO1rsvPq"
   },
   "outputs": [
    {
     "data": {
      "text/html": [
       "<div>\n",
       "<style scoped>\n",
       "    .dataframe tbody tr th:only-of-type {\n",
       "        vertical-align: middle;\n",
       "    }\n",
       "\n",
       "    .dataframe tbody tr th {\n",
       "        vertical-align: top;\n",
       "    }\n",
       "\n",
       "    .dataframe thead th {\n",
       "        text-align: right;\n",
       "    }\n",
       "</style>\n",
       "<table border=\"1\" class=\"dataframe\">\n",
       "  <thead>\n",
       "    <tr style=\"text-align: right;\">\n",
       "      <th></th>\n",
       "      <th>name</th>\n",
       "      <th>cnt</th>\n",
       "    </tr>\n",
       "  </thead>\n",
       "  <tbody>\n",
       "    <tr>\n",
       "      <th>0</th>\n",
       "      <td>Total</td>\n",
       "      <td>485</td>\n",
       "    </tr>\n",
       "    <tr>\n",
       "      <th>1</th>\n",
       "      <td>Волгоград</td>\n",
       "      <td>24</td>\n",
       "    </tr>\n",
       "    <tr>\n",
       "      <th>2</th>\n",
       "      <td>Воронеж</td>\n",
       "      <td>32</td>\n",
       "    </tr>\n",
       "    <tr>\n",
       "      <th>3</th>\n",
       "      <td>Екатеринбург</td>\n",
       "      <td>39</td>\n",
       "    </tr>\n",
       "    <tr>\n",
       "      <th>4</th>\n",
       "      <td>Казань</td>\n",
       "      <td>25</td>\n",
       "    </tr>\n",
       "    <tr>\n",
       "      <th>5</th>\n",
       "      <td>Краснодар</td>\n",
       "      <td>30</td>\n",
       "    </tr>\n",
       "    <tr>\n",
       "      <th>6</th>\n",
       "      <td>Красноярск</td>\n",
       "      <td>23</td>\n",
       "    </tr>\n",
       "    <tr>\n",
       "      <th>7</th>\n",
       "      <td>Москва</td>\n",
       "      <td>54</td>\n",
       "    </tr>\n",
       "    <tr>\n",
       "      <th>8</th>\n",
       "      <td>Нижний Новгород</td>\n",
       "      <td>36</td>\n",
       "    </tr>\n",
       "    <tr>\n",
       "      <th>9</th>\n",
       "      <td>Новосибирск</td>\n",
       "      <td>35</td>\n",
       "    </tr>\n",
       "    <tr>\n",
       "      <th>10</th>\n",
       "      <td>Омск</td>\n",
       "      <td>21</td>\n",
       "    </tr>\n",
       "    <tr>\n",
       "      <th>11</th>\n",
       "      <td>Пермь</td>\n",
       "      <td>25</td>\n",
       "    </tr>\n",
       "    <tr>\n",
       "      <th>12</th>\n",
       "      <td>Ростов-на-Дону</td>\n",
       "      <td>25</td>\n",
       "    </tr>\n",
       "    <tr>\n",
       "      <th>13</th>\n",
       "      <td>Самара</td>\n",
       "      <td>26</td>\n",
       "    </tr>\n",
       "    <tr>\n",
       "      <th>14</th>\n",
       "      <td>Санкт-Петербург</td>\n",
       "      <td>42</td>\n",
       "    </tr>\n",
       "    <tr>\n",
       "      <th>15</th>\n",
       "      <td>Уфа</td>\n",
       "      <td>26</td>\n",
       "    </tr>\n",
       "    <tr>\n",
       "      <th>16</th>\n",
       "      <td>Челябинск</td>\n",
       "      <td>22</td>\n",
       "    </tr>\n",
       "  </tbody>\n",
       "</table>\n",
       "</div>"
      ],
      "text/plain": [
       "               name  cnt\n",
       "0             Total  485\n",
       "1         Волгоград   24\n",
       "2           Воронеж   32\n",
       "3      Екатеринбург   39\n",
       "4            Казань   25\n",
       "5         Краснодар   30\n",
       "6        Красноярск   23\n",
       "7            Москва   54\n",
       "8   Нижний Новгород   36\n",
       "9       Новосибирск   35\n",
       "10             Омск   21\n",
       "11            Пермь   25\n",
       "12   Ростов-на-Дону   25\n",
       "13           Самара   26\n",
       "14  Санкт-Петербург   42\n",
       "15              Уфа   26\n",
       "16        Челябинск   22"
      ]
     },
     "execution_count": 42,
     "metadata": {},
     "output_type": "execute_result"
    }
   ],
   "source": [
    "# результат запроса\n",
    "result_5_7"
   ]
  },
  {
   "cell_type": "markdown",
   "id": "04966e40-3bc3-4dc8-9ba2-e80580ce3abc",
   "metadata": {
    "id": "04966e40-3bc3-4dc8-9ba2-e80580ce3abc"
   },
   "source": [
    "***"
   ]
  },
  {
   "cell_type": "markdown",
   "id": "4cc27cbd",
   "metadata": {
    "id": "aGGyER-yt4SR"
   },
   "source": [
    "# Выводы по анализу работодателей"
   ]
  },
  {
   "cell_type": "markdown",
   "id": "10162ea3",
   "metadata": {},
   "source": [
    "*Если ранее мы сделали вывод, что в среднем на одного работодателя приходится 2 вакансии, то теперь может уточнить, что количество вакансий достаточно вариативно. Есть работодатели, формирующие бОльшую часть рынка вакансий, причем и по количеству вакансий, и по географии их размещения.*"
   ]
  },
  {
   "cell_type": "code",
   "execution_count": 43,
   "id": "26e1516c",
   "metadata": {},
   "outputs": [
    {
     "name": "stderr",
     "output_type": "stream",
     "text": [
      "C:\\Users\\user\\AppData\\Local\\Temp\\ipykernel_7340\\2591034019.py:20: UserWarning:\n",
      "\n",
      "pandas only supports SQLAlchemy connectable (engine/connection) or database string URI or sqlite3 DBAPI2 connection. Other DBAPI2 objects are not tested. Please consider using SQLAlchemy.\n",
      "\n"
     ]
    },
    {
     "data": {
      "application/vnd.plotly.v1+json": {
       "config": {
        "plotlyServerURL": "https://plot.ly"
       },
       "data": [
        {
         "alignmentgroup": "True",
         "hovertemplate": "name=%{x}<br>cnt=%{text}<extra></extra>",
         "legendgroup": "Яндекс",
         "marker": {
          "color": "#636efa",
          "pattern": {
           "shape": ""
          }
         },
         "name": "Яндекс",
         "offsetgroup": "Яндекс",
         "orientation": "v",
         "showlegend": true,
         "text": [
          1933
         ],
         "textposition": "auto",
         "type": "bar",
         "x": [
          "Яндекс"
         ],
         "xaxis": "x",
         "y": [
          1933
         ],
         "yaxis": "y"
        },
        {
         "alignmentgroup": "True",
         "hovertemplate": "name=%{x}<br>cnt=%{text}<extra></extra>",
         "legendgroup": "Ростелеком",
         "marker": {
          "color": "#EF553B",
          "pattern": {
           "shape": ""
          }
         },
         "name": "Ростелеком",
         "offsetgroup": "Ростелеком",
         "orientation": "v",
         "showlegend": true,
         "text": [
          491
         ],
         "textposition": "auto",
         "type": "bar",
         "x": [
          "Ростелеком"
         ],
         "xaxis": "x",
         "y": [
          491
         ],
         "yaxis": "y"
        },
        {
         "alignmentgroup": "True",
         "hovertemplate": "name=%{x}<br>cnt=%{text}<extra></extra>",
         "legendgroup": "Тинькофф",
         "marker": {
          "color": "#00cc96",
          "pattern": {
           "shape": ""
          }
         },
         "name": "Тинькофф",
         "offsetgroup": "Тинькофф",
         "orientation": "v",
         "showlegend": true,
         "text": [
          444
         ],
         "textposition": "auto",
         "type": "bar",
         "x": [
          "Тинькофф"
         ],
         "xaxis": "x",
         "y": [
          444
         ],
         "yaxis": "y"
        },
        {
         "alignmentgroup": "True",
         "hovertemplate": "name=%{x}<br>cnt=%{text}<extra></extra>",
         "legendgroup": "СБЕР",
         "marker": {
          "color": "#ab63fa",
          "pattern": {
           "shape": ""
          }
         },
         "name": "СБЕР",
         "offsetgroup": "СБЕР",
         "orientation": "v",
         "showlegend": true,
         "text": [
          428
         ],
         "textposition": "auto",
         "type": "bar",
         "x": [
          "СБЕР"
         ],
         "xaxis": "x",
         "y": [
          428
         ],
         "yaxis": "y"
        },
        {
         "alignmentgroup": "True",
         "hovertemplate": "name=%{x}<br>cnt=%{text}<extra></extra>",
         "legendgroup": "Газпром нефть",
         "marker": {
          "color": "#FFA15A",
          "pattern": {
           "shape": ""
          }
         },
         "name": "Газпром нефть",
         "offsetgroup": "Газпром нефть",
         "orientation": "v",
         "showlegend": true,
         "text": [
          331
         ],
         "textposition": "auto",
         "type": "bar",
         "x": [
          "Газпром нефть"
         ],
         "xaxis": "x",
         "y": [
          331
         ],
         "yaxis": "y"
        },
        {
         "alignmentgroup": "True",
         "hovertemplate": "name=%{x}<br>cnt=%{text}<extra></extra>",
         "legendgroup": "ИК СИБИНТЕК",
         "marker": {
          "color": "#19d3f3",
          "pattern": {
           "shape": ""
          }
         },
         "name": "ИК СИБИНТЕК",
         "offsetgroup": "ИК СИБИНТЕК",
         "orientation": "v",
         "showlegend": true,
         "text": [
          327
         ],
         "textposition": "auto",
         "type": "bar",
         "x": [
          "ИК СИБИНТЕК"
         ],
         "xaxis": "x",
         "y": [
          327
         ],
         "yaxis": "y"
        },
        {
         "alignmentgroup": "True",
         "hovertemplate": "name=%{x}<br>cnt=%{text}<extra></extra>",
         "legendgroup": "МТС",
         "marker": {
          "color": "#FF6692",
          "pattern": {
           "shape": ""
          }
         },
         "name": "МТС",
         "offsetgroup": "МТС",
         "orientation": "v",
         "showlegend": true,
         "text": [
          292
         ],
         "textposition": "auto",
         "type": "bar",
         "x": [
          "МТС"
         ],
         "xaxis": "x",
         "y": [
          292
         ],
         "yaxis": "y"
        },
        {
         "alignmentgroup": "True",
         "hovertemplate": "name=%{x}<br>cnt=%{text}<extra></extra>",
         "legendgroup": "DataArt",
         "marker": {
          "color": "#B6E880",
          "pattern": {
           "shape": ""
          }
         },
         "name": "DataArt",
         "offsetgroup": "DataArt",
         "orientation": "v",
         "showlegend": true,
         "text": [
          247
         ],
         "textposition": "auto",
         "type": "bar",
         "x": [
          "DataArt"
         ],
         "xaxis": "x",
         "y": [
          247
         ],
         "yaxis": "y"
        },
        {
         "alignmentgroup": "True",
         "hovertemplate": "name=%{x}<br>cnt=%{text}<extra></extra>",
         "legendgroup": "Совкомбанк Технологии",
         "marker": {
          "color": "#FF97FF",
          "pattern": {
           "shape": ""
          }
         },
         "name": "Совкомбанк Технологии",
         "offsetgroup": "Совкомбанк Технологии",
         "orientation": "v",
         "showlegend": true,
         "text": [
          204
         ],
         "textposition": "auto",
         "type": "bar",
         "x": [
          "Совкомбанк Технологии"
         ],
         "xaxis": "x",
         "y": [
          204
         ],
         "yaxis": "y"
        },
        {
         "alignmentgroup": "True",
         "hovertemplate": "name=%{x}<br>cnt=%{text}<extra></extra>",
         "legendgroup": "Первый Бит",
         "marker": {
          "color": "#FECB52",
          "pattern": {
           "shape": ""
          }
         },
         "name": "Первый Бит",
         "offsetgroup": "Первый Бит",
         "orientation": "v",
         "showlegend": true,
         "text": [
          176
         ],
         "textposition": "auto",
         "type": "bar",
         "x": [
          "Первый Бит"
         ],
         "xaxis": "x",
         "y": [
          176
         ],
         "yaxis": "y"
        }
       ],
       "layout": {
        "barmode": "relative",
        "height": 500,
        "legend": {
         "title": {
          "text": "name"
         },
         "tracegroupgap": 0
        },
        "template": {
         "data": {
          "bar": [
           {
            "error_x": {
             "color": "#2a3f5f"
            },
            "error_y": {
             "color": "#2a3f5f"
            },
            "marker": {
             "line": {
              "color": "#E5ECF6",
              "width": 0.5
             },
             "pattern": {
              "fillmode": "overlay",
              "size": 10,
              "solidity": 0.2
             }
            },
            "type": "bar"
           }
          ],
          "barpolar": [
           {
            "marker": {
             "line": {
              "color": "#E5ECF6",
              "width": 0.5
             },
             "pattern": {
              "fillmode": "overlay",
              "size": 10,
              "solidity": 0.2
             }
            },
            "type": "barpolar"
           }
          ],
          "carpet": [
           {
            "aaxis": {
             "endlinecolor": "#2a3f5f",
             "gridcolor": "white",
             "linecolor": "white",
             "minorgridcolor": "white",
             "startlinecolor": "#2a3f5f"
            },
            "baxis": {
             "endlinecolor": "#2a3f5f",
             "gridcolor": "white",
             "linecolor": "white",
             "minorgridcolor": "white",
             "startlinecolor": "#2a3f5f"
            },
            "type": "carpet"
           }
          ],
          "choropleth": [
           {
            "colorbar": {
             "outlinewidth": 0,
             "ticks": ""
            },
            "type": "choropleth"
           }
          ],
          "contour": [
           {
            "colorbar": {
             "outlinewidth": 0,
             "ticks": ""
            },
            "colorscale": [
             [
              0,
              "#0d0887"
             ],
             [
              0.1111111111111111,
              "#46039f"
             ],
             [
              0.2222222222222222,
              "#7201a8"
             ],
             [
              0.3333333333333333,
              "#9c179e"
             ],
             [
              0.4444444444444444,
              "#bd3786"
             ],
             [
              0.5555555555555556,
              "#d8576b"
             ],
             [
              0.6666666666666666,
              "#ed7953"
             ],
             [
              0.7777777777777778,
              "#fb9f3a"
             ],
             [
              0.8888888888888888,
              "#fdca26"
             ],
             [
              1,
              "#f0f921"
             ]
            ],
            "type": "contour"
           }
          ],
          "contourcarpet": [
           {
            "colorbar": {
             "outlinewidth": 0,
             "ticks": ""
            },
            "type": "contourcarpet"
           }
          ],
          "heatmap": [
           {
            "colorbar": {
             "outlinewidth": 0,
             "ticks": ""
            },
            "colorscale": [
             [
              0,
              "#0d0887"
             ],
             [
              0.1111111111111111,
              "#46039f"
             ],
             [
              0.2222222222222222,
              "#7201a8"
             ],
             [
              0.3333333333333333,
              "#9c179e"
             ],
             [
              0.4444444444444444,
              "#bd3786"
             ],
             [
              0.5555555555555556,
              "#d8576b"
             ],
             [
              0.6666666666666666,
              "#ed7953"
             ],
             [
              0.7777777777777778,
              "#fb9f3a"
             ],
             [
              0.8888888888888888,
              "#fdca26"
             ],
             [
              1,
              "#f0f921"
             ]
            ],
            "type": "heatmap"
           }
          ],
          "heatmapgl": [
           {
            "colorbar": {
             "outlinewidth": 0,
             "ticks": ""
            },
            "colorscale": [
             [
              0,
              "#0d0887"
             ],
             [
              0.1111111111111111,
              "#46039f"
             ],
             [
              0.2222222222222222,
              "#7201a8"
             ],
             [
              0.3333333333333333,
              "#9c179e"
             ],
             [
              0.4444444444444444,
              "#bd3786"
             ],
             [
              0.5555555555555556,
              "#d8576b"
             ],
             [
              0.6666666666666666,
              "#ed7953"
             ],
             [
              0.7777777777777778,
              "#fb9f3a"
             ],
             [
              0.8888888888888888,
              "#fdca26"
             ],
             [
              1,
              "#f0f921"
             ]
            ],
            "type": "heatmapgl"
           }
          ],
          "histogram": [
           {
            "marker": {
             "pattern": {
              "fillmode": "overlay",
              "size": 10,
              "solidity": 0.2
             }
            },
            "type": "histogram"
           }
          ],
          "histogram2d": [
           {
            "colorbar": {
             "outlinewidth": 0,
             "ticks": ""
            },
            "colorscale": [
             [
              0,
              "#0d0887"
             ],
             [
              0.1111111111111111,
              "#46039f"
             ],
             [
              0.2222222222222222,
              "#7201a8"
             ],
             [
              0.3333333333333333,
              "#9c179e"
             ],
             [
              0.4444444444444444,
              "#bd3786"
             ],
             [
              0.5555555555555556,
              "#d8576b"
             ],
             [
              0.6666666666666666,
              "#ed7953"
             ],
             [
              0.7777777777777778,
              "#fb9f3a"
             ],
             [
              0.8888888888888888,
              "#fdca26"
             ],
             [
              1,
              "#f0f921"
             ]
            ],
            "type": "histogram2d"
           }
          ],
          "histogram2dcontour": [
           {
            "colorbar": {
             "outlinewidth": 0,
             "ticks": ""
            },
            "colorscale": [
             [
              0,
              "#0d0887"
             ],
             [
              0.1111111111111111,
              "#46039f"
             ],
             [
              0.2222222222222222,
              "#7201a8"
             ],
             [
              0.3333333333333333,
              "#9c179e"
             ],
             [
              0.4444444444444444,
              "#bd3786"
             ],
             [
              0.5555555555555556,
              "#d8576b"
             ],
             [
              0.6666666666666666,
              "#ed7953"
             ],
             [
              0.7777777777777778,
              "#fb9f3a"
             ],
             [
              0.8888888888888888,
              "#fdca26"
             ],
             [
              1,
              "#f0f921"
             ]
            ],
            "type": "histogram2dcontour"
           }
          ],
          "mesh3d": [
           {
            "colorbar": {
             "outlinewidth": 0,
             "ticks": ""
            },
            "type": "mesh3d"
           }
          ],
          "parcoords": [
           {
            "line": {
             "colorbar": {
              "outlinewidth": 0,
              "ticks": ""
             }
            },
            "type": "parcoords"
           }
          ],
          "pie": [
           {
            "automargin": true,
            "type": "pie"
           }
          ],
          "scatter": [
           {
            "fillpattern": {
             "fillmode": "overlay",
             "size": 10,
             "solidity": 0.2
            },
            "type": "scatter"
           }
          ],
          "scatter3d": [
           {
            "line": {
             "colorbar": {
              "outlinewidth": 0,
              "ticks": ""
             }
            },
            "marker": {
             "colorbar": {
              "outlinewidth": 0,
              "ticks": ""
             }
            },
            "type": "scatter3d"
           }
          ],
          "scattercarpet": [
           {
            "marker": {
             "colorbar": {
              "outlinewidth": 0,
              "ticks": ""
             }
            },
            "type": "scattercarpet"
           }
          ],
          "scattergeo": [
           {
            "marker": {
             "colorbar": {
              "outlinewidth": 0,
              "ticks": ""
             }
            },
            "type": "scattergeo"
           }
          ],
          "scattergl": [
           {
            "marker": {
             "colorbar": {
              "outlinewidth": 0,
              "ticks": ""
             }
            },
            "type": "scattergl"
           }
          ],
          "scattermapbox": [
           {
            "marker": {
             "colorbar": {
              "outlinewidth": 0,
              "ticks": ""
             }
            },
            "type": "scattermapbox"
           }
          ],
          "scatterpolar": [
           {
            "marker": {
             "colorbar": {
              "outlinewidth": 0,
              "ticks": ""
             }
            },
            "type": "scatterpolar"
           }
          ],
          "scatterpolargl": [
           {
            "marker": {
             "colorbar": {
              "outlinewidth": 0,
              "ticks": ""
             }
            },
            "type": "scatterpolargl"
           }
          ],
          "scatterternary": [
           {
            "marker": {
             "colorbar": {
              "outlinewidth": 0,
              "ticks": ""
             }
            },
            "type": "scatterternary"
           }
          ],
          "surface": [
           {
            "colorbar": {
             "outlinewidth": 0,
             "ticks": ""
            },
            "colorscale": [
             [
              0,
              "#0d0887"
             ],
             [
              0.1111111111111111,
              "#46039f"
             ],
             [
              0.2222222222222222,
              "#7201a8"
             ],
             [
              0.3333333333333333,
              "#9c179e"
             ],
             [
              0.4444444444444444,
              "#bd3786"
             ],
             [
              0.5555555555555556,
              "#d8576b"
             ],
             [
              0.6666666666666666,
              "#ed7953"
             ],
             [
              0.7777777777777778,
              "#fb9f3a"
             ],
             [
              0.8888888888888888,
              "#fdca26"
             ],
             [
              1,
              "#f0f921"
             ]
            ],
            "type": "surface"
           }
          ],
          "table": [
           {
            "cells": {
             "fill": {
              "color": "#EBF0F8"
             },
             "line": {
              "color": "white"
             }
            },
            "header": {
             "fill": {
              "color": "#C8D4E3"
             },
             "line": {
              "color": "white"
             }
            },
            "type": "table"
           }
          ]
         },
         "layout": {
          "annotationdefaults": {
           "arrowcolor": "#2a3f5f",
           "arrowhead": 0,
           "arrowwidth": 1
          },
          "autotypenumbers": "strict",
          "coloraxis": {
           "colorbar": {
            "outlinewidth": 0,
            "ticks": ""
           }
          },
          "colorscale": {
           "diverging": [
            [
             0,
             "#8e0152"
            ],
            [
             0.1,
             "#c51b7d"
            ],
            [
             0.2,
             "#de77ae"
            ],
            [
             0.3,
             "#f1b6da"
            ],
            [
             0.4,
             "#fde0ef"
            ],
            [
             0.5,
             "#f7f7f7"
            ],
            [
             0.6,
             "#e6f5d0"
            ],
            [
             0.7,
             "#b8e186"
            ],
            [
             0.8,
             "#7fbc41"
            ],
            [
             0.9,
             "#4d9221"
            ],
            [
             1,
             "#276419"
            ]
           ],
           "sequential": [
            [
             0,
             "#0d0887"
            ],
            [
             0.1111111111111111,
             "#46039f"
            ],
            [
             0.2222222222222222,
             "#7201a8"
            ],
            [
             0.3333333333333333,
             "#9c179e"
            ],
            [
             0.4444444444444444,
             "#bd3786"
            ],
            [
             0.5555555555555556,
             "#d8576b"
            ],
            [
             0.6666666666666666,
             "#ed7953"
            ],
            [
             0.7777777777777778,
             "#fb9f3a"
            ],
            [
             0.8888888888888888,
             "#fdca26"
            ],
            [
             1,
             "#f0f921"
            ]
           ],
           "sequentialminus": [
            [
             0,
             "#0d0887"
            ],
            [
             0.1111111111111111,
             "#46039f"
            ],
            [
             0.2222222222222222,
             "#7201a8"
            ],
            [
             0.3333333333333333,
             "#9c179e"
            ],
            [
             0.4444444444444444,
             "#bd3786"
            ],
            [
             0.5555555555555556,
             "#d8576b"
            ],
            [
             0.6666666666666666,
             "#ed7953"
            ],
            [
             0.7777777777777778,
             "#fb9f3a"
            ],
            [
             0.8888888888888888,
             "#fdca26"
            ],
            [
             1,
             "#f0f921"
            ]
           ]
          },
          "colorway": [
           "#636efa",
           "#EF553B",
           "#00cc96",
           "#ab63fa",
           "#FFA15A",
           "#19d3f3",
           "#FF6692",
           "#B6E880",
           "#FF97FF",
           "#FECB52"
          ],
          "font": {
           "color": "#2a3f5f"
          },
          "geo": {
           "bgcolor": "white",
           "lakecolor": "white",
           "landcolor": "#E5ECF6",
           "showlakes": true,
           "showland": true,
           "subunitcolor": "white"
          },
          "hoverlabel": {
           "align": "left"
          },
          "hovermode": "closest",
          "mapbox": {
           "style": "light"
          },
          "paper_bgcolor": "white",
          "plot_bgcolor": "#E5ECF6",
          "polar": {
           "angularaxis": {
            "gridcolor": "white",
            "linecolor": "white",
            "ticks": ""
           },
           "bgcolor": "#E5ECF6",
           "radialaxis": {
            "gridcolor": "white",
            "linecolor": "white",
            "ticks": ""
           }
          },
          "scene": {
           "xaxis": {
            "backgroundcolor": "#E5ECF6",
            "gridcolor": "white",
            "gridwidth": 2,
            "linecolor": "white",
            "showbackground": true,
            "ticks": "",
            "zerolinecolor": "white"
           },
           "yaxis": {
            "backgroundcolor": "#E5ECF6",
            "gridcolor": "white",
            "gridwidth": 2,
            "linecolor": "white",
            "showbackground": true,
            "ticks": "",
            "zerolinecolor": "white"
           },
           "zaxis": {
            "backgroundcolor": "#E5ECF6",
            "gridcolor": "white",
            "gridwidth": 2,
            "linecolor": "white",
            "showbackground": true,
            "ticks": "",
            "zerolinecolor": "white"
           }
          },
          "shapedefaults": {
           "line": {
            "color": "#2a3f5f"
           }
          },
          "ternary": {
           "aaxis": {
            "gridcolor": "white",
            "linecolor": "white",
            "ticks": ""
           },
           "baxis": {
            "gridcolor": "white",
            "linecolor": "white",
            "ticks": ""
           },
           "bgcolor": "#E5ECF6",
           "caxis": {
            "gridcolor": "white",
            "linecolor": "white",
            "ticks": ""
           }
          },
          "title": {
           "x": 0.05
          },
          "xaxis": {
           "automargin": true,
           "gridcolor": "white",
           "linecolor": "white",
           "ticks": "",
           "title": {
            "standoff": 15
           },
           "zerolinecolor": "white",
           "zerolinewidth": 2
          },
          "yaxis": {
           "automargin": true,
           "gridcolor": "white",
           "linecolor": "white",
           "ticks": "",
           "title": {
            "standoff": 15
           },
           "zerolinecolor": "white",
           "zerolinewidth": 2
          }
         }
        },
        "title": {
         "text": "Топ-10 работодателей по количеству вакансий"
        },
        "width": 1000,
        "xaxis": {
         "anchor": "y",
         "categoryarray": [
          "Яндекс",
          "Ростелеком",
          "Тинькофф",
          "СБЕР",
          "Газпром нефть",
          "ИК СИБИНТЕК",
          "МТС",
          "DataArt",
          "Совкомбанк Технологии",
          "Первый Бит"
         ],
         "categoryorder": "array",
         "domain": [
          0,
          1
         ],
         "title": {
          "text": "name"
         }
        },
        "yaxis": {
         "anchor": "x",
         "domain": [
          0,
          1
         ],
         "title": {
          "text": "cnt"
         }
        }
       }
      }
     },
     "metadata": {},
     "output_type": "display_data"
    }
   ],
   "source": [
    "# преобразуем запрос query_5_1 чтобы показать топ-10 работодателей по числу вакансий\n",
    "query_tmp = f'''\n",
    "-- вывод количества вакансий и названия работодателя\n",
    "    select\n",
    "        count(*) as cnt,\n",
    "        e.name\n",
    "    from\n",
    "-- основная таблица Вакансии, соединяем с Работодателями\n",
    "        public.vacancies v\n",
    "        join public.employers e on v.employer_id = e.id\n",
    "    group by\n",
    "-- для подсчета количества вакансий группируем по id работодателя\n",
    "        e.id\n",
    "    order by\n",
    "-- отсортируем вывод по убыванию количества и оставим только 10 записей\n",
    "        cnt desc\n",
    "    limit\n",
    "        10\n",
    "'''\n",
    "result_tmp = pd.read_sql_query(query_tmp, connection)\n",
    "\n",
    "#визуализация топ-10 работодателей\n",
    "fig = px.bar(\n",
    "    data_frame=result_tmp,\n",
    "    x=\"name\",\n",
    "    y=\"cnt\",\n",
    "    color='name',\n",
    "    text = 'cnt',\n",
    "    orientation='v',\n",
    "    height=500, \n",
    "    width=1000,\n",
    "    title='Топ-10 работодателей по количеству вакансий',\n",
    "    labels = dict(x = 'Работодатель', y='Количество вакансий')\n",
    ")\n",
    "fig.show()\n",
    "fig.write_html('graphs/Визуализация_5.html');"
   ]
  },
  {
   "cell_type": "markdown",
   "id": "5b307525",
   "metadata": {},
   "source": [
    "*Видим безусловного лидера по числу вакансий - Яндекс. В целом же, помимо Яндекс, у которого в одних только городах-миллионниках размещено 485 вакансий, топ-10 состоит преимущественно из крупных компаний, в которых ИТ-направление является собственно основной существования бизнеса. Это финансовый сектор и телеком. Масштабы бизнеса этих компаний таковы, что во многих из них ИТ-функция выделена в отдельной направление со значительным штатом. Также для них характерен набор сотрудников в широкой географии как за счет физического присутствия во многих регионах, так и за счет распространяющейся практики удаленного режима работы. Например, Яндекс публикуем свои вакансии в 183 регионах, а Ростелеком - в 152. \n",
    "Если же посмотреть на сферы деятельности, в которых работают компании, то тут тоже интересные результаты.\n",
    "Из 23501 работодателя 8419, то есть более 1/3, не указывают сферу деятельности. Скорее всего, это небольшие работодатели, для которых подбор сотрудников нечастое занятие, поэтому их профиль на HH заполнен в минимальном наполнении.\n",
    "При этом у 3553 работодателей, что составляет примерно 15% от их общего количества, указана сфера деятельности \"Разработка программного обеспечения\". Интересно, какие еще сферы деятельности наиболее часто встречаются. Для этого выполним необходимую выборку и покажем результат на графике.*"
   ]
  },
  {
   "cell_type": "code",
   "execution_count": 44,
   "id": "8345aaf5",
   "metadata": {},
   "outputs": [
    {
     "name": "stderr",
     "output_type": "stream",
     "text": [
      "C:\\Users\\user\\AppData\\Local\\Temp\\ipykernel_7340\\4187170062.py:21: UserWarning:\n",
      "\n",
      "pandas only supports SQLAlchemy connectable (engine/connection) or database string URI or sqlite3 DBAPI2 connection. Other DBAPI2 objects are not tested. Please consider using SQLAlchemy.\n",
      "\n"
     ]
    },
    {
     "data": {
      "application/vnd.plotly.v1+json": {
       "config": {
        "plotlyServerURL": "https://plot.ly"
       },
       "data": [
        {
         "alignmentgroup": "True",
         "hovertemplate": "Сфера деятельности=%{x}<br>Количество работодателей=%{marker.color}<extra></extra>",
         "legendgroup": "",
         "marker": {
          "color": [
           3553,
           2993,
           1675,
           798,
           662,
           389,
           374,
           368,
           351,
           346
          ],
          "coloraxis": "coloraxis",
          "pattern": {
           "shape": ""
          }
         },
         "name": "",
         "offsetgroup": "",
         "orientation": "v",
         "showlegend": false,
         "text": [
          3553,
          2993,
          1675,
          798,
          662,
          389,
          374,
          368,
          351,
          346
         ],
         "textposition": "auto",
         "type": "bar",
         "x": [
          "Разработка программного обеспечения",
          "Системная интеграция,  автоматизации технологических и бизнес-процессов предприятия, ИТ-консалтинг",
          "Интернет-компания (поисковики, платежные системы, соц.сети, информационно-познавательные и развлекательные ресурсы, продвижение сайтов и прочее)",
          "Маркетинговые, рекламные, BTL, дизайнерские, Event-, PR-агентства, организация выставок",
          "Консалтинговые услуги",
          "Кадровые агентства",
          "Электронно-вычислительная, оптическая, контрольно-измерительная техника, радиоэлектроника, автоматика (продвижение, оптовая торговля)",
          "Розничная сеть (продуктовая)",
          "Интернет-магазин",
          "Архитектура, проектирование"
         ],
         "xaxis": "x",
         "y": [
          3553,
          2993,
          1675,
          798,
          662,
          389,
          374,
          368,
          351,
          346
         ],
         "yaxis": "y"
        }
       ],
       "layout": {
        "barmode": "relative",
        "coloraxis": {
         "colorbar": {
          "title": {
           "text": "Количество работодателей"
          }
         },
         "colorscale": [
          [
           0,
           "#0d0887"
          ],
          [
           0.1111111111111111,
           "#46039f"
          ],
          [
           0.2222222222222222,
           "#7201a8"
          ],
          [
           0.3333333333333333,
           "#9c179e"
          ],
          [
           0.4444444444444444,
           "#bd3786"
          ],
          [
           0.5555555555555556,
           "#d8576b"
          ],
          [
           0.6666666666666666,
           "#ed7953"
          ],
          [
           0.7777777777777778,
           "#fb9f3a"
          ],
          [
           0.8888888888888888,
           "#fdca26"
          ],
          [
           1,
           "#f0f921"
          ]
         ]
        },
        "height": 500,
        "legend": {
         "tracegroupgap": 0
        },
        "template": {
         "data": {
          "bar": [
           {
            "error_x": {
             "color": "#2a3f5f"
            },
            "error_y": {
             "color": "#2a3f5f"
            },
            "marker": {
             "line": {
              "color": "#E5ECF6",
              "width": 0.5
             },
             "pattern": {
              "fillmode": "overlay",
              "size": 10,
              "solidity": 0.2
             }
            },
            "type": "bar"
           }
          ],
          "barpolar": [
           {
            "marker": {
             "line": {
              "color": "#E5ECF6",
              "width": 0.5
             },
             "pattern": {
              "fillmode": "overlay",
              "size": 10,
              "solidity": 0.2
             }
            },
            "type": "barpolar"
           }
          ],
          "carpet": [
           {
            "aaxis": {
             "endlinecolor": "#2a3f5f",
             "gridcolor": "white",
             "linecolor": "white",
             "minorgridcolor": "white",
             "startlinecolor": "#2a3f5f"
            },
            "baxis": {
             "endlinecolor": "#2a3f5f",
             "gridcolor": "white",
             "linecolor": "white",
             "minorgridcolor": "white",
             "startlinecolor": "#2a3f5f"
            },
            "type": "carpet"
           }
          ],
          "choropleth": [
           {
            "colorbar": {
             "outlinewidth": 0,
             "ticks": ""
            },
            "type": "choropleth"
           }
          ],
          "contour": [
           {
            "colorbar": {
             "outlinewidth": 0,
             "ticks": ""
            },
            "colorscale": [
             [
              0,
              "#0d0887"
             ],
             [
              0.1111111111111111,
              "#46039f"
             ],
             [
              0.2222222222222222,
              "#7201a8"
             ],
             [
              0.3333333333333333,
              "#9c179e"
             ],
             [
              0.4444444444444444,
              "#bd3786"
             ],
             [
              0.5555555555555556,
              "#d8576b"
             ],
             [
              0.6666666666666666,
              "#ed7953"
             ],
             [
              0.7777777777777778,
              "#fb9f3a"
             ],
             [
              0.8888888888888888,
              "#fdca26"
             ],
             [
              1,
              "#f0f921"
             ]
            ],
            "type": "contour"
           }
          ],
          "contourcarpet": [
           {
            "colorbar": {
             "outlinewidth": 0,
             "ticks": ""
            },
            "type": "contourcarpet"
           }
          ],
          "heatmap": [
           {
            "colorbar": {
             "outlinewidth": 0,
             "ticks": ""
            },
            "colorscale": [
             [
              0,
              "#0d0887"
             ],
             [
              0.1111111111111111,
              "#46039f"
             ],
             [
              0.2222222222222222,
              "#7201a8"
             ],
             [
              0.3333333333333333,
              "#9c179e"
             ],
             [
              0.4444444444444444,
              "#bd3786"
             ],
             [
              0.5555555555555556,
              "#d8576b"
             ],
             [
              0.6666666666666666,
              "#ed7953"
             ],
             [
              0.7777777777777778,
              "#fb9f3a"
             ],
             [
              0.8888888888888888,
              "#fdca26"
             ],
             [
              1,
              "#f0f921"
             ]
            ],
            "type": "heatmap"
           }
          ],
          "heatmapgl": [
           {
            "colorbar": {
             "outlinewidth": 0,
             "ticks": ""
            },
            "colorscale": [
             [
              0,
              "#0d0887"
             ],
             [
              0.1111111111111111,
              "#46039f"
             ],
             [
              0.2222222222222222,
              "#7201a8"
             ],
             [
              0.3333333333333333,
              "#9c179e"
             ],
             [
              0.4444444444444444,
              "#bd3786"
             ],
             [
              0.5555555555555556,
              "#d8576b"
             ],
             [
              0.6666666666666666,
              "#ed7953"
             ],
             [
              0.7777777777777778,
              "#fb9f3a"
             ],
             [
              0.8888888888888888,
              "#fdca26"
             ],
             [
              1,
              "#f0f921"
             ]
            ],
            "type": "heatmapgl"
           }
          ],
          "histogram": [
           {
            "marker": {
             "pattern": {
              "fillmode": "overlay",
              "size": 10,
              "solidity": 0.2
             }
            },
            "type": "histogram"
           }
          ],
          "histogram2d": [
           {
            "colorbar": {
             "outlinewidth": 0,
             "ticks": ""
            },
            "colorscale": [
             [
              0,
              "#0d0887"
             ],
             [
              0.1111111111111111,
              "#46039f"
             ],
             [
              0.2222222222222222,
              "#7201a8"
             ],
             [
              0.3333333333333333,
              "#9c179e"
             ],
             [
              0.4444444444444444,
              "#bd3786"
             ],
             [
              0.5555555555555556,
              "#d8576b"
             ],
             [
              0.6666666666666666,
              "#ed7953"
             ],
             [
              0.7777777777777778,
              "#fb9f3a"
             ],
             [
              0.8888888888888888,
              "#fdca26"
             ],
             [
              1,
              "#f0f921"
             ]
            ],
            "type": "histogram2d"
           }
          ],
          "histogram2dcontour": [
           {
            "colorbar": {
             "outlinewidth": 0,
             "ticks": ""
            },
            "colorscale": [
             [
              0,
              "#0d0887"
             ],
             [
              0.1111111111111111,
              "#46039f"
             ],
             [
              0.2222222222222222,
              "#7201a8"
             ],
             [
              0.3333333333333333,
              "#9c179e"
             ],
             [
              0.4444444444444444,
              "#bd3786"
             ],
             [
              0.5555555555555556,
              "#d8576b"
             ],
             [
              0.6666666666666666,
              "#ed7953"
             ],
             [
              0.7777777777777778,
              "#fb9f3a"
             ],
             [
              0.8888888888888888,
              "#fdca26"
             ],
             [
              1,
              "#f0f921"
             ]
            ],
            "type": "histogram2dcontour"
           }
          ],
          "mesh3d": [
           {
            "colorbar": {
             "outlinewidth": 0,
             "ticks": ""
            },
            "type": "mesh3d"
           }
          ],
          "parcoords": [
           {
            "line": {
             "colorbar": {
              "outlinewidth": 0,
              "ticks": ""
             }
            },
            "type": "parcoords"
           }
          ],
          "pie": [
           {
            "automargin": true,
            "type": "pie"
           }
          ],
          "scatter": [
           {
            "fillpattern": {
             "fillmode": "overlay",
             "size": 10,
             "solidity": 0.2
            },
            "type": "scatter"
           }
          ],
          "scatter3d": [
           {
            "line": {
             "colorbar": {
              "outlinewidth": 0,
              "ticks": ""
             }
            },
            "marker": {
             "colorbar": {
              "outlinewidth": 0,
              "ticks": ""
             }
            },
            "type": "scatter3d"
           }
          ],
          "scattercarpet": [
           {
            "marker": {
             "colorbar": {
              "outlinewidth": 0,
              "ticks": ""
             }
            },
            "type": "scattercarpet"
           }
          ],
          "scattergeo": [
           {
            "marker": {
             "colorbar": {
              "outlinewidth": 0,
              "ticks": ""
             }
            },
            "type": "scattergeo"
           }
          ],
          "scattergl": [
           {
            "marker": {
             "colorbar": {
              "outlinewidth": 0,
              "ticks": ""
             }
            },
            "type": "scattergl"
           }
          ],
          "scattermapbox": [
           {
            "marker": {
             "colorbar": {
              "outlinewidth": 0,
              "ticks": ""
             }
            },
            "type": "scattermapbox"
           }
          ],
          "scatterpolar": [
           {
            "marker": {
             "colorbar": {
              "outlinewidth": 0,
              "ticks": ""
             }
            },
            "type": "scatterpolar"
           }
          ],
          "scatterpolargl": [
           {
            "marker": {
             "colorbar": {
              "outlinewidth": 0,
              "ticks": ""
             }
            },
            "type": "scatterpolargl"
           }
          ],
          "scatterternary": [
           {
            "marker": {
             "colorbar": {
              "outlinewidth": 0,
              "ticks": ""
             }
            },
            "type": "scatterternary"
           }
          ],
          "surface": [
           {
            "colorbar": {
             "outlinewidth": 0,
             "ticks": ""
            },
            "colorscale": [
             [
              0,
              "#0d0887"
             ],
             [
              0.1111111111111111,
              "#46039f"
             ],
             [
              0.2222222222222222,
              "#7201a8"
             ],
             [
              0.3333333333333333,
              "#9c179e"
             ],
             [
              0.4444444444444444,
              "#bd3786"
             ],
             [
              0.5555555555555556,
              "#d8576b"
             ],
             [
              0.6666666666666666,
              "#ed7953"
             ],
             [
              0.7777777777777778,
              "#fb9f3a"
             ],
             [
              0.8888888888888888,
              "#fdca26"
             ],
             [
              1,
              "#f0f921"
             ]
            ],
            "type": "surface"
           }
          ],
          "table": [
           {
            "cells": {
             "fill": {
              "color": "#EBF0F8"
             },
             "line": {
              "color": "white"
             }
            },
            "header": {
             "fill": {
              "color": "#C8D4E3"
             },
             "line": {
              "color": "white"
             }
            },
            "type": "table"
           }
          ]
         },
         "layout": {
          "annotationdefaults": {
           "arrowcolor": "#2a3f5f",
           "arrowhead": 0,
           "arrowwidth": 1
          },
          "autotypenumbers": "strict",
          "coloraxis": {
           "colorbar": {
            "outlinewidth": 0,
            "ticks": ""
           }
          },
          "colorscale": {
           "diverging": [
            [
             0,
             "#8e0152"
            ],
            [
             0.1,
             "#c51b7d"
            ],
            [
             0.2,
             "#de77ae"
            ],
            [
             0.3,
             "#f1b6da"
            ],
            [
             0.4,
             "#fde0ef"
            ],
            [
             0.5,
             "#f7f7f7"
            ],
            [
             0.6,
             "#e6f5d0"
            ],
            [
             0.7,
             "#b8e186"
            ],
            [
             0.8,
             "#7fbc41"
            ],
            [
             0.9,
             "#4d9221"
            ],
            [
             1,
             "#276419"
            ]
           ],
           "sequential": [
            [
             0,
             "#0d0887"
            ],
            [
             0.1111111111111111,
             "#46039f"
            ],
            [
             0.2222222222222222,
             "#7201a8"
            ],
            [
             0.3333333333333333,
             "#9c179e"
            ],
            [
             0.4444444444444444,
             "#bd3786"
            ],
            [
             0.5555555555555556,
             "#d8576b"
            ],
            [
             0.6666666666666666,
             "#ed7953"
            ],
            [
             0.7777777777777778,
             "#fb9f3a"
            ],
            [
             0.8888888888888888,
             "#fdca26"
            ],
            [
             1,
             "#f0f921"
            ]
           ],
           "sequentialminus": [
            [
             0,
             "#0d0887"
            ],
            [
             0.1111111111111111,
             "#46039f"
            ],
            [
             0.2222222222222222,
             "#7201a8"
            ],
            [
             0.3333333333333333,
             "#9c179e"
            ],
            [
             0.4444444444444444,
             "#bd3786"
            ],
            [
             0.5555555555555556,
             "#d8576b"
            ],
            [
             0.6666666666666666,
             "#ed7953"
            ],
            [
             0.7777777777777778,
             "#fb9f3a"
            ],
            [
             0.8888888888888888,
             "#fdca26"
            ],
            [
             1,
             "#f0f921"
            ]
           ]
          },
          "colorway": [
           "#636efa",
           "#EF553B",
           "#00cc96",
           "#ab63fa",
           "#FFA15A",
           "#19d3f3",
           "#FF6692",
           "#B6E880",
           "#FF97FF",
           "#FECB52"
          ],
          "font": {
           "color": "#2a3f5f"
          },
          "geo": {
           "bgcolor": "white",
           "lakecolor": "white",
           "landcolor": "#E5ECF6",
           "showlakes": true,
           "showland": true,
           "subunitcolor": "white"
          },
          "hoverlabel": {
           "align": "left"
          },
          "hovermode": "closest",
          "mapbox": {
           "style": "light"
          },
          "paper_bgcolor": "white",
          "plot_bgcolor": "#E5ECF6",
          "polar": {
           "angularaxis": {
            "gridcolor": "white",
            "linecolor": "white",
            "ticks": ""
           },
           "bgcolor": "#E5ECF6",
           "radialaxis": {
            "gridcolor": "white",
            "linecolor": "white",
            "ticks": ""
           }
          },
          "scene": {
           "xaxis": {
            "backgroundcolor": "#E5ECF6",
            "gridcolor": "white",
            "gridwidth": 2,
            "linecolor": "white",
            "showbackground": true,
            "ticks": "",
            "zerolinecolor": "white"
           },
           "yaxis": {
            "backgroundcolor": "#E5ECF6",
            "gridcolor": "white",
            "gridwidth": 2,
            "linecolor": "white",
            "showbackground": true,
            "ticks": "",
            "zerolinecolor": "white"
           },
           "zaxis": {
            "backgroundcolor": "#E5ECF6",
            "gridcolor": "white",
            "gridwidth": 2,
            "linecolor": "white",
            "showbackground": true,
            "ticks": "",
            "zerolinecolor": "white"
           }
          },
          "shapedefaults": {
           "line": {
            "color": "#2a3f5f"
           }
          },
          "ternary": {
           "aaxis": {
            "gridcolor": "white",
            "linecolor": "white",
            "ticks": ""
           },
           "baxis": {
            "gridcolor": "white",
            "linecolor": "white",
            "ticks": ""
           },
           "bgcolor": "#E5ECF6",
           "caxis": {
            "gridcolor": "white",
            "linecolor": "white",
            "ticks": ""
           }
          },
          "title": {
           "x": 0.05
          },
          "xaxis": {
           "automargin": true,
           "gridcolor": "white",
           "linecolor": "white",
           "ticks": "",
           "title": {
            "standoff": 15
           },
           "zerolinecolor": "white",
           "zerolinewidth": 2
          },
          "yaxis": {
           "automargin": true,
           "gridcolor": "white",
           "linecolor": "white",
           "ticks": "",
           "title": {
            "standoff": 15
           },
           "zerolinecolor": "white",
           "zerolinewidth": 2
          }
         }
        },
        "title": {
         "text": "Топ-10 сфер деятельности по количеству работодателей"
        },
        "width": 1000,
        "xaxis": {
         "anchor": "y",
         "domain": [
          0,
          1
         ],
         "title": {
          "text": "Сфера деятельности"
         }
        },
        "yaxis": {
         "anchor": "x",
         "domain": [
          0,
          1
         ],
         "title": {
          "text": "Количество работодателей"
         }
        }
       }
      }
     },
     "metadata": {},
     "output_type": "display_data"
    }
   ],
   "source": [
    "# выборка сфер деятельности и их частоты\n",
    "query_tmp= f'''\n",
    "select\n",
    "-- выводим название работодателя и количество сфер деятельности\n",
    "    i.name \"Сфера деятельности\",\n",
    "    count(*) \"Количество работодателей\"\n",
    "from\n",
    "--основная таблица - employers_industries, соединяем с industries по равенству id отрасли\n",
    "    public.employers_industries ie\n",
    "    join public.industries i on ie.industry_id = i.id\n",
    "group by\n",
    "-- для подсчета количества сфер деятельности группируем записи по id и названию работодателя\n",
    "    i.id,\n",
    "    i.name\n",
    "order by\n",
    "-- отсортируем вывод по названию частоте указания отрасли, оставим топ-10\n",
    "    count(*) desc\n",
    "limit\n",
    "    10\n",
    "'''\n",
    "result_tmp = pd.read_sql_query(query_tmp, connection)\n",
    "\n",
    "# визуализируем результат\n",
    "fig = px.bar(\n",
    "    data_frame=result_tmp,\n",
    "    x='Сфера деятельности',\n",
    "    y='Количество работодателей',\n",
    "    color='Количество работодателей',\n",
    "    text = 'Количество работодателей',\n",
    "    orientation='v',\n",
    "    height=500, \n",
    "    width=1000,\n",
    "    title='Топ-10 сфер деятельности по количеству работодателей',\n",
    "    labels = dict(x = 'Сфера деятельности', y='Количество работодателей')\n",
    ")\n",
    "fig.show()\n",
    "fig.write_html('graphs/Визуализация_6.html');"
   ]
  },
  {
   "cell_type": "markdown",
   "id": "c1f4db82",
   "metadata": {},
   "source": [
    "*Ожидаемый результат в том, что на первых позициях сферы деятельности, явно указывающие на ИТ - разработка программного обеспечения, системная интеграция и автоматизация, интернет-компании. Интересно также, что топ-10 включает в себя сферы деятельности, косвенно связанные с ИТ - дизайн, интернет-коммерцию,консалтинговые услуги. Есть даже розничная торговля.\n",
    "Этот перечень, можно сказать, демонстрирует те отрасли, которые перспективны с точки зрения поиска занятости в ИТ или смежных профессиях.*"
   ]
  },
  {
   "cell_type": "markdown",
   "id": "b1ef156a-efcb-49ce-bb23-90763e7f35b2",
   "metadata": {
    "id": "b1ef156a-efcb-49ce-bb23-90763e7f35b2",
    "tags": []
   },
   "source": [
    "# Юнит 6. Предметный анализ"
   ]
  },
  {
   "cell_type": "markdown",
   "id": "b9cd50a0-992d-4988-8463-2b2b1c4629b4",
   "metadata": {
    "id": "b9cd50a0-992d-4988-8463-2b2b1c4629b4"
   },
   "source": [
    "1. Сколько вакансий имеет отношение к данным?\n",
    "\n",
    "Считаем, что вакансия имеет отношение к данным, если в её названии содержатся слова 'data' или 'данн'.\n",
    "\n",
    "*Подсказка: Обратите внимание, что названия вакансий могут быть написаны в любом регистре.* \n"
   ]
  },
  {
   "cell_type": "code",
   "execution_count": 45,
   "id": "54ab0e50-c0f1-47cc-a54b-bc5c8bc363f9",
   "metadata": {
    "id": "54ab0e50-c0f1-47cc-a54b-bc5c8bc363f9"
   },
   "outputs": [
    {
     "name": "stderr",
     "output_type": "stream",
     "text": [
      "C:\\Users\\user\\AppData\\Local\\Temp\\ipykernel_7340\\2532977717.py:13: UserWarning:\n",
      "\n",
      "pandas only supports SQLAlchemy connectable (engine/connection) or database string URI or sqlite3 DBAPI2 connection. Other DBAPI2 objects are not tested. Please consider using SQLAlchemy.\n",
      "\n"
     ]
    }
   ],
   "source": [
    "# текст запроса\n",
    "query_6_1 = f'''\n",
    "select\n",
    "    -- выводим количество записей\n",
    "    count(*) cnt\n",
    "from\n",
    "    public.vacancies v\n",
    "where\n",
    "-- для исключения влияния регистра, приводим значения полей к нижнему регистру\n",
    "    lower(v.name) like '%data%'\n",
    "    or lower(v.name) like '%данн%'\n",
    "'''\n",
    "result_6_1 = pd.read_sql_query(query_6_1, connection)"
   ]
  },
  {
   "cell_type": "code",
   "execution_count": 46,
   "id": "9F1meAqsuUjd",
   "metadata": {
    "id": "9F1meAqsuUjd"
   },
   "outputs": [
    {
     "data": {
      "text/html": [
       "<div>\n",
       "<style scoped>\n",
       "    .dataframe tbody tr th:only-of-type {\n",
       "        vertical-align: middle;\n",
       "    }\n",
       "\n",
       "    .dataframe tbody tr th {\n",
       "        vertical-align: top;\n",
       "    }\n",
       "\n",
       "    .dataframe thead th {\n",
       "        text-align: right;\n",
       "    }\n",
       "</style>\n",
       "<table border=\"1\" class=\"dataframe\">\n",
       "  <thead>\n",
       "    <tr style=\"text-align: right;\">\n",
       "      <th></th>\n",
       "      <th>cnt</th>\n",
       "    </tr>\n",
       "  </thead>\n",
       "  <tbody>\n",
       "    <tr>\n",
       "      <th>0</th>\n",
       "      <td>1771</td>\n",
       "    </tr>\n",
       "  </tbody>\n",
       "</table>\n",
       "</div>"
      ],
      "text/plain": [
       "    cnt\n",
       "0  1771"
      ]
     },
     "execution_count": 46,
     "metadata": {},
     "output_type": "execute_result"
    }
   ],
   "source": [
    "# результат запроса\n",
    "result_6_1"
   ]
  },
  {
   "cell_type": "markdown",
   "id": "4dea20cb-a36b-474a-a0b9-e08e8e3857a5",
   "metadata": {
    "id": "4dea20cb-a36b-474a-a0b9-e08e8e3857a5"
   },
   "source": [
    "2. Сколько есть подходящих вакансий для начинающего дата-сайентиста? \n",
    "Будем считать вакансиями для дата-сайентистов такие, в названии которых есть хотя бы одно из следующих сочетаний:\n",
    "* 'data scientist'\n",
    "* 'data science'\n",
    "* 'исследователь данных'\n",
    "* 'ML' (здесь не нужно брать вакансии по HTML)\n",
    "* 'machine learning'\n",
    "* 'машинн%обучен%'\n",
    "\n",
    "** В следующих заданиях мы продолжим работать с вакансиями по этому условию.*\n",
    "\n",
    "Считаем вакансиями для специалистов уровня Junior следующие:\n",
    "* в названии есть слово 'junior' *или*\n",
    "* требуемый опыт — Нет опыта *или*\n",
    "* тип трудоустройства — Стажировка.\n",
    " "
   ]
  },
  {
   "cell_type": "code",
   "execution_count": 47,
   "id": "9c61b3c0-bb66-46c9-ae1e-81d3f5752b4a",
   "metadata": {
    "id": "9c61b3c0-bb66-46c9-ae1e-81d3f5752b4a"
   },
   "outputs": [
    {
     "name": "stderr",
     "output_type": "stream",
     "text": [
      "C:\\Users\\user\\AppData\\Local\\Temp\\ipykernel_7340\\1824005147.py:29: UserWarning:\n",
      "\n",
      "pandas only supports SQLAlchemy connectable (engine/connection) or database string URI or sqlite3 DBAPI2 connection. Other DBAPI2 objects are not tested. Please consider using SQLAlchemy.\n",
      "\n"
     ]
    }
   ],
   "source": [
    "# текст запроса\n",
    "query_6_2 = f'''\n",
    "select\n",
    "    -- выводим количество записей\n",
    "    count(*)\n",
    "from\n",
    "    public.vacancies v\n",
    "where\n",
    "    (\n",
    "        -- для исключения влияния регистра переводим значения полей в нижний регистр.\n",
    "        -- это блок условий, включающих записи в выборку DS по названию вакансии\n",
    "        lower(v.name) like '%data scientist%'\n",
    "        or lower(v.name) like '%data science%'\n",
    "        or lower(v.name) like '%исследователь данных%'\n",
    "        or v.name like '%ML%'\n",
    "        or lower(v.name) like '%machine learning%'\n",
    "        or lower(v.name) like '%машинн%обучен%'\n",
    "    )\n",
    "    and (\n",
    "        -- блок условий, включающих записи в выборку по похожести на вакансию junior-специалиста\n",
    "        lower(v.name) like '%junior%'\n",
    "        or lower(v.experience) = 'нет опыта'\n",
    "        or lower(v.employment) = 'Стажировка'\n",
    "    ) \n",
    "    -- исключим вакансии, связанные с HTML\n",
    "    and lower(v.name) not like '%html%'\n",
    "    \n",
    "'''\n",
    "result_6_2 = pd.read_sql_query(query_6_2, connection)"
   ]
  },
  {
   "cell_type": "code",
   "execution_count": 48,
   "id": "ZNM-LLYuu1dj",
   "metadata": {
    "id": "ZNM-LLYuu1dj"
   },
   "outputs": [
    {
     "data": {
      "text/html": [
       "<div>\n",
       "<style scoped>\n",
       "    .dataframe tbody tr th:only-of-type {\n",
       "        vertical-align: middle;\n",
       "    }\n",
       "\n",
       "    .dataframe tbody tr th {\n",
       "        vertical-align: top;\n",
       "    }\n",
       "\n",
       "    .dataframe thead th {\n",
       "        text-align: right;\n",
       "    }\n",
       "</style>\n",
       "<table border=\"1\" class=\"dataframe\">\n",
       "  <thead>\n",
       "    <tr style=\"text-align: right;\">\n",
       "      <th></th>\n",
       "      <th>count</th>\n",
       "    </tr>\n",
       "  </thead>\n",
       "  <tbody>\n",
       "    <tr>\n",
       "      <th>0</th>\n",
       "      <td>51</td>\n",
       "    </tr>\n",
       "  </tbody>\n",
       "</table>\n",
       "</div>"
      ],
      "text/plain": [
       "   count\n",
       "0     51"
      ]
     },
     "execution_count": 48,
     "metadata": {},
     "output_type": "execute_result"
    }
   ],
   "source": [
    "# результат запроса\n",
    "result_6_2"
   ]
  },
  {
   "cell_type": "markdown",
   "id": "eedceb80-c5ca-480e-b27a-278dfb8b4438",
   "metadata": {
    "id": "eedceb80-c5ca-480e-b27a-278dfb8b4438"
   },
   "source": [
    "3. Сколько есть вакансий для DS, в которых в качестве ключевого навыка указан SQL или postgres?\n",
    "\n",
    "** Критерии для отнесения вакансии к DS указаны в предыдущем задании.*"
   ]
  },
  {
   "cell_type": "code",
   "execution_count": 49,
   "id": "69621713-0cc5-4f1b-a1d7-bb144fa6148c",
   "metadata": {
    "id": "69621713-0cc5-4f1b-a1d7-bb144fa6148c"
   },
   "outputs": [
    {
     "name": "stderr",
     "output_type": "stream",
     "text": [
      "C:\\Users\\user\\AppData\\Local\\Temp\\ipykernel_7340\\2541940553.py:28: UserWarning:\n",
      "\n",
      "pandas only supports SQLAlchemy connectable (engine/connection) or database string URI or sqlite3 DBAPI2 connection. Other DBAPI2 objects are not tested. Please consider using SQLAlchemy.\n",
      "\n"
     ]
    }
   ],
   "source": [
    "# текст запроса\n",
    "query_6_3 = f'''\n",
    "select\n",
    "    -- выводим количество записей\n",
    "    count(*)\n",
    "from\n",
    "    public.vacancies v\n",
    "where\n",
    "    (\n",
    "        -- для исключения влияния регистра переводим значения полей в нижний регистр.\n",
    "        -- это блок условий, включающих записи в выборку DS по названию вакансии\n",
    "        lower(v.name) like '%data scientist%'\n",
    "        or lower(v.name) like '%data science%'\n",
    "        or lower(v.name) like '%исследователь данных%'\n",
    "        or v.name like '%ML%'\n",
    "        or lower(v.name) like '%machine learning%'\n",
    "        or lower(v.name) like '%машинн%обучен%'\n",
    "    )\n",
    "    -- исключим вакансии, связанные с HTML\n",
    "    and lower(v.name) not like '%html%'\n",
    "    -- и уточним, что в требуемых навыках должны быть sql или postgresql\n",
    "    and (\n",
    "        lower(v.key_skills) like '%sql%'\n",
    "        or lower(v.key_skills) like '%postgres%'\n",
    "    )\n",
    "    \n",
    "'''\n",
    "result_6_3 = pd.read_sql_query(query_6_3, connection)"
   ]
  },
  {
   "cell_type": "code",
   "execution_count": 50,
   "id": "alA8WEAAvGdf",
   "metadata": {
    "id": "alA8WEAAvGdf"
   },
   "outputs": [
    {
     "data": {
      "text/html": [
       "<div>\n",
       "<style scoped>\n",
       "    .dataframe tbody tr th:only-of-type {\n",
       "        vertical-align: middle;\n",
       "    }\n",
       "\n",
       "    .dataframe tbody tr th {\n",
       "        vertical-align: top;\n",
       "    }\n",
       "\n",
       "    .dataframe thead th {\n",
       "        text-align: right;\n",
       "    }\n",
       "</style>\n",
       "<table border=\"1\" class=\"dataframe\">\n",
       "  <thead>\n",
       "    <tr style=\"text-align: right;\">\n",
       "      <th></th>\n",
       "      <th>count</th>\n",
       "    </tr>\n",
       "  </thead>\n",
       "  <tbody>\n",
       "    <tr>\n",
       "      <th>0</th>\n",
       "      <td>201</td>\n",
       "    </tr>\n",
       "  </tbody>\n",
       "</table>\n",
       "</div>"
      ],
      "text/plain": [
       "   count\n",
       "0    201"
      ]
     },
     "execution_count": 50,
     "metadata": {},
     "output_type": "execute_result"
    }
   ],
   "source": [
    "# результат запроса\n",
    "result_6_3"
   ]
  },
  {
   "cell_type": "markdown",
   "id": "1be1e9c6-37cf-4a5f-bfeb-04cab799dc80",
   "metadata": {
    "id": "1be1e9c6-37cf-4a5f-bfeb-04cab799dc80"
   },
   "source": [
    "4. Проверьте, насколько популярен Python в требованиях работодателей к DS.Для этого вычислите количество вакансий, в которых в качестве ключевого навыка указан Python.\n",
    "\n",
    "** Это можно сделать помощью запроса, аналогичного предыдущему.*"
   ]
  },
  {
   "cell_type": "code",
   "execution_count": 51,
   "id": "0036a355-9ccf-4564-8b01-73d8194297e7",
   "metadata": {
    "id": "0036a355-9ccf-4564-8b01-73d8194297e7"
   },
   "outputs": [
    {
     "name": "stderr",
     "output_type": "stream",
     "text": [
      "C:\\Users\\user\\AppData\\Local\\Temp\\ipykernel_7340\\2417699715.py:24: UserWarning:\n",
      "\n",
      "pandas only supports SQLAlchemy connectable (engine/connection) or database string URI or sqlite3 DBAPI2 connection. Other DBAPI2 objects are not tested. Please consider using SQLAlchemy.\n",
      "\n"
     ]
    }
   ],
   "source": [
    "# текст запроса\n",
    "query_6_4 = f'''\n",
    "select\n",
    "    -- выводим количество записей\n",
    "    count(*)\n",
    "from\n",
    "    public.vacancies v\n",
    "where\n",
    "    (\n",
    "        -- для исключения влияния регистра переводим значения полей в нижний регистр.\n",
    "        -- это блок условий, включающих записи в выборку DS по названию вакансии\n",
    "        lower(v.name) like '%data scientist%'\n",
    "        or lower(v.name) like '%data science%'\n",
    "        or lower(v.name) like '%исследователь данных%'\n",
    "        or v.name like '%ML%'\n",
    "        or lower(v.name) like '%machine learning%'\n",
    "        or lower(v.name) like '%машинн%обучен%'\n",
    "    )\n",
    "    -- исключим вакансии, связанные с HTML\n",
    "    and lower(v.name) not like '%html%'\n",
    "    -- и уточним, что в требуемых навыках должен быть python\n",
    "    and lower(v.key_skills) like '%python%'\n",
    "'''\n",
    "result_6_4 = pd.read_sql_query(query_6_4, connection)"
   ]
  },
  {
   "cell_type": "code",
   "execution_count": 52,
   "id": "1i-5WyucvQ6v",
   "metadata": {
    "id": "1i-5WyucvQ6v"
   },
   "outputs": [
    {
     "data": {
      "text/html": [
       "<div>\n",
       "<style scoped>\n",
       "    .dataframe tbody tr th:only-of-type {\n",
       "        vertical-align: middle;\n",
       "    }\n",
       "\n",
       "    .dataframe tbody tr th {\n",
       "        vertical-align: top;\n",
       "    }\n",
       "\n",
       "    .dataframe thead th {\n",
       "        text-align: right;\n",
       "    }\n",
       "</style>\n",
       "<table border=\"1\" class=\"dataframe\">\n",
       "  <thead>\n",
       "    <tr style=\"text-align: right;\">\n",
       "      <th></th>\n",
       "      <th>count</th>\n",
       "    </tr>\n",
       "  </thead>\n",
       "  <tbody>\n",
       "    <tr>\n",
       "      <th>0</th>\n",
       "      <td>351</td>\n",
       "    </tr>\n",
       "  </tbody>\n",
       "</table>\n",
       "</div>"
      ],
      "text/plain": [
       "   count\n",
       "0    351"
      ]
     },
     "execution_count": 52,
     "metadata": {},
     "output_type": "execute_result"
    }
   ],
   "source": [
    "# результат запроса\n",
    "result_6_4"
   ]
  },
  {
   "cell_type": "markdown",
   "id": "ec3c8db7-fa21-4a41-a994-1af63742a642",
   "metadata": {
    "id": "ec3c8db7-fa21-4a41-a994-1af63742a642"
   },
   "source": [
    "5. Сколько ключевых навыков в среднем указывают в вакансиях для DS?\n",
    "Ответ округлите до двух знаков после точки-разделителя."
   ]
  },
  {
   "cell_type": "code",
   "execution_count": 53,
   "id": "949132bc-d5b6-4611-8218-0b9a504d74f4",
   "metadata": {
    "id": "949132bc-d5b6-4611-8218-0b9a504d74f4"
   },
   "outputs": [
    {
     "name": "stderr",
     "output_type": "stream",
     "text": [
      "C:\\Users\\user\\AppData\\Local\\Temp\\ipykernel_7340\\4191017080.py:37: UserWarning:\n",
      "\n",
      "pandas only supports SQLAlchemy connectable (engine/connection) or database string URI or sqlite3 DBAPI2 connection. Other DBAPI2 objects are not tested. Please consider using SQLAlchemy.\n",
      "\n"
     ]
    }
   ],
   "source": [
    "# текст запроса\n",
    "query_6_5 = f'''\n",
    "with\n",
    "    x as (\n",
    "        select\n",
    "            (\n",
    "                -- рассчитаем количество навыков как разницк между длинной поля начальной\n",
    "                -- и длинной поля после удаления из него знаков переноса строки CHR(9),\n",
    "                -- которыми отделяются навыки друг от друга; при этом к разнице добавим 1,\n",
    "                -- т.к.количество разделителей на 1 больше количества разделяемых элементов\n",
    "                length(v.key_skills) - length(replace(v.key_skills, CHR(9), '')) + 1\n",
    "            ) skills_count\n",
    "        from\n",
    "            public.vacancies v\n",
    "        where\n",
    "            -- расчет только по тем записям, где скилы указаны\n",
    "            v.key_skills is not null\n",
    "            and (\n",
    "                -- для исключения влияния регистра переводим значения полей в нижний регистр.\n",
    "                -- это блок условий, включающих записи в выборку DS по названию вакансии\n",
    "                lower(v.name) like '%data scientist%'\n",
    "                or lower(v.name) like '%data science%'\n",
    "                or lower(v.name) like '%исследователь данных%'\n",
    "                or v.name like '%ML%'\n",
    "                or lower(v.name) like '%machine learning%'\n",
    "                or lower(v.name) like '%машинн%обучен%'\n",
    "            )\n",
    "            -- исключим вакансии, связанные с HTML\n",
    "            and lower(v.name) not like '%html%'\n",
    "    )\n",
    "select\n",
    "    -- рассчитаем по временной выборке среднее количество скилов с округлением до сотых\n",
    "    round(avg(x.skills_count), 2) avg_skills\n",
    "from\n",
    "    x\n",
    "'''\n",
    "result_6_5 = pd.read_sql_query(query_6_5, connection)"
   ]
  },
  {
   "cell_type": "code",
   "execution_count": 54,
   "id": "a3V24Tvmviqk",
   "metadata": {
    "id": "a3V24Tvmviqk"
   },
   "outputs": [
    {
     "data": {
      "text/html": [
       "<div>\n",
       "<style scoped>\n",
       "    .dataframe tbody tr th:only-of-type {\n",
       "        vertical-align: middle;\n",
       "    }\n",
       "\n",
       "    .dataframe tbody tr th {\n",
       "        vertical-align: top;\n",
       "    }\n",
       "\n",
       "    .dataframe thead th {\n",
       "        text-align: right;\n",
       "    }\n",
       "</style>\n",
       "<table border=\"1\" class=\"dataframe\">\n",
       "  <thead>\n",
       "    <tr style=\"text-align: right;\">\n",
       "      <th></th>\n",
       "      <th>avg_skills</th>\n",
       "    </tr>\n",
       "  </thead>\n",
       "  <tbody>\n",
       "    <tr>\n",
       "      <th>0</th>\n",
       "      <td>6.41</td>\n",
       "    </tr>\n",
       "  </tbody>\n",
       "</table>\n",
       "</div>"
      ],
      "text/plain": [
       "   avg_skills\n",
       "0        6.41"
      ]
     },
     "execution_count": 54,
     "metadata": {},
     "output_type": "execute_result"
    }
   ],
   "source": [
    "# результат запроса\n",
    "result_6_5"
   ]
  },
  {
   "cell_type": "markdown",
   "id": "1041c17a-ca8f-4543-a0ca-32778914fb00",
   "metadata": {
    "id": "1041c17a-ca8f-4543-a0ca-32778914fb00"
   },
   "source": [
    "6. Напишите запрос, позволяющий вычислить, какую зарплату для DS в **среднем** указывают для каждого типа требуемого опыта (уникальное значение из поля *experience*). \n",
    "\n",
    "При решении задачи примите во внимание следующее:\n",
    "1. Рассматриваем только вакансии, у которых заполнено хотя бы одно из двух полей с зарплатой.\n",
    "2. Если заполнены оба поля с зарплатой, то считаем зарплату по каждой вакансии как сумму двух полей, делённую на 2. Если заполнено только одно из полей, то его и считаем зарплатой по вакансии.\n",
    "3. Если в расчётах участвует null, в результате он тоже даст null (посмотрите, что возвращает запрос select 1 + null). Чтобы избежать этой ситуацию, мы воспользуемся функцией [coalesce](https://postgrespro.ru/docs/postgresql/9.5/functions-conditional#functions-coalesce-nvl-ifnull), которая заменит null на значение, которое мы передадим. Например, посмотрите, что возвращает запрос `select 1 + coalesce(null, 0)`\n",
    "\n",
    "Выясните, на какую зарплату в среднем может рассчитывать дата-сайентист с опытом работы от 3 до 6 лет. Результат округлите до целого числа. "
   ]
  },
  {
   "cell_type": "code",
   "execution_count": 55,
   "id": "6a743d39-5204-48d3-8271-b9f88e68d40e",
   "metadata": {
    "id": "6a743d39-5204-48d3-8271-b9f88e68d40e"
   },
   "outputs": [
    {
     "name": "stderr",
     "output_type": "stream",
     "text": [
      "C:\\Users\\user\\AppData\\Local\\Temp\\ipykernel_7340\\151178001.py:47: UserWarning:\n",
      "\n",
      "pandas only supports SQLAlchemy connectable (engine/connection) or database string URI or sqlite3 DBAPI2 connection. Other DBAPI2 objects are not tested. Please consider using SQLAlchemy.\n",
      "\n"
     ]
    }
   ],
   "source": [
    "# текст запроса\n",
    "query_6_6 = f'''\n",
    "with\n",
    "    x as (\n",
    "        select\n",
    "            -- выведем требуемый опыт вакансии\n",
    "            v.experience,\n",
    "            (\n",
    "                -- рассчитаем среднюю ЗП вакансии как сумму ОТ+ДО, деленную на 2,\n",
    "                -- при этом если не указано ОТ или ДО,\n",
    "                -- то средняя ЗП вакансии равна оставшемуся значению\n",
    "                coalesce(v.salary_from, v.salary_to) + coalesce(v.salary_to, v.salary_from)\n",
    "            ) / 2 salary_avg\n",
    "        from\n",
    "            public.vacancies v\n",
    "        where\n",
    "            (\n",
    "                -- для расчетов используем только записи, где заполнено хотя бы одно из полей\n",
    "                -- с желаемой ЗП ОТ или ДО \n",
    "                v.salary_to is not null\n",
    "                or v.salary_from is not null\n",
    "            )\n",
    "            and (\n",
    "                -- для исключения влияния регистра переводим значения полей в нижний регистр.\n",
    "                -- это блок условий, включающих записи в выборку DS по названию вакансии\n",
    "                lower(v.name) like '%data scientist%'\n",
    "                or lower(v.name) like '%data science%'\n",
    "                or lower(v.name) like '%исследователь данных%'\n",
    "                or v.name like '%ML%'\n",
    "                or lower(v.name) like '%machine learning%'\n",
    "                or lower(v.name) like '%машинн%обучен%'\n",
    "            )\n",
    "            -- исключим вакансии, связанные с HTML\n",
    "            and lower(v.name) not like '%html%'\n",
    "    )\n",
    "select\n",
    "    -- рассчитаем по временной выборке среднюю ЗП с округлением до целых, и требуемый опыт\n",
    "    round(avg(x.salary_avg)) average_salary,\n",
    "    x.experience\n",
    "FROM\n",
    "    x\n",
    "group by\n",
    "    -- для расчета среднего данные будем группировать по требуемому опыту\n",
    "    x.experience\n",
    "\n",
    "'''\n",
    "result_6_6 = pd.read_sql_query(query_6_6, connection)"
   ]
  },
  {
   "cell_type": "code",
   "execution_count": 56,
   "id": "aRIJ0mZEwU1_",
   "metadata": {
    "id": "aRIJ0mZEwU1_"
   },
   "outputs": [
    {
     "data": {
      "text/html": [
       "<div>\n",
       "<style scoped>\n",
       "    .dataframe tbody tr th:only-of-type {\n",
       "        vertical-align: middle;\n",
       "    }\n",
       "\n",
       "    .dataframe tbody tr th {\n",
       "        vertical-align: top;\n",
       "    }\n",
       "\n",
       "    .dataframe thead th {\n",
       "        text-align: right;\n",
       "    }\n",
       "</style>\n",
       "<table border=\"1\" class=\"dataframe\">\n",
       "  <thead>\n",
       "    <tr style=\"text-align: right;\">\n",
       "      <th></th>\n",
       "      <th>average_salary</th>\n",
       "      <th>experience</th>\n",
       "    </tr>\n",
       "  </thead>\n",
       "  <tbody>\n",
       "    <tr>\n",
       "      <th>0</th>\n",
       "      <td>243115.0</td>\n",
       "      <td>От 3 до 6 лет</td>\n",
       "    </tr>\n",
       "    <tr>\n",
       "      <th>1</th>\n",
       "      <td>139675.0</td>\n",
       "      <td>От 1 года до 3 лет</td>\n",
       "    </tr>\n",
       "    <tr>\n",
       "      <th>2</th>\n",
       "      <td>74643.0</td>\n",
       "      <td>Нет опыта</td>\n",
       "    </tr>\n",
       "  </tbody>\n",
       "</table>\n",
       "</div>"
      ],
      "text/plain": [
       "   average_salary          experience\n",
       "0        243115.0       От 3 до 6 лет\n",
       "1        139675.0  От 1 года до 3 лет\n",
       "2         74643.0           Нет опыта"
      ]
     },
     "execution_count": 56,
     "metadata": {},
     "output_type": "execute_result"
    }
   ],
   "source": [
    "# результат запроса\n",
    "result_6_6"
   ]
  },
  {
   "cell_type": "markdown",
   "id": "6a7892b4-4113-4746-adce-18aa2844f18e",
   "metadata": {
    "id": "6a7892b4-4113-4746-adce-18aa2844f18e"
   },
   "source": [
    "***"
   ]
  },
  {
   "cell_type": "markdown",
   "id": "9067eb53",
   "metadata": {
    "id": "UjLWUptVwY1o"
   },
   "source": [
    "# Выводы по предметному анализу"
   ]
  },
  {
   "cell_type": "markdown",
   "id": "5f9a16e1",
   "metadata": {},
   "source": [
    "*Посмотрим на рынок вакансий, связанных с данными.\n",
    "Всего таких вакансий 1771. Много это или мало, отдельно по анализу вакансий трудно заключить, нужно соспоставлять с анализом базы резюме - сколько соискателей ищут работу в этом направлении.\n",
    "При этом, для начинающего дата-сайентиста всего 51 вакансия, что очень мало. Расширить обрасть поиска работы для начинающего специалиста можно было за счет включения в поиск вакансий, в которых требуется знание применяемых в дата-сайенс инструментов - SQL/Postgres и Python, что уже увеличивает число потенциальных вакансий с 51 до 552 (количество вакансий, в которых требуется знание SQL/Python/Postgres). Это же число - 552 - показывает нам, что почти в 1/3 вакансий DS явным образом указано знание указанных языков. Это еще раз показывает распространенность их применения в DS и актуальность изучения начинающими дата-сайентистами.\n",
    "При этом обращает на себя внимание динамика роста зарплаты в зависимости от опыта сайентиста. Так, для если для новичка она в среднем составляет 74,6 тыс. руб., то спустя 1-3 года работы - уже 139,7 тыс. руб., а после 3 лет работы в среднем уже 243,1 тыс. руб. Вероятно, такая динамика объясняется ростом сложности предстоящих задач, требующих применение большего количества инструментов анализа.\n",
    "В дополнение к этому рассмотрим, какие работодатели предлагают самые высокие зарплаты.*"
   ]
  },
  {
   "cell_type": "code",
   "execution_count": 57,
   "id": "9ff97bab",
   "metadata": {},
   "outputs": [
    {
     "name": "stderr",
     "output_type": "stream",
     "text": [
      "C:\\Users\\user\\AppData\\Local\\Temp\\ipykernel_7340\\2176512262.py:51: UserWarning:\n",
      "\n",
      "pandas only supports SQLAlchemy connectable (engine/connection) or database string URI or sqlite3 DBAPI2 connection. Other DBAPI2 objects are not tested. Please consider using SQLAlchemy.\n",
      "\n"
     ]
    },
    {
     "data": {
      "application/vnd.plotly.v1+json": {
       "config": {
        "plotlyServerURL": "https://plot.ly"
       },
       "data": [
        {
         "alignmentgroup": "True",
         "hovertemplate": "Работодатель=%{x}<br>Средняя ЗП=%{text}<extra></extra>",
         "legendgroup": "Итон",
         "marker": {
          "color": "#636efa",
          "pattern": {
           "shape": ""
          }
         },
         "name": "Итон",
         "offsetgroup": "Итон",
         "orientation": "v",
         "showlegend": true,
         "text": [
          450000
         ],
         "textposition": "auto",
         "type": "bar",
         "x": [
          "Итон"
         ],
         "xaxis": "x",
         "y": [
          450000
         ],
         "yaxis": "y"
        },
        {
         "alignmentgroup": "True",
         "hovertemplate": "Работодатель=%{x}<br>Средняя ЗП=%{text}<extra></extra>",
         "legendgroup": "AppQuantum",
         "marker": {
          "color": "#EF553B",
          "pattern": {
           "shape": ""
          }
         },
         "name": "AppQuantum",
         "offsetgroup": "AppQuantum",
         "orientation": "v",
         "showlegend": true,
         "text": [
          350000
         ],
         "textposition": "auto",
         "type": "bar",
         "x": [
          "AppQuantum"
         ],
         "xaxis": "x",
         "y": [
          350000
         ],
         "yaxis": "y"
        },
        {
         "alignmentgroup": "True",
         "hovertemplate": "Работодатель=%{x}<br>Средняя ЗП=%{text}<extra></extra>",
         "legendgroup": "Дром",
         "marker": {
          "color": "#00cc96",
          "pattern": {
           "shape": ""
          }
         },
         "name": "Дром",
         "offsetgroup": "Дром",
         "orientation": "v",
         "showlegend": true,
         "text": [
          300000
         ],
         "textposition": "auto",
         "type": "bar",
         "x": [
          "Дром"
         ],
         "xaxis": "x",
         "y": [
          300000
         ],
         "yaxis": "y"
        },
        {
         "alignmentgroup": "True",
         "hovertemplate": "Работодатель=%{x}<br>Средняя ЗП=%{text}<extra></extra>",
         "legendgroup": "Semrush",
         "marker": {
          "color": "#ab63fa",
          "pattern": {
           "shape": ""
          }
         },
         "name": "Semrush",
         "offsetgroup": "Semrush",
         "orientation": "v",
         "showlegend": true,
         "text": [
          300000
         ],
         "textposition": "auto",
         "type": "bar",
         "x": [
          "Semrush"
         ],
         "xaxis": "x",
         "y": [
          300000
         ],
         "yaxis": "y"
        },
        {
         "alignmentgroup": "True",
         "hovertemplate": "Работодатель=%{x}<br>Средняя ЗП=%{text}<extra></extra>",
         "legendgroup": "JSA Group",
         "marker": {
          "color": "#FFA15A",
          "pattern": {
           "shape": ""
          }
         },
         "name": "JSA Group",
         "offsetgroup": "JSA Group",
         "orientation": "v",
         "showlegend": true,
         "text": [
          300000
         ],
         "textposition": "auto",
         "type": "bar",
         "x": [
          "JSA Group"
         ],
         "xaxis": "x",
         "y": [
          300000
         ],
         "yaxis": "y"
        },
        {
         "alignmentgroup": "True",
         "hovertemplate": "Работодатель=%{x}<br>Средняя ЗП=%{text}<extra></extra>",
         "legendgroup": "OVISION",
         "marker": {
          "color": "#19d3f3",
          "pattern": {
           "shape": ""
          }
         },
         "name": "OVISION",
         "offsetgroup": "OVISION",
         "orientation": "v",
         "showlegend": true,
         "text": [
          300000
         ],
         "textposition": "auto",
         "type": "bar",
         "x": [
          "OVISION"
         ],
         "xaxis": "x",
         "y": [
          300000
         ],
         "yaxis": "y"
        },
        {
         "alignmentgroup": "True",
         "hovertemplate": "Работодатель=%{x}<br>Средняя ЗП=%{text}<extra></extra>",
         "legendgroup": "СберЛизинг",
         "marker": {
          "color": "#FF6692",
          "pattern": {
           "shape": ""
          }
         },
         "name": "СберЛизинг",
         "offsetgroup": "СберЛизинг",
         "orientation": "v",
         "showlegend": true,
         "text": [
          300000
         ],
         "textposition": "auto",
         "type": "bar",
         "x": [
          "СберЛизинг"
         ],
         "xaxis": "x",
         "y": [
          300000
         ],
         "yaxis": "y"
        },
        {
         "alignmentgroup": "True",
         "hovertemplate": "Работодатель=%{x}<br>Средняя ЗП=%{text}<extra></extra>",
         "legendgroup": "КИБЕР-РОМ",
         "marker": {
          "color": "#B6E880",
          "pattern": {
           "shape": ""
          }
         },
         "name": "КИБЕР-РОМ",
         "offsetgroup": "КИБЕР-РОМ",
         "orientation": "v",
         "showlegend": true,
         "text": [
          275000
         ],
         "textposition": "auto",
         "type": "bar",
         "x": [
          "КИБЕР-РОМ"
         ],
         "xaxis": "x",
         "y": [
          275000
         ],
         "yaxis": "y"
        },
        {
         "alignmentgroup": "True",
         "hovertemplate": "Работодатель=%{x}<br>Средняя ЗП=%{text}<extra></extra>",
         "legendgroup": "Кловер Групп",
         "marker": {
          "color": "#FF97FF",
          "pattern": {
           "shape": ""
          }
         },
         "name": "Кловер Групп",
         "offsetgroup": "Кловер Групп",
         "orientation": "v",
         "showlegend": true,
         "text": [
          275000
         ],
         "textposition": "auto",
         "type": "bar",
         "x": [
          "Кловер Групп"
         ],
         "xaxis": "x",
         "y": [
          275000
         ],
         "yaxis": "y"
        },
        {
         "alignmentgroup": "True",
         "hovertemplate": "Работодатель=%{x}<br>Средняя ЗП=%{text}<extra></extra>",
         "legendgroup": "Dbrain",
         "marker": {
          "color": "#FECB52",
          "pattern": {
           "shape": ""
          }
         },
         "name": "Dbrain",
         "offsetgroup": "Dbrain",
         "orientation": "v",
         "showlegend": true,
         "text": [
          275000
         ],
         "textposition": "auto",
         "type": "bar",
         "x": [
          "Dbrain"
         ],
         "xaxis": "x",
         "y": [
          275000
         ],
         "yaxis": "y"
        }
       ],
       "layout": {
        "barmode": "relative",
        "height": 500,
        "legend": {
         "title": {
          "text": "Работодатель"
         },
         "tracegroupgap": 0
        },
        "template": {
         "data": {
          "bar": [
           {
            "error_x": {
             "color": "#2a3f5f"
            },
            "error_y": {
             "color": "#2a3f5f"
            },
            "marker": {
             "line": {
              "color": "#E5ECF6",
              "width": 0.5
             },
             "pattern": {
              "fillmode": "overlay",
              "size": 10,
              "solidity": 0.2
             }
            },
            "type": "bar"
           }
          ],
          "barpolar": [
           {
            "marker": {
             "line": {
              "color": "#E5ECF6",
              "width": 0.5
             },
             "pattern": {
              "fillmode": "overlay",
              "size": 10,
              "solidity": 0.2
             }
            },
            "type": "barpolar"
           }
          ],
          "carpet": [
           {
            "aaxis": {
             "endlinecolor": "#2a3f5f",
             "gridcolor": "white",
             "linecolor": "white",
             "minorgridcolor": "white",
             "startlinecolor": "#2a3f5f"
            },
            "baxis": {
             "endlinecolor": "#2a3f5f",
             "gridcolor": "white",
             "linecolor": "white",
             "minorgridcolor": "white",
             "startlinecolor": "#2a3f5f"
            },
            "type": "carpet"
           }
          ],
          "choropleth": [
           {
            "colorbar": {
             "outlinewidth": 0,
             "ticks": ""
            },
            "type": "choropleth"
           }
          ],
          "contour": [
           {
            "colorbar": {
             "outlinewidth": 0,
             "ticks": ""
            },
            "colorscale": [
             [
              0,
              "#0d0887"
             ],
             [
              0.1111111111111111,
              "#46039f"
             ],
             [
              0.2222222222222222,
              "#7201a8"
             ],
             [
              0.3333333333333333,
              "#9c179e"
             ],
             [
              0.4444444444444444,
              "#bd3786"
             ],
             [
              0.5555555555555556,
              "#d8576b"
             ],
             [
              0.6666666666666666,
              "#ed7953"
             ],
             [
              0.7777777777777778,
              "#fb9f3a"
             ],
             [
              0.8888888888888888,
              "#fdca26"
             ],
             [
              1,
              "#f0f921"
             ]
            ],
            "type": "contour"
           }
          ],
          "contourcarpet": [
           {
            "colorbar": {
             "outlinewidth": 0,
             "ticks": ""
            },
            "type": "contourcarpet"
           }
          ],
          "heatmap": [
           {
            "colorbar": {
             "outlinewidth": 0,
             "ticks": ""
            },
            "colorscale": [
             [
              0,
              "#0d0887"
             ],
             [
              0.1111111111111111,
              "#46039f"
             ],
             [
              0.2222222222222222,
              "#7201a8"
             ],
             [
              0.3333333333333333,
              "#9c179e"
             ],
             [
              0.4444444444444444,
              "#bd3786"
             ],
             [
              0.5555555555555556,
              "#d8576b"
             ],
             [
              0.6666666666666666,
              "#ed7953"
             ],
             [
              0.7777777777777778,
              "#fb9f3a"
             ],
             [
              0.8888888888888888,
              "#fdca26"
             ],
             [
              1,
              "#f0f921"
             ]
            ],
            "type": "heatmap"
           }
          ],
          "heatmapgl": [
           {
            "colorbar": {
             "outlinewidth": 0,
             "ticks": ""
            },
            "colorscale": [
             [
              0,
              "#0d0887"
             ],
             [
              0.1111111111111111,
              "#46039f"
             ],
             [
              0.2222222222222222,
              "#7201a8"
             ],
             [
              0.3333333333333333,
              "#9c179e"
             ],
             [
              0.4444444444444444,
              "#bd3786"
             ],
             [
              0.5555555555555556,
              "#d8576b"
             ],
             [
              0.6666666666666666,
              "#ed7953"
             ],
             [
              0.7777777777777778,
              "#fb9f3a"
             ],
             [
              0.8888888888888888,
              "#fdca26"
             ],
             [
              1,
              "#f0f921"
             ]
            ],
            "type": "heatmapgl"
           }
          ],
          "histogram": [
           {
            "marker": {
             "pattern": {
              "fillmode": "overlay",
              "size": 10,
              "solidity": 0.2
             }
            },
            "type": "histogram"
           }
          ],
          "histogram2d": [
           {
            "colorbar": {
             "outlinewidth": 0,
             "ticks": ""
            },
            "colorscale": [
             [
              0,
              "#0d0887"
             ],
             [
              0.1111111111111111,
              "#46039f"
             ],
             [
              0.2222222222222222,
              "#7201a8"
             ],
             [
              0.3333333333333333,
              "#9c179e"
             ],
             [
              0.4444444444444444,
              "#bd3786"
             ],
             [
              0.5555555555555556,
              "#d8576b"
             ],
             [
              0.6666666666666666,
              "#ed7953"
             ],
             [
              0.7777777777777778,
              "#fb9f3a"
             ],
             [
              0.8888888888888888,
              "#fdca26"
             ],
             [
              1,
              "#f0f921"
             ]
            ],
            "type": "histogram2d"
           }
          ],
          "histogram2dcontour": [
           {
            "colorbar": {
             "outlinewidth": 0,
             "ticks": ""
            },
            "colorscale": [
             [
              0,
              "#0d0887"
             ],
             [
              0.1111111111111111,
              "#46039f"
             ],
             [
              0.2222222222222222,
              "#7201a8"
             ],
             [
              0.3333333333333333,
              "#9c179e"
             ],
             [
              0.4444444444444444,
              "#bd3786"
             ],
             [
              0.5555555555555556,
              "#d8576b"
             ],
             [
              0.6666666666666666,
              "#ed7953"
             ],
             [
              0.7777777777777778,
              "#fb9f3a"
             ],
             [
              0.8888888888888888,
              "#fdca26"
             ],
             [
              1,
              "#f0f921"
             ]
            ],
            "type": "histogram2dcontour"
           }
          ],
          "mesh3d": [
           {
            "colorbar": {
             "outlinewidth": 0,
             "ticks": ""
            },
            "type": "mesh3d"
           }
          ],
          "parcoords": [
           {
            "line": {
             "colorbar": {
              "outlinewidth": 0,
              "ticks": ""
             }
            },
            "type": "parcoords"
           }
          ],
          "pie": [
           {
            "automargin": true,
            "type": "pie"
           }
          ],
          "scatter": [
           {
            "fillpattern": {
             "fillmode": "overlay",
             "size": 10,
             "solidity": 0.2
            },
            "type": "scatter"
           }
          ],
          "scatter3d": [
           {
            "line": {
             "colorbar": {
              "outlinewidth": 0,
              "ticks": ""
             }
            },
            "marker": {
             "colorbar": {
              "outlinewidth": 0,
              "ticks": ""
             }
            },
            "type": "scatter3d"
           }
          ],
          "scattercarpet": [
           {
            "marker": {
             "colorbar": {
              "outlinewidth": 0,
              "ticks": ""
             }
            },
            "type": "scattercarpet"
           }
          ],
          "scattergeo": [
           {
            "marker": {
             "colorbar": {
              "outlinewidth": 0,
              "ticks": ""
             }
            },
            "type": "scattergeo"
           }
          ],
          "scattergl": [
           {
            "marker": {
             "colorbar": {
              "outlinewidth": 0,
              "ticks": ""
             }
            },
            "type": "scattergl"
           }
          ],
          "scattermapbox": [
           {
            "marker": {
             "colorbar": {
              "outlinewidth": 0,
              "ticks": ""
             }
            },
            "type": "scattermapbox"
           }
          ],
          "scatterpolar": [
           {
            "marker": {
             "colorbar": {
              "outlinewidth": 0,
              "ticks": ""
             }
            },
            "type": "scatterpolar"
           }
          ],
          "scatterpolargl": [
           {
            "marker": {
             "colorbar": {
              "outlinewidth": 0,
              "ticks": ""
             }
            },
            "type": "scatterpolargl"
           }
          ],
          "scatterternary": [
           {
            "marker": {
             "colorbar": {
              "outlinewidth": 0,
              "ticks": ""
             }
            },
            "type": "scatterternary"
           }
          ],
          "surface": [
           {
            "colorbar": {
             "outlinewidth": 0,
             "ticks": ""
            },
            "colorscale": [
             [
              0,
              "#0d0887"
             ],
             [
              0.1111111111111111,
              "#46039f"
             ],
             [
              0.2222222222222222,
              "#7201a8"
             ],
             [
              0.3333333333333333,
              "#9c179e"
             ],
             [
              0.4444444444444444,
              "#bd3786"
             ],
             [
              0.5555555555555556,
              "#d8576b"
             ],
             [
              0.6666666666666666,
              "#ed7953"
             ],
             [
              0.7777777777777778,
              "#fb9f3a"
             ],
             [
              0.8888888888888888,
              "#fdca26"
             ],
             [
              1,
              "#f0f921"
             ]
            ],
            "type": "surface"
           }
          ],
          "table": [
           {
            "cells": {
             "fill": {
              "color": "#EBF0F8"
             },
             "line": {
              "color": "white"
             }
            },
            "header": {
             "fill": {
              "color": "#C8D4E3"
             },
             "line": {
              "color": "white"
             }
            },
            "type": "table"
           }
          ]
         },
         "layout": {
          "annotationdefaults": {
           "arrowcolor": "#2a3f5f",
           "arrowhead": 0,
           "arrowwidth": 1
          },
          "autotypenumbers": "strict",
          "coloraxis": {
           "colorbar": {
            "outlinewidth": 0,
            "ticks": ""
           }
          },
          "colorscale": {
           "diverging": [
            [
             0,
             "#8e0152"
            ],
            [
             0.1,
             "#c51b7d"
            ],
            [
             0.2,
             "#de77ae"
            ],
            [
             0.3,
             "#f1b6da"
            ],
            [
             0.4,
             "#fde0ef"
            ],
            [
             0.5,
             "#f7f7f7"
            ],
            [
             0.6,
             "#e6f5d0"
            ],
            [
             0.7,
             "#b8e186"
            ],
            [
             0.8,
             "#7fbc41"
            ],
            [
             0.9,
             "#4d9221"
            ],
            [
             1,
             "#276419"
            ]
           ],
           "sequential": [
            [
             0,
             "#0d0887"
            ],
            [
             0.1111111111111111,
             "#46039f"
            ],
            [
             0.2222222222222222,
             "#7201a8"
            ],
            [
             0.3333333333333333,
             "#9c179e"
            ],
            [
             0.4444444444444444,
             "#bd3786"
            ],
            [
             0.5555555555555556,
             "#d8576b"
            ],
            [
             0.6666666666666666,
             "#ed7953"
            ],
            [
             0.7777777777777778,
             "#fb9f3a"
            ],
            [
             0.8888888888888888,
             "#fdca26"
            ],
            [
             1,
             "#f0f921"
            ]
           ],
           "sequentialminus": [
            [
             0,
             "#0d0887"
            ],
            [
             0.1111111111111111,
             "#46039f"
            ],
            [
             0.2222222222222222,
             "#7201a8"
            ],
            [
             0.3333333333333333,
             "#9c179e"
            ],
            [
             0.4444444444444444,
             "#bd3786"
            ],
            [
             0.5555555555555556,
             "#d8576b"
            ],
            [
             0.6666666666666666,
             "#ed7953"
            ],
            [
             0.7777777777777778,
             "#fb9f3a"
            ],
            [
             0.8888888888888888,
             "#fdca26"
            ],
            [
             1,
             "#f0f921"
            ]
           ]
          },
          "colorway": [
           "#636efa",
           "#EF553B",
           "#00cc96",
           "#ab63fa",
           "#FFA15A",
           "#19d3f3",
           "#FF6692",
           "#B6E880",
           "#FF97FF",
           "#FECB52"
          ],
          "font": {
           "color": "#2a3f5f"
          },
          "geo": {
           "bgcolor": "white",
           "lakecolor": "white",
           "landcolor": "#E5ECF6",
           "showlakes": true,
           "showland": true,
           "subunitcolor": "white"
          },
          "hoverlabel": {
           "align": "left"
          },
          "hovermode": "closest",
          "mapbox": {
           "style": "light"
          },
          "paper_bgcolor": "white",
          "plot_bgcolor": "#E5ECF6",
          "polar": {
           "angularaxis": {
            "gridcolor": "white",
            "linecolor": "white",
            "ticks": ""
           },
           "bgcolor": "#E5ECF6",
           "radialaxis": {
            "gridcolor": "white",
            "linecolor": "white",
            "ticks": ""
           }
          },
          "scene": {
           "xaxis": {
            "backgroundcolor": "#E5ECF6",
            "gridcolor": "white",
            "gridwidth": 2,
            "linecolor": "white",
            "showbackground": true,
            "ticks": "",
            "zerolinecolor": "white"
           },
           "yaxis": {
            "backgroundcolor": "#E5ECF6",
            "gridcolor": "white",
            "gridwidth": 2,
            "linecolor": "white",
            "showbackground": true,
            "ticks": "",
            "zerolinecolor": "white"
           },
           "zaxis": {
            "backgroundcolor": "#E5ECF6",
            "gridcolor": "white",
            "gridwidth": 2,
            "linecolor": "white",
            "showbackground": true,
            "ticks": "",
            "zerolinecolor": "white"
           }
          },
          "shapedefaults": {
           "line": {
            "color": "#2a3f5f"
           }
          },
          "ternary": {
           "aaxis": {
            "gridcolor": "white",
            "linecolor": "white",
            "ticks": ""
           },
           "baxis": {
            "gridcolor": "white",
            "linecolor": "white",
            "ticks": ""
           },
           "bgcolor": "#E5ECF6",
           "caxis": {
            "gridcolor": "white",
            "linecolor": "white",
            "ticks": ""
           }
          },
          "title": {
           "x": 0.05
          },
          "xaxis": {
           "automargin": true,
           "gridcolor": "white",
           "linecolor": "white",
           "ticks": "",
           "title": {
            "standoff": 15
           },
           "zerolinecolor": "white",
           "zerolinewidth": 2
          },
          "yaxis": {
           "automargin": true,
           "gridcolor": "white",
           "linecolor": "white",
           "ticks": "",
           "title": {
            "standoff": 15
           },
           "zerolinecolor": "white",
           "zerolinewidth": 2
          }
         }
        },
        "title": {
         "text": "Топ-10 работодателей по предлагаемой средней ЗП"
        },
        "width": 1000,
        "xaxis": {
         "anchor": "y",
         "categoryarray": [
          "Итон",
          "AppQuantum",
          "Дром",
          "Semrush",
          "JSA Group",
          "OVISION",
          "СберЛизинг",
          "КИБЕР-РОМ",
          "Кловер Групп",
          "Dbrain"
         ],
         "categoryorder": "array",
         "domain": [
          0,
          1
         ],
         "title": {
          "text": "Работодатель"
         }
        },
        "yaxis": {
         "anchor": "x",
         "domain": [
          0,
          1
         ],
         "title": {
          "text": "Средняя ЗП"
         }
        }
       }
      }
     },
     "metadata": {},
     "output_type": "display_data"
    }
   ],
   "source": [
    "# текст запроса\n",
    "query_tmp = f'''\n",
    "with\n",
    "    x as (\n",
    "        select\n",
    "            -- выведем название работодателя и среднюю ЗП\n",
    "            (\n",
    "                -- рассчитаем среднюю ЗП вакансии как сумму ОТ+ДО, деленную на 2,\n",
    "                -- при этом если не указано ОТ или ДО,\n",
    "                -- то средняя ЗП вакансии равна оставшемуся значению\n",
    "                coalesce(v.salary_from, v.salary_to) + coalesce(v.salary_to, v.salary_from)\n",
    "            ) / 2 salary_avg,\n",
    "            e.name\n",
    "        -- основная таблица Вакансии, соединяем с Работодателями\n",
    "        from\n",
    "            public.vacancies v\n",
    "            join public.employers e on v.employer_id = e.id\n",
    "        where\n",
    "            (\n",
    "                -- для расчетов используем только записи, где заполнено хотя бы одно из полей\n",
    "                -- с желаемой ЗП ОТ или ДО \n",
    "                v.salary_to is not null\n",
    "                or v.salary_from is not null\n",
    "            )\n",
    "            and (\n",
    "                -- для исключения влияния регистра переводим значения полей в нижний регистр.\n",
    "                -- это блок условий, включающих записи в выборку DS по названию вакансии\n",
    "                lower(v.name) like '%data scientist%'\n",
    "                or lower(v.name) like '%data science%'\n",
    "                or lower(v.name) like '%исследователь данных%'\n",
    "                or v.name like '%ML%'\n",
    "                or lower(v.name) like '%machine learning%'\n",
    "                or lower(v.name) like '%машинн%обучен%'\n",
    "            )\n",
    "            -- исключим вакансии, связанные с HTML\n",
    "            and lower(v.name) not like '%html%'\n",
    "    )\n",
    "select\n",
    "    -- рассчитаем по временной выборке среднюю ЗП с округлением до целых, и требуемый опыт\n",
    "    avg(x.salary_avg) \"Средняя ЗП\",\n",
    "    x.name \"Работодатель\"\n",
    "FROM\n",
    "    x\n",
    "group by\n",
    "    -- для расчета среднего данные будем группировать по работодателю, оставим топ-10\n",
    "    name\n",
    "order by\n",
    "    1 desc\n",
    "limit 10\n",
    "'''\n",
    "result_tmp = pd.read_sql_query(query_tmp, connection)\n",
    "\n",
    "# визуализируем данные\n",
    "fig = px.bar(\n",
    "    data_frame=result_tmp,\n",
    "    x='Работодатель',\n",
    "    y='Средняя ЗП',\n",
    "    color='Работодатель',\n",
    "    text = 'Средняя ЗП',\n",
    "    orientation='v',\n",
    "    height=500, \n",
    "    width=1000,\n",
    "    title='Топ-10 работодателей по предлагаемой средней ЗП'\n",
    ")\n",
    "fig.write_html('graphs/Визуализация_7.html')\n",
    "fig.show();\n"
   ]
  },
  {
   "cell_type": "markdown",
   "id": "8188e2da",
   "metadata": {},
   "source": [
    "*Видно, что в топ-10 работодателей по предлагаемой средней ЗП не вошли работодатели из числа топ-10 по количеству вакансий.*"
   ]
  },
  {
   "cell_type": "markdown",
   "id": "c0ED6fh7wiBT",
   "metadata": {
    "id": "c0ED6fh7wiBT"
   },
   "source": [
    "# Общий вывод по проекту"
   ]
  },
  {
   "attachments": {},
   "cell_type": "markdown",
   "id": "0ebd9341",
   "metadata": {
    "id": "h9B3BL-wwj18"
   },
   "source": [
    "*Проанализировав представленную базу вакансий, в том числе с учетом дополнительно проведенных в юнитах исследованиях,\n",
    "можно сделать следующие выводы:\n",
    "1 Вакансий самих по себе в сфере ИТ и смежных отраслях достаточно много.\n",
    "2 География вакансий обширна, в том числе за счет распространения режима удаленной работы.\n",
    "3 Наиболее \"мощными\" по числу вакансий являются отрасли - финансовая и телеком.\n",
    "4 Для специалистов в области дата-сайенс вакансий скорее не много, но\n",
    "5 Небольшое количество вакансий в области DS вознаграждается высоким ростом ЗП по мере увеличения опыта.*\n",
    "\n",
    "*Продолжить исследование можно было анализом в совокупности базы вакансий и базы резюме, чтобы посмотреть, как соотносится предложение и спрос, какая конкуренция среди работодателей или соискателей.*"
   ]
  }
 ],
 "metadata": {
  "colab": {
   "collapsed_sections": [
    "8d62a9f3-f64e-4fe7-bdac-c4dffa16155e"
   ],
   "provenance": []
  },
  "kernelspec": {
   "display_name": "Python 3 (ipykernel)",
   "language": "python",
   "name": "python3"
  },
  "language_info": {
   "codemirror_mode": {
    "name": "ipython",
    "version": 3
   },
   "file_extension": ".py",
   "mimetype": "text/x-python",
   "name": "python",
   "nbconvert_exporter": "python",
   "pygments_lexer": "ipython3",
   "version": "3.11.1"
  }
 },
 "nbformat": 4,
 "nbformat_minor": 5
}
